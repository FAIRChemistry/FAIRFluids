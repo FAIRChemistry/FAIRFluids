{
 "cells": [
  {
   "cell_type": "markdown",
   "metadata": {},
   "source": [
    "# FAIRFluids Document Creation\n",
    "\n",
    "This notebook demonstrates how to create a FAIRFluidsDocument using the Pydantic XML models defined in `lib.py`.\n",
    "\n",
    "The FAIRFluidsDocument is a structured way to represent fluid data with metadata, compounds, and experimental measurements."
   ]
  },
  {
   "cell_type": "code",
   "execution_count": 14,
   "metadata": {},
   "outputs": [],
   "source": [
    "# Import the FAIRFluids models\n",
    "import sys\n",
    "sys.path.append('/home/sga/Code/FAIRFluids')\n",
    "\n",
    "from FAIRFluids.core.lib import (\n",
    "    FAIRFluidsDocument, Version, Citation, Author, Compound, \n",
    "    Fluid, Property, Property_Group, Variable, Constraint, \n",
    "    NumValue, PropertyValue, VariableValue, ConstraintVariableType,\n",
    "    eTemperature, ePressure, eComponentComposition\n",
    ")"
   ]
  },
  {
   "cell_type": "markdown",
   "metadata": {},
   "source": [
    "## 1. Create a Basic FAIRFluidsDocument\n",
    "\n",
    "Let's start by creating a simple FAIRFluidsDocument with version information."
   ]
  },
  {
   "cell_type": "code",
   "execution_count": 15,
   "metadata": {},
   "outputs": [
    {
     "name": "stdout",
     "output_type": "stream",
     "text": [
      "Version: 1.0\n"
     ]
    }
   ],
   "source": [
    "# Create version information\n",
    "version = Version(versionMajor=1, versionMinor=0)\n",
    "print(f\"Version: {version.versionMajor}.{version.versionMinor}\")"
   ]
  },
  {
   "cell_type": "code",
   "execution_count": 16,
   "metadata": {},
   "outputs": [
    {
     "name": "stdout",
     "output_type": "stream",
     "text": [
      "Document created with 0 compounds and 0 fluids\n"
     ]
    }
   ],
   "source": [
    "# Create a basic FAIRFluidsDocument\n",
    "document = FAIRFluidsDocument(version=version)\n",
    "print(f\"Document created with {len(document.compound)} compounds and {len(document.fluid)} fluids\")"
   ]
  },
  {
   "cell_type": "markdown",
   "metadata": {},
   "source": [
    "## 2. Add Citation Information\n",
    "\n",
    "Let's add citation information to the document."
   ]
  },
  {
   "cell_type": "code",
   "execution_count": 17,
   "metadata": {},
   "outputs": [
    {
     "name": "stdout",
     "output_type": "stream",
     "text": [
      "Citation added with 2 authors\n",
      "  - John Doe\n",
      "  - Jane Smith\n"
     ]
    }
   ],
   "source": [
    "# Create authors\n",
    "author1 = Author(given_name=\"John\", family_name=\"Doe\")\n",
    "author2 = Author(given_name=\"Jane\", family_name=\"Smith\")\n",
    "\n",
    "# Create citation\n",
    "citation = Citation(\n",
    "    Type=\"journal\",\n",
    "    author=[author1, author2]\n",
    ")\n",
    "\n",
    "# Add citation to document\n",
    "document.citation = citation\n",
    "\n",
    "print(f\"Citation added with {len(document.citation.author)} authors\")\n",
    "for author in document.citation.author:\n",
    "    print(f\"  - {author.given_name} {author.family_name}\")"
   ]
  },
  {
   "cell_type": "markdown",
   "metadata": {},
   "source": [
    "## 3. Add Compounds\n",
    "\n",
    "Let's add some compounds to the document. We'll use the helper method `add_to_compound`."
   ]
  },
  {
   "cell_type": "code",
   "execution_count": 18,
   "metadata": {},
   "outputs": [
    {
     "name": "stdout",
     "output_type": "stream",
     "text": [
      "Added 2 compounds:\n",
      "  - Water (ID: H2O_001)\n",
      "  - Methanol (ID: CH3OH_001)\n"
     ]
    }
   ],
   "source": [
    "# Add water compound\n",
    "water = document.add_to_compound(\n",
    "    pubChemID=962,\n",
    "    compund_identifier=\"H2O_001\",\n",
    "    commonName=\"Water\",\n",
    "    name_IUPAC=\"oxidane\",\n",
    "    standard_InChI=\"InChI=1S/H2O/h1H2\",\n",
    "    standard_InChI_key=\"XLYOFNOQVPJJNP-UHFFFAOYSA-N\"\n",
    ")\n",
    "\n",
    "# Add methanol compound\n",
    "methanol = document.add_to_compound(\n",
    "    pubChemID=887,\n",
    "    compund_identifier=\"CH3OH_001\",\n",
    "    commonName=\"Methanol\",\n",
    "    name_IUPAC=\"methanol\",\n",
    "    standard_InChI=\"InChI=1S/CH4O/c1-2/h2H,1H3\",\n",
    "    standard_InChI_key=\"OKKJLVBELUTLKV-UHFFFAOYSA-N\"\n",
    ")\n",
    "\n",
    "print(f\"Added {len(document.compound)} compounds:\")\n",
    "for compound in document.compound:\n",
    "    print(f\"  - {compound.commonName} (ID: {compound.compund_identifier})\")"
   ]
  },
  {
   "cell_type": "markdown",
   "metadata": {},
   "source": [
    "## 4. Add Fluid with Property and Variable Information\n",
    "\n",
    "Now let's add a fluid with property and variable information using the helper method `add_to_fluid`."
   ]
  },
  {
   "cell_type": "code",
   "execution_count": 19,
   "metadata": {},
   "outputs": [
    {
     "name": "stdout",
     "output_type": "stream",
     "text": [
      "Added fluid with 1 fluids\n",
      "Fluid has 1 constraints and numerical values\n"
     ]
    }
   ],
   "source": [
    "# Create property group\n",
    "property_group = Property_Group(\n",
    "    group=\"volumetricProp\",\n",
    "    method=\"experimental\",\n",
    "    property_name=\"Mass Density, kg/m3\"\n",
    ")\n",
    "\n",
    "# Create property\n",
    "property_obj = Property(\n",
    "    propertyID=\"DENSITY_001\",\n",
    "    property_group=property_group\n",
    ")\n",
    "\n",
    "# Create variable (temperature)\n",
    "variable = Variable(\n",
    "    variableID=\"TEMP_001\",\n",
    "    variableType=ConstraintVariableType(e_temperature=eTemperature.TEMPERATURE_K),\n",
    "    variableName=\"Temperature\"\n",
    ")\n",
    "\n",
    "# Create constraint (pressure)\n",
    "constraint = Constraint(\n",
    "    constraint_type=ConstraintVariableType(e_pressure=ePressure.PRESSURE_KPA),\n",
    "    constraint_value=101.325,\n",
    "    constraint_digits=3\n",
    ")\n",
    "\n",
    "# Create numerical values\n",
    "property_value = PropertyValue(\n",
    "    propValue=997.0,\n",
    "    propDigits=3,\n",
    "    uncertainty=0.1\n",
    ")\n",
    "\n",
    "variable_value = VariableValue(\n",
    "    varValue=298.15,\n",
    "    varDigits=2\n",
    ")\n",
    "\n",
    "num_value = NumValue(\n",
    "    propertyValue=property_value,\n",
    "    variableValue=variable_value\n",
    ")\n",
    "\n",
    "# Add fluid to document\n",
    "fluid = document.add_to_fluid(\n",
    "    components=[\"H2O_001\"],  # Reference to water compound\n",
    "    source_doi=\"10.1000/example.doi\",\n",
    "    property=property_obj,\n",
    "    variable=variable,\n",
    "    constraint=[constraint],\n",
    "    num_value=num_value\n",
    ")\n",
    "\n",
    "print(f\"Added fluid with {len(document.fluid)} fluids\")\n",
    "print(f\"Fluid has {len(fluid.constraint)} constraints and numerical values\")"
   ]
  },
  {
   "cell_type": "markdown",
   "metadata": {},
   "source": [
    "## 5. Add a Binary Mixture Fluid\n",
    "\n",
    "Let's add another fluid representing a binary mixture of water and methanol."
   ]
  },
  {
   "cell_type": "code",
   "execution_count": 20,
   "metadata": {},
   "outputs": [
    {
     "name": "stdout",
     "output_type": "stream",
     "text": [
      "Added binary mixture fluid. Total fluids: 2\n"
     ]
    }
   ],
   "source": [
    "# Create property for mixture\n",
    "mixture_property_group = Property_Group(\n",
    "    group=\"volumetricProp\",\n",
    "    method=\"experimental\",\n",
    "    property_name=\"Mass Density, kg/m3\"\n",
    ")\n",
    "\n",
    "mixture_property = Property(\n",
    "    propertyID=\"DENSITY_MIX_001\",\n",
    "    property_group=mixture_property_group\n",
    ")\n",
    "\n",
    "# Create variable for composition\n",
    "composition_variable = Variable(\n",
    "    variableID=\"COMP_001\",\n",
    "    variableType=ConstraintVariableType(e_component_composition=eComponentComposition.MOLE_FRACTION),\n",
    "    variableName=\"Mole Fraction of Methanol\",\n",
    "    componentID=1  # Reference to methanol\n",
    ")\n",
    "\n",
    "# Create temperature variable\n",
    "temp_variable = Variable(\n",
    "    variableID=\"TEMP_MIX_001\",\n",
    "    variableType=ConstraintVariableType(e_temperature=eTemperature.TEMPERATURE_K),\n",
    "    variableName=\"Temperature\"\n",
    ")\n",
    "\n",
    "# Create constraints\n",
    "pressure_constraint = Constraint(\n",
    "    constraint_type=ConstraintVariableType(e_pressure=ePressure.PRESSURE_KPA),\n",
    "    constraint_value=101.325,\n",
    "    constraint_digits=3\n",
    ")\n",
    "\n",
    "# Create numerical values for mixture\n",
    "mixture_property_value = PropertyValue(\n",
    "    propValue=950.5,\n",
    "    propDigits=3,\n",
    "    uncertainty=0.2\n",
    ")\n",
    "\n",
    "composition_value = VariableValue(\n",
    "    varValue=0.25,  # 25% methanol\n",
    "    varDigits=2\n",
    ")\n",
    "\n",
    "temp_value = VariableValue(\n",
    "    varValue=298.15,\n",
    "    varDigits=2\n",
    ")\n",
    "\n",
    "mixture_num_value = NumValue(\n",
    "    propertyValue=mixture_property_value,\n",
    "    variableValue=composition_value  # Note: Only one variable value can be set\n",
    ")\n",
    "\n",
    "# Add mixture fluid\n",
    "mixture_fluid = document.add_to_fluid(\n",
    "    components=[\"H2O_001\", \"CH3OH_001\"],  # Water and methanol\n",
    "    source_doi=\"10.1000/mixture.example.doi\",\n",
    "    property=mixture_property,\n",
    "    variable=composition_variable,\n",
    "    constraint=[pressure_constraint],\n",
    "    num_value=mixture_num_value\n",
    ")\n",
    "\n",
    "print(f\"Added binary mixture fluid. Total fluids: {len(document.fluid)}\")"
   ]
  },
  {
   "cell_type": "markdown",
   "metadata": {},
   "source": [
    "## 6. Display Document Summary\n",
    "\n",
    "Let's see a summary of what we've created."
   ]
  },
  {
   "cell_type": "code",
   "execution_count": 21,
   "metadata": {},
   "outputs": [
    {
     "name": "stdout",
     "output_type": "stream",
     "text": [
      "=== FAIRFluids Document Summary ===\n",
      "Version: 1.0\n",
      "Citation Type: journal\n",
      "Number of Authors: 2\n",
      "Number of Compounds: 2\n",
      "Number of Fluids: 2\n",
      "\n",
      "=== Compounds ===\n",
      "1. Water (H2O_001)\n",
      "   PubChem ID: 962\n",
      "   IUPAC Name: oxidane\n",
      "2. Methanol (CH3OH_001)\n",
      "   PubChem ID: 887\n",
      "   IUPAC Name: methanol\n",
      "\n",
      "=== Fluids ===\n",
      "1. Components: ['H2O_001']\n",
      "   Property: Mass Density, kg/m3\n",
      "   Variable: Temperature\n",
      "   Constraints: 1\n",
      "   Property Value: 997.0 ± 0.1\n",
      "2. Components: ['H2O_001', 'CH3OH_001']\n",
      "   Property: Mass Density, kg/m3\n",
      "   Variable: Mole Fraction of Methanol\n",
      "   Constraints: 1\n",
      "   Property Value: 950.5 ± 0.2\n"
     ]
    }
   ],
   "source": [
    "print(\"=== FAIRFluids Document Summary ===\")\n",
    "print(f\"Version: {document.version.versionMajor}.{document.version.versionMinor}\")\n",
    "print(f\"Citation Type: {document.citation.Type}\")\n",
    "print(f\"Number of Authors: {len(document.citation.author)}\")\n",
    "print(f\"Number of Compounds: {len(document.compound)}\")\n",
    "print(f\"Number of Fluids: {len(document.fluid)}\")\n",
    "\n",
    "print(\"\\n=== Compounds ===\")\n",
    "for i, compound in enumerate(document.compound, 1):\n",
    "    print(f\"{i}. {compound.commonName} ({compound.compund_identifier})\")\n",
    "    print(f\"   PubChem ID: {compound.pubChemID}\")\n",
    "    print(f\"   IUPAC Name: {compound.name_IUPAC}\")\n",
    "\n",
    "print(\"\\n=== Fluids ===\")\n",
    "for i, fluid in enumerate(document.fluid, 1):\n",
    "    print(f\"{i}. Components: {fluid.components}\")\n",
    "    print(f\"   Property: {fluid.property.property_group.property_name}\")\n",
    "    print(f\"   Variable: {fluid.variable.variableName}\")\n",
    "    print(f\"   Constraints: {len(fluid.constraint)}\")\n",
    "    if fluid.num_value and fluid.num_value.propertyValue:\n",
    "        print(f\"   Property Value: {fluid.num_value.propertyValue.propValue} ± {fluid.num_value.propertyValue.uncertainty}\")"
   ]
  },
  {
   "cell_type": "markdown",
   "metadata": {},
   "source": [
    "## 7. Export to XML\n",
    "\n",
    "Finally, let's export our document to XML format."
   ]
  },
  {
   "cell_type": "code",
   "execution_count": 22,
   "metadata": {},
   "outputs": [
    {
     "ename": "NameError",
     "evalue": "name 'model' is not defined",
     "output_type": "error",
     "traceback": [
      "\u001b[31m---------------------------------------------------------------------------\u001b[39m",
      "\u001b[31mNameError\u001b[39m                                 Traceback (most recent call last)",
      "\u001b[36mCell\u001b[39m\u001b[36m \u001b[39m\u001b[32mIn[22]\u001b[39m\u001b[32m, line 1\u001b[39m\n\u001b[32m----> \u001b[39m\u001b[32m1\u001b[39m model.dump_json()\n",
      "\u001b[31mNameError\u001b[39m: name 'model' is not defined"
     ]
    }
   ],
   "source": [
    "model.dump_json()"
   ]
  },
  {
   "cell_type": "code",
   "execution_count": 20,
   "metadata": {},
   "outputs": [
    {
     "ename": "NameError",
     "evalue": "name 'xml_string' is not defined",
     "output_type": "error",
     "traceback": [
      "\u001b[31m---------------------------------------------------------------------------\u001b[39m",
      "\u001b[31mNameError\u001b[39m                                 Traceback (most recent call last)",
      "\u001b[36mCell\u001b[39m\u001b[36m \u001b[39m\u001b[32mIn[20]\u001b[39m\u001b[32m, line 3\u001b[39m\n\u001b[32m      1\u001b[39m \u001b[38;5;66;03m# Save to file\u001b[39;00m\n\u001b[32m      2\u001b[39m \u001b[38;5;28;01mwith\u001b[39;00m \u001b[38;5;28mopen\u001b[39m(\u001b[33m'\u001b[39m\u001b[33mfairfluids_document.xml\u001b[39m\u001b[33m'\u001b[39m, \u001b[33m'\u001b[39m\u001b[33mw\u001b[39m\u001b[33m'\u001b[39m) \u001b[38;5;28;01mas\u001b[39;00m f:\n\u001b[32m----> \u001b[39m\u001b[32m3\u001b[39m     f.write(xml_string)\n\u001b[32m      5\u001b[39m \u001b[38;5;28mprint\u001b[39m(\u001b[33m\"\u001b[39m\u001b[33mXML document saved to \u001b[39m\u001b[33m'\u001b[39m\u001b[33mfairfluids_document.xml\u001b[39m\u001b[33m'\u001b[39m\u001b[33m\"\u001b[39m)\n",
      "\u001b[31mNameError\u001b[39m: name 'xml_string' is not defined"
     ]
    }
   ],
   "source": [
    "# Save to file\n",
    "with open('fairfluids_document.xml', 'w') as f:\n",
    "    f.write(xml_string)\n",
    "\n",
    "print(\"XML document saved to 'fairfluids_document.xml'\")"
   ]
  },
  {
   "cell_type": "markdown",
   "metadata": {},
   "source": [
    "## 8. Validation and Error Handling\n",
    "\n",
    "Let's demonstrate some validation features and error handling."
   ]
  },
  {
   "cell_type": "code",
   "execution_count": 20,
   "metadata": {},
   "outputs": [
    {
     "name": "stdout",
     "output_type": "stream",
     "text": [
      "Validation error caught: 2 validation errors for Author\n",
      "given_name\n",
      "  Field required [type=missing, input_value={}, input_type=dict]\n",
      "    For further information visit https://errors.pydantic.dev/2.10/v/missing\n",
      "family_name\n",
      "  Field required [type=missing, input_value={}, input_type=dict]\n",
      "    For further information visit https://errors.pydantic.dev/2.10/v/missing\n",
      "Valid author created: Test User\n"
     ]
    }
   ],
   "source": [
    "# Try to create an invalid document (missing required fields)\n",
    "try:\n",
    "    # This should fail because Author requires given_name and family_name\n",
    "    invalid_author = Author()\n",
    "except Exception as e:\n",
    "    print(f\"Validation error caught: {e}\")\n",
    "\n",
    "# Create a valid author\n",
    "valid_author = Author(given_name=\"Test\", family_name=\"User\")\n",
    "print(f\"Valid author created: {valid_author.given_name} {valid_author.family_name}\")"
   ]
  },
  {
   "cell_type": "markdown",
   "metadata": {},
   "source": [
    "## Summary\n",
    "\n",
    "This notebook demonstrates:\n",
    "\n",
    "1. **Importing the FAIRFluids models** from `specifications.lib`\n",
    "2. **Creating a FAIRFluidsDocument** with version information\n",
    "3. **Adding citation information** with authors\n",
    "4. **Adding compounds** with metadata (PubChem ID, IUPAC names, etc.)\n",
    "5. **Creating fluids** with properties, variables, and constraints\n",
    "6. **Adding numerical values** for measurements\n",
    "7. **Exporting to XML** format\n",
    "8. **Validation** and error handling\n",
    "\n",
    "The FAIRFluidsDocument provides a structured way to represent fluid data that is:\n",
    "- **Findable**: Well-organized metadata\n",
    "- **Accessible**: Standard XML format\n",
    "- **Interoperable**: Consistent schema\n",
    "- **Reusable**: Rich metadata and provenance information"
   ]
  }
 ],
 "metadata": {
  "kernelspec": {
   "display_name": "xyz",
   "language": "python",
   "name": "python3"
  },
  "language_info": {
   "codemirror_mode": {
    "name": "ipython",
    "version": 3
   },
   "file_extension": ".py",
   "mimetype": "text/x-python",
   "name": "python",
   "nbconvert_exporter": "python",
   "pygments_lexer": "ipython3",
   "version": "3.13.2"
  }
 },
 "nbformat": 4,
 "nbformat_minor": 4
}
