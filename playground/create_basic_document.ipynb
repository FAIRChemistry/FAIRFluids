{
 "cells": [
  {
   "cell_type": "markdown",
   "metadata": {},
   "source": [
    "# FAIRFluids Document Creation\n",
    "\n",
    "This notebook demonstrates how to create a FAIRFluidsDocument using the Pydantic XML models defined in `lib.py`.\n",
    "\n",
    "The FAIRFluidsDocument is a structured way to represent fluid data with metadata, compounds, and experimental measurements."
   ]
  },
  {
   "cell_type": "code",
   "execution_count": 1,
   "metadata": {},
   "outputs": [],
   "source": [
    "# Import the FAIRFluids models\n",
    "import sys\n",
    "sys.path.append('/home/sga/Code/FAIRFluids')\n",
    "\n",
    "from FAIRFluids.core.lib import (\n",
    "    FAIRFluidsDocument, Version, Citation, Author, Compound, \n",
    "    Fluid, Property, PropertyValue, Parameter, ParameterValue, Properties, Parameters\n",
    ")"
   ]
  },
  {
   "cell_type": "markdown",
   "metadata": {},
   "source": [
    "## 1. Create a Basic FAIRFluidsDocument\n",
    "\n",
    "Let's start by creating a simple FAIRFluidsDocument with version information."
   ]
  },
  {
   "cell_type": "code",
   "execution_count": 2,
   "metadata": {},
   "outputs": [
    {
     "name": "stdout",
     "output_type": "stream",
     "text": [
      "Version: 1.0\n"
     ]
    }
   ],
   "source": [
    "# Create version information\n",
    "version = Version(versionMajor=1, versionMinor=0)\n",
    "print(f\"Version: {version.versionMajor}.{version.versionMinor}\")"
   ]
  },
  {
   "cell_type": "code",
   "execution_count": 3,
   "metadata": {},
   "outputs": [
    {
     "name": "stdout",
     "output_type": "stream",
     "text": [
      "Document created with 0 compounds and 0 fluids\n"
     ]
    }
   ],
   "source": [
    "# Create a basic FAIRFluidsDocument\n",
    "document = FAIRFluidsDocument(version=version)\n",
    "print(f\"Document created with {len(document.compound)} compounds and {len(document.fluid)} fluids\")"
   ]
  },
  {
   "cell_type": "markdown",
   "metadata": {},
   "source": [
    "## 2. Add Citation Information\n",
    "\n",
    "Let's add citation information to the document."
   ]
  },
  {
   "cell_type": "code",
   "execution_count": 4,
   "metadata": {},
   "outputs": [
    {
     "name": "stdout",
     "output_type": "stream",
     "text": [
      "Citation added with 2 authors\n",
      "  - John Doe\n",
      "  - Jane Smith\n"
     ]
    }
   ],
   "source": [
    "# Create authors\n",
    "author1 = Author(given_name=\"John\", family_name=\"Doe\")\n",
    "author2 = Author(given_name=\"Jane\", family_name=\"Smith\")\n",
    "\n",
    "# Create citation\n",
    "citation = Citation(\n",
    "    Type=\"journal\",\n",
    "    author=[author1, author2]\n",
    ")\n",
    "\n",
    "# Add citation to document\n",
    "document.citation = citation\n",
    "\n",
    "print(f\"Citation added with {len(document.citation.author)} authors\")\n",
    "for author in document.citation.author:\n",
    "    print(f\"  - {author.given_name} {author.family_name}\")"
   ]
  },
  {
   "cell_type": "markdown",
   "metadata": {},
   "source": [
    "## 3. Add Compounds\n",
    "\n",
    "Let's add some compounds to the document. We'll use the helper method `add_to_compound`."
   ]
  },
  {
   "cell_type": "code",
   "execution_count": 5,
   "metadata": {},
   "outputs": [
    {
     "name": "stdout",
     "output_type": "stream",
     "text": [
      "Added 3 compounds:\n",
      "  - Water (ID: H2O_001)\n",
      "  - glycerol (ID: glycerol_001)\n",
      "  - Urea (ID: urea_001)\n"
     ]
    }
   ],
   "source": [
    "# Add water compound\n",
    "water = document.add_to_compound(\n",
    "    pubChemID=962,\n",
    "    compoundID=\"H2O_001\",\n",
    "    commonName=\"Water\",\n",
    "    name_IUPAC=\"oxidane\",\n",
    "    standard_InChI=\"InChI=1S/H2O/h1H2\",\n",
    "    standard_InChI_key=\"XLYOFNOQVPJJNP-UHFFFAOYSA-N\"\n",
    ")\n",
    "\n",
    "# Add glycerol compound\n",
    "glycerol  = document.add_to_compound(\n",
    "    pubChemID=887,\n",
    "    compoundID=\"glycerol_001\",\n",
    "    commonName=\"glycerol\",\n",
    "    name_IUPAC=\"glycerol\",\n",
    "    standard_InChI=\"InChI=1S/C3H8O3/c1-2(4)3(5)6/h2,4H,1H3\",\n",
    "    standard_InChI_key=\"QVZKZJYZQYZQYZ-UHFFFAOYSA-N\"\n",
    ")\n",
    "\n",
    "urea = document.add_to_compound(\n",
    "    pubChemID=14797,\n",
    "    compoundID=\"urea_001\",\n",
    "    commonName=\"Urea\",\n",
    "    name_IUPAC=\"Urea\",\n",
    "    standard_InChI=\"InChI=1S/C02H06N02/c3-1-2-4/h1-2H2\",\n",
    "    standard_InChI_key=\"QVZKZJYZQYZQYZ-UHFFFAOYSA-N\"\n",
    ")\n",
    "\n",
    "print(f\"Added {len(document.compound)} compounds:\")\n",
    "for compound in document.compound:\n",
    "    print(f\"  - {compound.commonName} (ID: {compound.compoundID})\")"
   ]
  },
  {
   "cell_type": "markdown",
   "metadata": {},
   "source": [
    "## 4. Add Fluid with Property and Variable Information\n",
    "\n",
    "Now let's add a fluid with property and variable information using the helper method `add_to_fluid`."
   ]
  },
  {
   "cell_type": "code",
   "execution_count": 6,
   "metadata": {},
   "outputs": [
    {
     "name": "stdout",
     "output_type": "stream",
     "text": [
      "Added 3 compounds:\n",
      "  - Water (ID: H2O_001)\n",
      "  - glycerol (ID: glycerol_001)\n",
      "  - Urea (ID: urea_001)\n"
     ]
    }
   ],
   "source": [
    "print(f\"Added {len(document.compound)} compounds:\")\n",
    "for compound in document.compound:\n",
    "    print(f\"  - {compound.commonName} (ID: {compound.compoundID})\")"
   ]
  },
  {
   "cell_type": "code",
   "execution_count": 7,
   "metadata": {},
   "outputs": [],
   "source": [
    "# Create property group\n",
    "viscosity = Property(\n",
    "    propertyID=\"viscosity\",\n",
    "    properties=Properties.VISCOSITY\n",
    ")"
   ]
  },
  {
   "cell_type": "code",
   "execution_count": 8,
   "metadata": {},
   "outputs": [],
   "source": [
    "molar_ratio_urea = Parameter(\n",
    "    parameterID=\"molar_ratio_urea\",\n",
    "    parameter=Parameters.MOLE_FRACTION,\n",
    "    associated_compound=\"urea_001\"\n",
    ")\n",
    "\n",
    "molar_ratio_glycerol = Parameter(\n",
    "    parameterID=\"molar_ratio_glycerol\",\n",
    "    parameter=Parameters.MOLE_FRACTION,\n",
    "    associated_compound=\"glycerol_001\"\n",
    ")\n",
    "\n",
    "molar_ratio_water = Parameter(\n",
    "    parameterID=\"molar_ratio_water\",\n",
    "    parameter=Parameters.MOLE_FRACTION,\n",
    "    associated_compound=\"H2O_001\"\n",
    ")\n",
    "\n",
    "temperature = Parameter(\n",
    "    parameterID=\"temperature\",\n",
    "    parameter=Parameters.TEMPERATURE_K,\n",
    "    associated_compound=None\n",
    ")\n"
   ]
  },
  {
   "cell_type": "code",
   "execution_count": null,
   "metadata": {},
   "outputs": [
    {
     "ename": "AttributeError",
     "evalue": "'FAIRFluidsDocument' object has no attribute 'add_to_measurement'",
     "output_type": "error",
     "traceback": [
      "\u001b[31m---------------------------------------------------------------------------\u001b[39m",
      "\u001b[31mAttributeError\u001b[39m                            Traceback (most recent call last)",
      "\u001b[36mCell\u001b[39m\u001b[36m \u001b[39m\u001b[32mIn[37]\u001b[39m\u001b[32m, line 22\u001b[39m\n\u001b[32m     10\u001b[39m         m1 = Measurement(\n\u001b[32m     11\u001b[39m             source_doi = \u001b[33m\"\u001b[39m\u001b[33m10.1000/example.doi\u001b[39m\u001b[33m\"\u001b[39m,\n\u001b[32m     12\u001b[39m             propertyValue = PropertyValue(propValue=\u001b[38;5;28mself\u001b[39m.viscosity, propDigits=\u001b[32m3\u001b[39m, uncertainty=\u001b[32m0.1\u001b[39m),\n\u001b[32m   (...)\u001b[39m\u001b[32m     15\u001b[39m             method_description = \u001b[33m\"\u001b[39m\u001b[33mviscosity measurement\u001b[39m\u001b[33m\"\u001b[39m\n\u001b[32m     16\u001b[39m         )\n\u001b[32m     17\u001b[39m         document.add_to_measurement(m1)\n\u001b[32m---> \u001b[39m\u001b[32m22\u001b[39m document.add_to_measurement(m1)\n\u001b[32m     23\u001b[39m \u001b[38;5;28mprint\u001b[39m(\u001b[33mf\u001b[39m\u001b[33m\"\u001b[39m\u001b[33mAdded fluid with \u001b[39m\u001b[38;5;132;01m{\u001b[39;00m\u001b[38;5;28mlen\u001b[39m(document.fluid)\u001b[38;5;132;01m}\u001b[39;00m\u001b[33m fluids\u001b[39m\u001b[33m\"\u001b[39m)\n\u001b[32m     24\u001b[39m \u001b[38;5;28mprint\u001b[39m(\u001b[33mf\u001b[39m\u001b[33m\"\u001b[39m\u001b[33mFluid has \u001b[39m\u001b[38;5;132;01m{\u001b[39;00m\u001b[38;5;28mlen\u001b[39m(reline.parameter)\u001b[38;5;132;01m}\u001b[39;00m\u001b[33m parameters\u001b[39m\u001b[33m\"\u001b[39m)\n",
      "\u001b[36mFile \u001b[39m\u001b[32m~/Applications/miniconda3/envs/xyz/lib/python3.13/site-packages/pydantic/main.py:991\u001b[39m, in \u001b[36mBaseModel.__getattr__\u001b[39m\u001b[34m(self, item)\u001b[39m\n\u001b[32m    988\u001b[39m     \u001b[38;5;28;01mreturn\u001b[39;00m \u001b[38;5;28msuper\u001b[39m().\u001b[34m__getattribute__\u001b[39m(item)  \u001b[38;5;66;03m# Raises AttributeError if appropriate\u001b[39;00m\n\u001b[32m    989\u001b[39m \u001b[38;5;28;01melse\u001b[39;00m:\n\u001b[32m    990\u001b[39m     \u001b[38;5;66;03m# this is the current error\u001b[39;00m\n\u001b[32m--> \u001b[39m\u001b[32m991\u001b[39m     \u001b[38;5;28;01mraise\u001b[39;00m \u001b[38;5;167;01mAttributeError\u001b[39;00m(\u001b[33mf\u001b[39m\u001b[33m'\u001b[39m\u001b[38;5;132;01m{\u001b[39;00m\u001b[38;5;28mtype\u001b[39m(\u001b[38;5;28mself\u001b[39m).\u001b[34m__name__\u001b[39m\u001b[38;5;132;01m!r}\u001b[39;00m\u001b[33m object has no attribute \u001b[39m\u001b[38;5;132;01m{\u001b[39;00mitem\u001b[38;5;132;01m!r}\u001b[39;00m\u001b[33m'\u001b[39m)\n",
      "\u001b[31mAttributeError\u001b[39m: 'FAIRFluidsDocument' object has no attribute 'add_to_measurement'"
     ]
    }
   ],
   "source": [
    "# Add fluid to document\n",
    "reline = Fluid(\n",
    "    components=[\"H2O_001\", \"urea_001\", \"glycerol_001\"],  # Reference to water compound\n",
    "    property=[viscosity],\n",
    "    parameter=[molar_ratio_urea, molar_ratio_glycerol, molar_ratio_water, temperature]\n",
    ")\n",
    "\n",
    "class Fluid(Fluid):\n",
    "    def add_measurement_from_cml(self, document, path_to_cml=str, des1=Parameter, des2=Parameter, water_id=Parameter):\n",
    "        \n",
    "\n",
    "Fluid.add_measurement_from_cml(document, \"data/cml_xml/ChCl_glycerol.xml\", des1, des2, water_id)\n",
    "\n",
    "\n",
    "document.add_to_measurement(m1)\n",
    "print(f\"Added fluid with {len(document.fluid)} fluids\")\n",
    "print(f\"Fluid has {len(reline.parameter)} parameters\")"
   ]
  },
  {
   "cell_type": "markdown",
   "metadata": {},
   "source": [
    "## 5. Add a Binary Mixture Fluid\n",
    "\n",
    "Let's add another fluid representing a binary mixture of water and methanol."
   ]
  },
  {
   "cell_type": "code",
   "execution_count": null,
   "metadata": {},
   "outputs": [
    {
     "name": "stdout",
     "output_type": "stream",
     "text": [
      "Added binary mixture fluid. Total fluids: 2\n"
     ]
    }
   ],
   "source": [
    "# Create property for mixture\n",
    "mixture_property_group = Property_Group(\n",
    "    group=\"volumetricProp\",\n",
    "    method=\"experimental\",\n",
    "    property_name=\"Mass Density, kg/m3\"\n",
    ")\n",
    "\n",
    "mixture_property = Property(\n",
    "    propertyID=\"DENSITY_MIX_001\",\n",
    "    property_group=mixture_property_group\n",
    ")\n",
    "\n",
    "# Create variable for composition\n",
    "composition_variable = Variable(\n",
    "    variableID=\"COMP_001\",\n",
    "    variableType=ConstraintVariableType(e_component_composition=eComponentComposition.MOLE_FRACTION),\n",
    "    variableName=\"Mole Fraction of Methanol\",\n",
    "    componentID=1  # Reference to methanol\n",
    ")\n",
    "\n",
    "# Create temperature variable\n",
    "temp_variable = Variable(\n",
    "    variableID=\"TEMP_MIX_001\",\n",
    "    variableType=ConstraintVariableType(e_temperature=eTemperature.TEMPERATURE_K),\n",
    "    variableName=\"Temperature\"\n",
    ")\n",
    "\n",
    "# Create constraints\n",
    "pressure_constraint = Constraint(\n",
    "    constraint_type=ConstraintVariableType(e_pressure=ePressure.PRESSURE_KPA),\n",
    "    constraint_value=101.325,\n",
    "    constraint_digits=3\n",
    ")\n",
    "\n",
    "# Create numerical values for mixture\n",
    "mixture_property_value = PropertyValue(\n",
    "    propValue=950.5,\n",
    "    propDigits=3,\n",
    "    uncertainty=0.2\n",
    ")\n",
    "\n",
    "composition_value = VariableValue(\n",
    "    varValue=0.25,  # 25% methanol\n",
    "    varDigits=2\n",
    ")\n",
    "\n",
    "temp_value = VariableValue(\n",
    "    varValue=298.15,\n",
    "    varDigits=2\n",
    ")\n",
    "\n",
    "mixture_num_value = NumValue(\n",
    "    propertyValue=mixture_property_value,\n",
    "    variableValue=composition_value  # Note: Only one variable value can be set\n",
    ")\n",
    "\n",
    "# Add mixture fluid\n",
    "mixture_fluid = document.add_to_fluid(\n",
    "    components=[\"H2O_001\", \"CH3OH_001\"],  # Water and methanol\n",
    "    source_doi=\"10.1000/mixture.example.doi\",\n",
    "    property=mixture_property,\n",
    "    variable=composition_variable,\n",
    "    constraint=[pressure_constraint],\n",
    "    num_value=mixture_num_value\n",
    ")\n",
    "\n",
    "print(f\"Added binary mixture fluid. Total fluids: {len(document.fluid)}\")"
   ]
  },
  {
   "cell_type": "markdown",
   "metadata": {},
   "source": [
    "## 6. Display Document Summary\n",
    "\n",
    "Let's see a summary of what we've created."
   ]
  },
  {
   "cell_type": "code",
   "execution_count": null,
   "metadata": {},
   "outputs": [
    {
     "name": "stdout",
     "output_type": "stream",
     "text": [
      "=== FAIRFluids Document Summary ===\n",
      "Version: 1.0\n",
      "Citation Type: journal\n",
      "Number of Authors: 2\n",
      "Number of Compounds: 2\n",
      "Number of Fluids: 2\n",
      "\n",
      "=== Compounds ===\n",
      "1. Water (H2O_001)\n",
      "   PubChem ID: 962\n",
      "   IUPAC Name: oxidane\n",
      "2. Methanol (CH3OH_001)\n",
      "   PubChem ID: 887\n",
      "   IUPAC Name: methanol\n",
      "\n",
      "=== Fluids ===\n",
      "1. Components: ['H2O_001']\n",
      "   Property: Mass Density, kg/m3\n",
      "   Variable: Temperature\n",
      "   Constraints: 1\n",
      "   Property Value: 997.0 ± 0.1\n",
      "2. Components: ['H2O_001', 'CH3OH_001']\n",
      "   Property: Mass Density, kg/m3\n",
      "   Variable: Mole Fraction of Methanol\n",
      "   Constraints: 1\n",
      "   Property Value: 950.5 ± 0.2\n"
     ]
    }
   ],
   "source": [
    "print(\"=== FAIRFluids Document Summary ===\")\n",
    "print(f\"Version: {document.version.versionMajor}.{document.version.versionMinor}\")\n",
    "print(f\"Citation Type: {document.citation.Type}\")\n",
    "print(f\"Number of Authors: {len(document.citation.author)}\")\n",
    "print(f\"Number of Compounds: {len(document.compound)}\")\n",
    "print(f\"Number of Fluids: {len(document.fluid)}\")\n",
    "\n",
    "print(\"\\n=== Compounds ===\")\n",
    "for i, compound in enumerate(document.compound, 1):\n",
    "    print(f\"{i}. {compound.commonName} ({compound.compund_identifier})\")\n",
    "    print(f\"   PubChem ID: {compound.pubChemID}\")\n",
    "    print(f\"   IUPAC Name: {compound.name_IUPAC}\")\n",
    "\n",
    "print(\"\\n=== Fluids ===\")\n",
    "for i, fluid in enumerate(document.fluid, 1):\n",
    "    print(f\"{i}. Components: {fluid.components}\")\n",
    "    print(f\"   Property: {fluid.property.property_group.property_name}\")\n",
    "    print(f\"   Variable: {fluid.variable.variableName}\")\n",
    "    print(f\"   Constraints: {len(fluid.constraint)}\")\n",
    "    if fluid.num_value and fluid.num_value.propertyValue:\n",
    "        print(f\"   Property Value: {fluid.num_value.propertyValue.propValue} ± {fluid.num_value.propertyValue.uncertainty}\")"
   ]
  },
  {
   "cell_type": "markdown",
   "metadata": {},
   "source": [
    "## 7. Export to XML\n",
    "\n",
    "Finally, let's export our document to XML format."
   ]
  },
  {
   "cell_type": "code",
   "execution_count": null,
   "metadata": {},
   "outputs": [
    {
     "ename": "NameError",
     "evalue": "name 'model' is not defined",
     "output_type": "error",
     "traceback": [
      "\u001b[31m---------------------------------------------------------------------------\u001b[39m",
      "\u001b[31mNameError\u001b[39m                                 Traceback (most recent call last)",
      "\u001b[36mCell\u001b[39m\u001b[36m \u001b[39m\u001b[32mIn[22]\u001b[39m\u001b[32m, line 1\u001b[39m\n\u001b[32m----> \u001b[39m\u001b[32m1\u001b[39m model.dump_json()\n",
      "\u001b[31mNameError\u001b[39m: name 'model' is not defined"
     ]
    }
   ],
   "source": [
    "model.dump_json()"
   ]
  },
  {
   "cell_type": "code",
   "execution_count": null,
   "metadata": {},
   "outputs": [
    {
     "ename": "NameError",
     "evalue": "name 'xml_string' is not defined",
     "output_type": "error",
     "traceback": [
      "\u001b[31m---------------------------------------------------------------------------\u001b[39m",
      "\u001b[31mNameError\u001b[39m                                 Traceback (most recent call last)",
      "\u001b[36mCell\u001b[39m\u001b[36m \u001b[39m\u001b[32mIn[20]\u001b[39m\u001b[32m, line 3\u001b[39m\n\u001b[32m      1\u001b[39m \u001b[38;5;66;03m# Save to file\u001b[39;00m\n\u001b[32m      2\u001b[39m \u001b[38;5;28;01mwith\u001b[39;00m \u001b[38;5;28mopen\u001b[39m(\u001b[33m'\u001b[39m\u001b[33mfairfluids_document.xml\u001b[39m\u001b[33m'\u001b[39m, \u001b[33m'\u001b[39m\u001b[33mw\u001b[39m\u001b[33m'\u001b[39m) \u001b[38;5;28;01mas\u001b[39;00m f:\n\u001b[32m----> \u001b[39m\u001b[32m3\u001b[39m     f.write(xml_string)\n\u001b[32m      5\u001b[39m \u001b[38;5;28mprint\u001b[39m(\u001b[33m\"\u001b[39m\u001b[33mXML document saved to \u001b[39m\u001b[33m'\u001b[39m\u001b[33mfairfluids_document.xml\u001b[39m\u001b[33m'\u001b[39m\u001b[33m\"\u001b[39m)\n",
      "\u001b[31mNameError\u001b[39m: name 'xml_string' is not defined"
     ]
    }
   ],
   "source": [
    "# Save to file\n",
    "with open('fairfluids_document.xml', 'w') as f:\n",
    "    f.write(xml_string)\n",
    "\n",
    "print(\"XML document saved to 'fairfluids_document.xml'\")"
   ]
  },
  {
   "cell_type": "markdown",
   "metadata": {},
   "source": [
    "## 8. Validation and Error Handling\n",
    "\n",
    "Let's demonstrate some validation features and error handling."
   ]
  },
  {
   "cell_type": "code",
   "execution_count": null,
   "metadata": {},
   "outputs": [
    {
     "name": "stdout",
     "output_type": "stream",
     "text": [
      "Validation error caught: 2 validation errors for Author\n",
      "given_name\n",
      "  Field required [type=missing, input_value={}, input_type=dict]\n",
      "    For further information visit https://errors.pydantic.dev/2.10/v/missing\n",
      "family_name\n",
      "  Field required [type=missing, input_value={}, input_type=dict]\n",
      "    For further information visit https://errors.pydantic.dev/2.10/v/missing\n",
      "Valid author created: Test User\n"
     ]
    }
   ],
   "source": [
    "# Try to create an invalid document (missing required fields)\n",
    "try:\n",
    "    # This should fail because Author requires given_name and family_name\n",
    "    invalid_author = Author()\n",
    "except Exception as e:\n",
    "    print(f\"Validation error caught: {e}\")\n",
    "\n",
    "# Create a valid author\n",
    "valid_author = Author(given_name=\"Test\", family_name=\"User\")\n",
    "print(f\"Valid author created: {valid_author.given_name} {valid_author.family_name}\")"
   ]
  },
  {
   "cell_type": "markdown",
   "metadata": {},
   "source": [
    "## Summary\n",
    "\n",
    "This notebook demonstrates:\n",
    "\n",
    "1. **Importing the FAIRFluids models** from `specifications.lib`\n",
    "2. **Creating a FAIRFluidsDocument** with version information\n",
    "3. **Adding citation information** with authors\n",
    "4. **Adding compounds** with metadata (PubChem ID, IUPAC names, etc.)\n",
    "5. **Creating fluids** with properties, variables, and constraints\n",
    "6. **Adding numerical values** for measurements\n",
    "7. **Exporting to XML** format\n",
    "8. **Validation** and error handling\n",
    "\n",
    "The FAIRFluidsDocument provides a structured way to represent fluid data that is:\n",
    "- **Findable**: Well-organized metadata\n",
    "- **Accessible**: Standard XML format\n",
    "- **Interoperable**: Consistent schema\n",
    "- **Reusable**: Rich metadata and provenance information"
   ]
  }
 ],
 "metadata": {
  "kernelspec": {
   "display_name": "xyz",
   "language": "python",
   "name": "python3"
  },
  "language_info": {
   "codemirror_mode": {
    "name": "ipython",
    "version": 3
   },
   "file_extension": ".py",
   "mimetype": "text/x-python",
   "name": "python",
   "nbconvert_exporter": "python",
   "pygments_lexer": "ipython3",
   "version": "3.13.2"
  }
 },
 "nbformat": 4,
 "nbformat_minor": 4
}
