{
 "cells": [
  {
   "cell_type": "code",
   "execution_count": 12,
   "id": "806312da",
   "metadata": {},
   "outputs": [
    {
     "name": "stdout",
     "output_type": "stream",
     "text": [
      "{'width': 3, 'length': 2}\n"
     ]
    }
   ],
   "source": [
    "from pydantic import BaseModel, computed_field\n",
    "\n",
    "\n",
    "class Rectangle(BaseModel):\n",
    "    width: int\n",
    "    length: int\n",
    "\n",
    "print(Rectangle(width=3, length=2).model_dump())\n",
    "#> {'width': 3, 'length': 2, 'area': 6}"
   ]
  },
  {
   "cell_type": "code",
   "execution_count": 13,
   "id": "ee884046",
   "metadata": {},
   "outputs": [
    {
     "name": "stdout",
     "output_type": "stream",
     "text": [
      "{'width': 3, 'length': 2, 'area': 'small'}\n"
     ]
    }
   ],
   "source": [
    "class Rectangle(Rectangle):\n",
    "\n",
    "    @computed_field\n",
    "    @property\n",
    "    def area(self) -> str:\n",
    "        if self.width * self.length > 41:\n",
    "            return 'big'\n",
    "        else:\n",
    "            return 'small'\n",
    "\n",
    "\n",
    "print(Rectangle(width=3, length=2).model_dump())\n",
    "#> {'width': 3, 'length': 2, 'area': 6}"
   ]
  }
 ],
 "metadata": {
  "kernelspec": {
   "display_name": "xyz",
   "language": "python",
   "name": "python3"
  },
  "language_info": {
   "codemirror_mode": {
    "name": "ipython",
    "version": 3
   },
   "file_extension": ".py",
   "mimetype": "text/x-python",
   "name": "python",
   "nbconvert_exporter": "python",
   "pygments_lexer": "ipython3",
   "version": "3.13.2"
  }
 },
 "nbformat": 4,
 "nbformat_minor": 5
}
