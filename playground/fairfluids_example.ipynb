{
 "cells": [
  {
   "cell_type": "markdown",
   "metadata": {},
   "source": [
    "# FAIRFluids Extended Example\n",
    "\n",
    "This notebook demonstrates how to create and work with FAIRFluids documents, including advanced features and multiple compounds."
   ]
  },
  {
   "cell_type": "code",
   "execution_count": 28,
   "metadata": {},
   "outputs": [],
   "source": [
    "import fairfluids\n",
    "from fairfluids import *\n",
    "import json"
   ]
  },
  {
   "cell_type": "markdown",
   "metadata": {},
   "source": [
    "## Step 1: Create a new document\n",
    "\n",
    "Initialize a new FAIRFluids document with version information."
   ]
  },
  {
   "cell_type": "code",
   "execution_count": 29,
   "metadata": {},
   "outputs": [
    {
     "name": "stdout",
     "output_type": "stream",
     "text": [
      "Created document with version 1.0\n"
     ]
    }
   ],
   "source": [
    "# Create a new document\n",
    "doc = FAIRFluidsDocument(\n",
    "    version=Version(versionMajor=1, versionMinor=0)\n",
    ")\n",
    "\n",
    "print(f\"Created document with version {doc.version.versionMajor}.{doc.version.versionMinor}\")"
   ]
  },
  {
   "cell_type": "markdown",
   "metadata": {},
   "source": [
    "## Step 2: Add citation information\n",
    "\n",
    "Add comprehensive citation details to the document."
   ]
  },
  {
   "cell_type": "code",
   "execution_count": 30,
   "metadata": {},
   "outputs": [
    {
     "name": "stdout",
     "output_type": "stream",
     "text": [
      "Added citation with type: LitType.JOURNAL\n",
      "Title: Thermodynamic Properties of Ionic Liquids\n",
      "Publication Name: Journal of Chemical Thermodynamics\n",
      "Publication Year: 2024\n",
      "Volume: 45\n",
      "Page: 123\n",
      "Authors: 2 authors\n"
     ]
    }
   ],
   "source": [
    "import fairfluids\n",
    "from fairfluids import FAIRFluidsDocument, Version, Citation, LitType\n",
    "\n",
    "# Create a new document\n",
    "doc = FAIRFluidsDocument(\n",
    "    version=Version(versionMajor=1, versionMinor=0)\n",
    ")\n",
    "\n",
    "# Add citation information using only the allowed fields/blocks\n",
    "doc.citation = Citation(\n",
    "    litType=LitType.JOURNAL,\n",
    "    title=\"Thermodynamic Properties of Ionic Liquids\",\n",
    "    pub_name=\"Journal of Chemical Thermodynamics\",\n",
    "    publication_year=\"2024\",\n",
    "    lit_volume_num=\"45\",\n",
    "    page=\"123\"\n",
    ")\n",
    "doc.citation.add_to_author(given_name=\"John\", family_name=\"Doe\")\n",
    "doc.citation.add_to_author(given_name=\"Jane\", family_name=\"Smith\")\n",
    "\n",
    "print(f\"Added citation with type: {doc.citation.litType}\")\n",
    "print(f\"Title: {doc.citation.title}\")\n",
    "print(f\"Publication Name: {doc.citation.pub_name}\")\n",
    "print(f\"Publication Year: {doc.citation.publication_year}\")\n",
    "print(f\"Volume: {doc.citation.lit_volume_num}\")\n",
    "print(f\"Page: {doc.citation.page}\")\n",
    "print(f\"Authors: {len(doc.citation.author)} authors\")"
   ]
  },
  {
   "cell_type": "markdown",
   "metadata": {},
   "source": [
    "## Step 3: Add multiple compounds\n",
    "\n",
    "Add several compounds with different types of information."
   ]
  },
  {
   "cell_type": "code",
   "execution_count": 31,
   "metadata": {},
   "outputs": [
    {
     "name": "stdout",
     "output_type": "stream",
     "text": [
      "Added 3 compounds:\n",
      "  - Water (ID: 1, PubChem: 962)\n",
      "  - Choline Chloride (ID: 2, PubChem: 6209)\n",
      "  - Glycerol (ID: 3, PubChem: 753)\n"
     ]
    }
   ],
   "source": [
    "# Add compound 1: Water\n",
    "doc.add_to_compound(\n",
    "    compoundID=\"1\",\n",
    "    pubChemID=962,\n",
    "    commonName=\"Water\",\n",
    "    name_IUPAC=\"oxidane\",\n",
    "    standard_InChI=\"InChI=1S/H2O/h1H2\",\n",
    "    standard_InChI_key=\"XLYOFNOQVPJJNP-UHFFFAOYSA-N\"\n",
    ")\n",
    "\n",
    "# Add compound 2: Choline Chloride\n",
    "doc.add_to_compound(\n",
    "    compoundID=\"2\",\n",
    "    pubChemID=6209,\n",
    "    commonName=\"Choline Chloride\",\n",
    "    name_IUPAC=\"2-hydroxyethyl(trimethyl)azanium chloride\",\n",
    "    standard_InChI=\"InChI=1S/C5H14NO.ClH/c1-6(2,3)4-5-7;/h7H,4-5H2,1-3H3;1H/q+1;/p-1\",\n",
    "    standard_InChI_key=\"SGMZJAMFXRQCDB-UHFFFAOYSA-M\"\n",
    ")\n",
    "\n",
    "# Add compound 3: Glycerol\n",
    "doc.add_to_compound(\n",
    "    compoundID=\"3\",\n",
    "    pubChemID=753,\n",
    "    commonName=\"Glycerol\",\n",
    "    name_IUPAC=\"propane-1,2,3-triol\",\n",
    "    standard_InChI=\"InChI=1S/C3H8O3/c4-1-3(6)2-5/h3-6H,1-2H2\",\n",
    "    standard_InChI_key=\"PEDCQBHIVMGVHV-UHFFFAOYSA-N\"\n",
    ")\n",
    "\n",
    "print(f\"Added {len(doc.compound)} compounds:\")\n",
    "for comp in doc.compound:\n",
    "    print(f\"  - {comp.commonName} (ID: {comp.compoundID}, PubChem: {comp.pubChemID})\")"
   ]
  },
  {
   "cell_type": "markdown",
   "metadata": {},
   "source": [
    "## Step 4: Add experimental data\n",
    "\n",
    "Add some experimental data points for the compounds."
   ]
  },
  {
   "cell_type": "code",
   "execution_count": 32,
   "metadata": {},
   "outputs": [
    {
     "ename": "AttributeError",
     "evalue": "'FAIRFluidsDocument' object has no attribute 'add_to_experiment'",
     "output_type": "error",
     "traceback": [
      "\u001b[31m---------------------------------------------------------------------------\u001b[39m",
      "\u001b[31mAttributeError\u001b[39m                            Traceback (most recent call last)",
      "\u001b[36mCell\u001b[39m\u001b[36m \u001b[39m\u001b[32mIn[32]\u001b[39m\u001b[32m, line 2\u001b[39m\n\u001b[32m      1\u001b[39m \u001b[38;5;66;03m# Add experimental data for water\u001b[39;00m\n\u001b[32m----> \u001b[39m\u001b[32m2\u001b[39m doc.add_to_experiment(\n\u001b[32m      3\u001b[39m     experimentID=\u001b[33m\"\u001b[39m\u001b[33mexp_001\u001b[39m\u001b[33m\"\u001b[39m,\n\u001b[32m      4\u001b[39m     compoundID=\u001b[33m\"\u001b[39m\u001b[33m1\u001b[39m\u001b[33m\"\u001b[39m,\n\u001b[32m      5\u001b[39m     temperature=\u001b[32m298.15\u001b[39m,\n\u001b[32m      6\u001b[39m     pressure=\u001b[32m101325\u001b[39m,\n\u001b[32m      7\u001b[39m     density=\u001b[32m997.0\u001b[39m,\n\u001b[32m      8\u001b[39m     viscosity=\u001b[32m0.00089\u001b[39m\n\u001b[32m      9\u001b[39m )\n\u001b[32m     11\u001b[39m \u001b[38;5;66;03m# Add experimental data for choline chloride\u001b[39;00m\n\u001b[32m     12\u001b[39m doc.add_to_measurement(\n\u001b[32m     13\u001b[39m     experimentID=\u001b[33m\"\u001b[39m\u001b[33mexp_002\u001b[39m\u001b[33m\"\u001b[39m,\n\u001b[32m     14\u001b[39m     compoundID=\u001b[33m\"\u001b[39m\u001b[33m2\u001b[39m\u001b[33m\"\u001b[39m,\n\u001b[32m   (...)\u001b[39m\u001b[32m     18\u001b[39m     viscosity=\u001b[32m0.0012\u001b[39m\n\u001b[32m     19\u001b[39m )\n",
      "\u001b[36mFile \u001b[39m\u001b[32m~/Applications/miniconda3/envs/xyz/lib/python3.13/site-packages/pydantic/main.py:991\u001b[39m, in \u001b[36mBaseModel.__getattr__\u001b[39m\u001b[34m(self, item)\u001b[39m\n\u001b[32m    988\u001b[39m     \u001b[38;5;28;01mreturn\u001b[39;00m \u001b[38;5;28msuper\u001b[39m().\u001b[34m__getattribute__\u001b[39m(item)  \u001b[38;5;66;03m# Raises AttributeError if appropriate\u001b[39;00m\n\u001b[32m    989\u001b[39m \u001b[38;5;28;01melse\u001b[39;00m:\n\u001b[32m    990\u001b[39m     \u001b[38;5;66;03m# this is the current error\u001b[39;00m\n\u001b[32m--> \u001b[39m\u001b[32m991\u001b[39m     \u001b[38;5;28;01mraise\u001b[39;00m \u001b[38;5;167;01mAttributeError\u001b[39;00m(\u001b[33mf\u001b[39m\u001b[33m'\u001b[39m\u001b[38;5;132;01m{\u001b[39;00m\u001b[38;5;28mtype\u001b[39m(\u001b[38;5;28mself\u001b[39m).\u001b[34m__name__\u001b[39m\u001b[38;5;132;01m!r}\u001b[39;00m\u001b[33m object has no attribute \u001b[39m\u001b[38;5;132;01m{\u001b[39;00mitem\u001b[38;5;132;01m!r}\u001b[39;00m\u001b[33m'\u001b[39m)\n",
      "\u001b[31mAttributeError\u001b[39m: 'FAIRFluidsDocument' object has no attribute 'add_to_experiment'"
     ]
    }
   ],
   "source": [
    "# Add experimental data for water\n",
    "doc.add_to_experiment(\n",
    "    experimentID=\"exp_001\",\n",
    "    compoundID=\"1\",\n",
    "    temperature=298.15,\n",
    "    pressure=101325,\n",
    "    density=997.0,\n",
    "    viscosity=0.00089\n",
    ")\n",
    "\n",
    "# Add experimental data for choline chloride\n",
    "doc.add_to_measurement(\n",
    "    experimentID=\"exp_002\",\n",
    "    compoundID=\"2\",\n",
    "    temperature=298.15,\n",
    "    pressure=101325,\n",
    "    density=1100.0,\n",
    "    viscosity=0.0012\n",
    ")\n",
    "\n",
    "print(f\"Added {len(doc.experiment)} experimental data points\")\n",
    "for exp in doc.experiment:\n",
    "    print(f\"  - {exp.experimentID}: T={exp.temperature}K, P={exp.pressure}Pa\")"
   ]
  },
  {
   "cell_type": "markdown",
   "metadata": {},
   "source": [
    "## Step 5: Add mixture information\n",
    "\n",
    "Create a binary mixture of choline chloride and glycerol."
   ]
  },
  {
   "cell_type": "code",
   "execution_count": null,
   "metadata": {},
   "outputs": [],
   "source": [
    "# Add mixture information\n",
    "doc.add_to_mixture(\n",
    "    mixtureID=\"mix_001\",\n",
    "    mixtureType=\"binary\",\n",
    "    compoundID=[\"2\", \"3\"]\n",
    ")\n",
    "\n",
    "# Add mixture composition\n",
    "doc.add_to_mixtureComposition(\n",
    "    mixtureID=\"mix_001\",\n",
    "    compoundID=\"2\",\n",
    "    moleFraction=0.5\n",
    ")\n",
    "doc.add_to_mixtureComposition(\n",
    "    mixtureID=\"mix_001\",\n",
    "    compoundID=\"3\",\n",
    "    moleFraction=0.5\n",
    ")\n",
    "\n",
    "print(f\"Created mixture {doc.mixture[0].mixtureID} with {len(doc.mixtureComposition)} components\")"
   ]
  },
  {
   "cell_type": "markdown",
   "metadata": {},
   "source": [
    "## Step 6: Validate the document\n",
    "\n",
    "Check if the document structure is valid."
   ]
  },
  {
   "cell_type": "code",
   "execution_count": null,
   "metadata": {},
   "outputs": [],
   "source": [
    "# Validate the document structure\n",
    "try:\n",
    "    # This will raise an error if the document is invalid\n",
    "    doc.model_validate(doc.model_dump())\n",
    "    print(\"✅ Document validation successful!\")\n",
    "    \n",
    "    # Print document summary\n",
    "    print(f\"\\n📊 Document Summary:\")\n",
    "    print(f\"  - Version: {doc.version.versionMajor}.{doc.version.versionMinor}\")\n",
    "    print(f\"  - Compounds: {len(doc.compound)}\")\n",
    "    print(f\"  - Experiments: {len(doc.experiment)}\")\n",
    "    print(f\"  - Mixtures: {len(doc.mixture)}\")\n",
    "    \n",
    "except Exception as e:\n",
    "    print(f\"❌ Document validation failed: {e}\")"
   ]
  },
  {
   "cell_type": "markdown",
   "metadata": {},
   "source": [
    "## Step 7: Save to JSON\n",
    "\n",
    "Export the document to a JSON file for persistence and sharing."
   ]
  },
  {
   "cell_type": "code",
   "execution_count": null,
   "metadata": {},
   "outputs": [],
   "source": [
    "# Save to JSON\n",
    "with open('fairfluids_model.json', 'w') as f:\n",
    "    f.write(doc.model_dump_json(indent=2))\n",
    "\n",
    "print(\"Document saved to 'fairfluids_model.json'\")\n",
    "print(f\"File size: {len(doc.model_dump_json())} characters\")"
   ]
  },
  {
   "cell_type": "markdown",
   "metadata": {},
   "source": [
    "## Step 8: Load and verify the saved document\n",
    "\n",
    "Demonstrate loading the saved document back."
   ]
  },
  {
   "cell_type": "code",
   "execution_count": null,
   "metadata": {},
   "outputs": [],
   "source": [
    "# Load the saved document\n",
    "with open('fairfluids_model.json', 'r') as f:\n",
    "    loaded_data = json.load(f)\n",
    "\n",
    "# Create a new document from the loaded data\n",
    "loaded_doc = FAIRFluidsDocument(**loaded_data)\n",
    "\n",
    "print(\"✅ Successfully loaded the saved document!\")\n",
    "print(f\"Loaded document has {len(loaded_doc.compound)} compounds\")\n",
    "print(f\"First compound: {loaded_doc.compound[0].commonName}\")"
   ]
  },
  {
   "cell_type": "markdown",
   "metadata": {},
   "source": [
    "## Step 9: Advanced features - Search and filter\n",
    "\n",
    "Demonstrate searching and filtering capabilities."
   ]
  },
  {
   "cell_type": "code",
   "execution_count": null,
   "metadata": {},
   "outputs": [],
   "source": [
    "# Search for compounds by name\n",
    "def find_compound_by_name(doc, name_fragment):\n",
    "    \"\"\"Find compounds containing the given name fragment.\"\"\"\n",
    "    matches = []\n",
    "    for comp in doc.compound:\n",
    "        if name_fragment.lower() in comp.commonName.lower():\n",
    "            matches.append(comp)\n",
    "    return matches\n",
    "\n",
    "# Find compounds containing 'chloride'\n",
    "chloride_compounds = find_compound_by_name(doc, 'chloride')\n",
    "print(f\"Found {len(chloride_compounds)} compounds with 'chloride' in the name:\")\n",
    "for comp in chloride_compounds:\n",
    "    print(f\"  - {comp.commonName} (PubChem ID: {comp.pubChemID})\")\n",
    "\n",
    "# Find experiments at room temperature (298.15K)\n",
    "room_temp_experiments = [exp for exp in doc.experiment if exp.temperature == 298.15]\n",
    "print(f\"\\nFound {len(room_temp_experiments)} experiments at room temperature (298.15K)\")"
   ]
  },
  {
   "cell_type": "markdown",
   "metadata": {},
   "source": [
    "## Summary\n",
    "\n",
    "This extended example demonstrates the comprehensive workflow for creating FAIRFluids documents:\n",
    "1. ✅ Create a document with version information\n",
    "2. ✅ Add detailed citation details\n",
    "3. ✅ Include multiple compounds with identifiers\n",
    "4. ✅ Add experimental data\n",
    "5. ✅ Create binary mixtures\n",
    "6. ✅ Validate document structure\n",
    "7. ✅ Export to JSON format\n",
    "8. ✅ Load and verify saved documents\n",
    "9. ✅ Search and filter capabilities\n",
    "\n",
    "The resulting JSON file contains a rich dataset that can be used for:\n",
    "- Data sharing and collaboration\n",
    "- Validation and quality control\n",
    "- Integration with other scientific databases\n",
    "- Machine learning and data analysis\n",
    "- Reproducible research workflows"
   ]
  }
 ],
 "metadata": {
  "kernelspec": {
   "display_name": "xyz",
   "language": "python",
   "name": "python3"
  },
  "language_info": {
   "codemirror_mode": {
    "name": "ipython",
    "version": 3
   },
   "file_extension": ".py",
   "mimetype": "text/x-python",
   "name": "python",
   "nbconvert_exporter": "python",
   "pygments_lexer": "ipython3",
   "version": "3.13.2"
  }
 },
 "nbformat": 4,
 "nbformat_minor": 4
}
