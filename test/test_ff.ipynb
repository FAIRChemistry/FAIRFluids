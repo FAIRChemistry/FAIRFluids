{
 "cells": [
  {
   "cell_type": "code",
   "execution_count": 1,
   "id": "e9793246",
   "metadata": {},
   "outputs": [
    {
     "name": "stdout",
     "output_type": "stream",
     "text": [
      "Number of compounds: 3\n",
      "Number of fluids: 1\n",
      "First fluid compounds: ['1', '2', '3']\n",
      "First fluid parameters: ['x_chcl', 'x_urea', 'x_water', 'T_4']\n",
      "First measurement property values: [('viscosity', 169.0)]\n",
      "First measurement parameter values: [('x_chcl', 0.3333333333333333), ('x_urea', 0.6666666666666667), ('x_water', 0.0), ('T_4', 313.15)]\n"
     ]
    }
   ],
   "source": [
    "# Import the FAIRFluids models\n",
    "import sys\n",
    "sys.path.append('/home/sga/Code/FAIRFluids')\n",
    "from FAIRFluids.core.functionalities import FAIRFluidsCMLParser\n",
    "\n",
    "# Define the compounds for ChCl/Urea/Water system\n",
    "compounds = [\n",
    "    {\"commonName\": \"ChCl\", \"compoundID\": \"1\"},\n",
    "    {\"commonName\": \"Urea\", \"compoundID\": \"2\"},\n",
    "    {\"commonName\": \"Water\", \"compoundID\": \"3\"}\n",
    "]\n",
    "\n",
    "# Path to the test CML file\n",
    "cml_path = \"/home/sga/Code/FAIRFluids/FAIRFluids/data/cml_xml/ChCl_urea.xml\"\n",
    "\n",
    "# Parse the CML file\n",
    "parser = FAIRFluidsCMLParser(cml_path, compounds=compounds)\n",
    "doc = parser.parse()\n",
    "\n",
    "# Print summary\n",
    "print(\"Number of compounds:\", len(doc.compound))\n",
    "print(\"Number of fluids:\", len(doc.fluid))\n",
    "if doc.fluid:\n",
    "    print(\"First fluid compounds:\", doc.fluid[0].compounds)\n",
    "    print(\"First fluid parameters:\", [p.parameterID for p in doc.fluid[0].parameter])\n",
    "    if doc.fluid[0].measurement:\n",
    "        m = doc.fluid[0].measurement[0]\n",
    "        print(\"First measurement property values:\", [(pv.propertyID, pv.propValue) for pv in m.propertyValue])\n",
    "        print(\"First measurement parameter values:\", [(pv.parameterID, pv.paramValue) for pv in m.parameterValue]) "
   ]
  },
  {
   "cell_type": "code",
   "execution_count": 2,
   "id": "01e04fa3",
   "metadata": {},
   "outputs": [],
   "source": [
    "# Save the model to a JSON file\n",
    "with open('fairfluids_model.json', 'w') as f:\n",
    "    f.write(doc.model_dump_json(indent=4))"
   ]
  }
 ],
 "metadata": {
  "kernelspec": {
   "display_name": "xyz",
   "language": "python",
   "name": "python3"
  },
  "language_info": {
   "codemirror_mode": {
    "name": "ipython",
    "version": 3
   },
   "file_extension": ".py",
   "mimetype": "text/x-python",
   "name": "python",
   "nbconvert_exporter": "python",
   "pygments_lexer": "ipython3",
   "version": "3.13.2"
  }
 },
 "nbformat": 4,
 "nbformat_minor": 5
}
