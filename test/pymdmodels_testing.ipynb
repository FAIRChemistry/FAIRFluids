{
 "cells": [
  {
   "cell_type": "code",
   "execution_count": 1,
   "metadata": {},
   "outputs": [
    {
     "data": {
      "text/html": [
       "<pre style=\"white-space:pre;overflow-x:auto;line-height:normal;font-family:Menlo,'DejaVu Sans Mono',consolas,'Courier New',monospace\"><span style=\"color: #800080; text-decoration-color: #800080; font-weight: bold\">            Version            </span>\n",
       "┏━━━━━━━━━━━━━━┳━━━━━━┳━━━━━━━┓\n",
       "┃<span style=\"font-weight: bold\"> Field        </span>┃<span style=\"font-weight: bold\"> Type </span>┃<span style=\"font-weight: bold\"> Adder </span>┃\n",
       "┡━━━━━━━━━━━━━━╇━━━━━━╇━━━━━━━┩\n",
       "│<span style=\"color: #008080; text-decoration-color: #008080\"> versionMajor </span>│<span style=\"color: #800080; text-decoration-color: #800080\"> int  </span>│<span style=\"color: #008000; text-decoration-color: #008000\">       </span>│\n",
       "│<span style=\"color: #008080; text-decoration-color: #008080\"> versionMinor </span>│<span style=\"color: #800080; text-decoration-color: #800080\"> int  </span>│<span style=\"color: #008000; text-decoration-color: #008000\">       </span>│\n",
       "└──────────────┴──────┴───────┘\n",
       "</pre>\n"
      ],
      "text/plain": [
       "\u001b[1;35m            Version            \u001b[0m\n",
       "┏━━━━━━━━━━━━━━┳━━━━━━┳━━━━━━━┓\n",
       "┃\u001b[1m \u001b[0m\u001b[1mField       \u001b[0m\u001b[1m \u001b[0m┃\u001b[1m \u001b[0m\u001b[1mType\u001b[0m\u001b[1m \u001b[0m┃\u001b[1m \u001b[0m\u001b[1mAdder\u001b[0m\u001b[1m \u001b[0m┃\n",
       "┡━━━━━━━━━━━━━━╇━━━━━━╇━━━━━━━┩\n",
       "│\u001b[36m \u001b[0m\u001b[36mversionMajor\u001b[0m\u001b[36m \u001b[0m│\u001b[35m \u001b[0m\u001b[35mint \u001b[0m\u001b[35m \u001b[0m│\u001b[32m \u001b[0m\u001b[32m     \u001b[0m\u001b[32m \u001b[0m│\n",
       "│\u001b[36m \u001b[0m\u001b[36mversionMinor\u001b[0m\u001b[36m \u001b[0m│\u001b[35m \u001b[0m\u001b[35mint \u001b[0m\u001b[35m \u001b[0m│\u001b[32m \u001b[0m\u001b[32m     \u001b[0m\u001b[32m \u001b[0m│\n",
       "└──────────────┴──────┴───────┘\n"
      ]
     },
     "metadata": {},
     "output_type": "display_data"
    },
    {
     "data": {
      "text/html": [
       "<pre style=\"white-space:pre;overflow-x:auto;line-height:normal;font-family:Menlo,'DejaVu Sans Mono',consolas,'Courier New',monospace\"><span style=\"color: #800080; text-decoration-color: #800080; font-weight: bold\">            Author            </span>\n",
       "┏━━━━━━━━━━━━━┳━━━━━━┳━━━━━━━┓\n",
       "┃<span style=\"font-weight: bold\"> Field       </span>┃<span style=\"font-weight: bold\"> Type </span>┃<span style=\"font-weight: bold\"> Adder </span>┃\n",
       "┡━━━━━━━━━━━━━╇━━━━━━╇━━━━━━━┩\n",
       "│<span style=\"color: #008080; text-decoration-color: #008080\"> given_name  </span>│<span style=\"color: #800080; text-decoration-color: #800080\"> str  </span>│<span style=\"color: #008000; text-decoration-color: #008000\">       </span>│\n",
       "│<span style=\"color: #008080; text-decoration-color: #008080\"> family_name </span>│<span style=\"color: #800080; text-decoration-color: #800080\"> str  </span>│<span style=\"color: #008000; text-decoration-color: #008000\">       </span>│\n",
       "│<span style=\"color: #008080; text-decoration-color: #008080\"> email       </span>│<span style=\"color: #800080; text-decoration-color: #800080\"> str  </span>│<span style=\"color: #008000; text-decoration-color: #008000\">       </span>│\n",
       "│<span style=\"color: #008080; text-decoration-color: #008080\"> orcid       </span>│<span style=\"color: #800080; text-decoration-color: #800080\"> str  </span>│<span style=\"color: #008000; text-decoration-color: #008000\">       </span>│\n",
       "│<span style=\"color: #008080; text-decoration-color: #008080\"> affiliation </span>│<span style=\"color: #800080; text-decoration-color: #800080\"> str  </span>│<span style=\"color: #008000; text-decoration-color: #008000\">       </span>│\n",
       "└─────────────┴──────┴───────┘\n",
       "</pre>\n"
      ],
      "text/plain": [
       "\u001b[1;35m            Author            \u001b[0m\n",
       "┏━━━━━━━━━━━━━┳━━━━━━┳━━━━━━━┓\n",
       "┃\u001b[1m \u001b[0m\u001b[1mField      \u001b[0m\u001b[1m \u001b[0m┃\u001b[1m \u001b[0m\u001b[1mType\u001b[0m\u001b[1m \u001b[0m┃\u001b[1m \u001b[0m\u001b[1mAdder\u001b[0m\u001b[1m \u001b[0m┃\n",
       "┡━━━━━━━━━━━━━╇━━━━━━╇━━━━━━━┩\n",
       "│\u001b[36m \u001b[0m\u001b[36mgiven_name \u001b[0m\u001b[36m \u001b[0m│\u001b[35m \u001b[0m\u001b[35mstr \u001b[0m\u001b[35m \u001b[0m│\u001b[32m \u001b[0m\u001b[32m     \u001b[0m\u001b[32m \u001b[0m│\n",
       "│\u001b[36m \u001b[0m\u001b[36mfamily_name\u001b[0m\u001b[36m \u001b[0m│\u001b[35m \u001b[0m\u001b[35mstr \u001b[0m\u001b[35m \u001b[0m│\u001b[32m \u001b[0m\u001b[32m     \u001b[0m\u001b[32m \u001b[0m│\n",
       "│\u001b[36m \u001b[0m\u001b[36memail      \u001b[0m\u001b[36m \u001b[0m│\u001b[35m \u001b[0m\u001b[35mstr \u001b[0m\u001b[35m \u001b[0m│\u001b[32m \u001b[0m\u001b[32m     \u001b[0m\u001b[32m \u001b[0m│\n",
       "│\u001b[36m \u001b[0m\u001b[36morcid      \u001b[0m\u001b[36m \u001b[0m│\u001b[35m \u001b[0m\u001b[35mstr \u001b[0m\u001b[35m \u001b[0m│\u001b[32m \u001b[0m\u001b[32m     \u001b[0m\u001b[32m \u001b[0m│\n",
       "│\u001b[36m \u001b[0m\u001b[36maffiliation\u001b[0m\u001b[36m \u001b[0m│\u001b[35m \u001b[0m\u001b[35mstr \u001b[0m\u001b[35m \u001b[0m│\u001b[32m \u001b[0m\u001b[32m     \u001b[0m\u001b[32m \u001b[0m│\n",
       "└─────────────┴──────┴───────┘\n"
      ]
     },
     "metadata": {},
     "output_type": "display_data"
    },
    {
     "data": {
      "text/html": [
       "<pre style=\"white-space:pre;overflow-x:auto;line-height:normal;font-family:Menlo,'DejaVu Sans Mono',consolas,'Courier New',monospace\"><span style=\"color: #800080; text-decoration-color: #800080; font-weight: bold\">                     Citation                      </span>\n",
       "┏━━━━━━━━━━━━━━━━━━┳━━━━━━━━━━━━━━┳━━━━━━━━━━━━━━━┓\n",
       "┃<span style=\"font-weight: bold\"> Field            </span>┃<span style=\"font-weight: bold\"> Type         </span>┃<span style=\"font-weight: bold\"> Adder         </span>┃\n",
       "┡━━━━━━━━━━━━━━━━━━╇━━━━━━━━━━━━━━╇━━━━━━━━━━━━━━━┩\n",
       "│<span style=\"color: #008080; text-decoration-color: #008080\"> litType          </span>│<span style=\"color: #800080; text-decoration-color: #800080\"> LitType      </span>│<span style=\"color: #008000; text-decoration-color: #008000\">               </span>│\n",
       "│<span style=\"color: #008080; text-decoration-color: #008080\"> author           </span>│<span style=\"color: #800080; text-decoration-color: #800080\"> list[Author] </span>│<span style=\"color: #008000; text-decoration-color: #008000\"> add_to_author </span>│\n",
       "│<span style=\"color: #008080; text-decoration-color: #008080\"> doi              </span>│<span style=\"color: #800080; text-decoration-color: #800080\"> str          </span>│<span style=\"color: #008000; text-decoration-color: #008000\">               </span>│\n",
       "│<span style=\"color: #008080; text-decoration-color: #008080\"> page             </span>│<span style=\"color: #800080; text-decoration-color: #800080\"> str          </span>│<span style=\"color: #008000; text-decoration-color: #008000\">               </span>│\n",
       "│<span style=\"color: #008080; text-decoration-color: #008080\"> pub_name         </span>│<span style=\"color: #800080; text-decoration-color: #800080\"> str          </span>│<span style=\"color: #008000; text-decoration-color: #008000\">               </span>│\n",
       "│<span style=\"color: #008080; text-decoration-color: #008080\"> title            </span>│<span style=\"color: #800080; text-decoration-color: #800080\"> str          </span>│<span style=\"color: #008000; text-decoration-color: #008000\">               </span>│\n",
       "│<span style=\"color: #008080; text-decoration-color: #008080\"> lit_volume_num   </span>│<span style=\"color: #800080; text-decoration-color: #800080\"> str          </span>│<span style=\"color: #008000; text-decoration-color: #008000\">               </span>│\n",
       "│<span style=\"color: #008080; text-decoration-color: #008080\"> url_citation     </span>│<span style=\"color: #800080; text-decoration-color: #800080\"> str          </span>│<span style=\"color: #008000; text-decoration-color: #008000\">               </span>│\n",
       "│<span style=\"color: #008080; text-decoration-color: #008080\"> publication_year </span>│<span style=\"color: #800080; text-decoration-color: #800080\"> str          </span>│<span style=\"color: #008000; text-decoration-color: #008000\">               </span>│\n",
       "└──────────────────┴──────────────┴───────────────┘\n",
       "</pre>\n"
      ],
      "text/plain": [
       "\u001b[1;35m                     Citation                      \u001b[0m\n",
       "┏━━━━━━━━━━━━━━━━━━┳━━━━━━━━━━━━━━┳━━━━━━━━━━━━━━━┓\n",
       "┃\u001b[1m \u001b[0m\u001b[1mField           \u001b[0m\u001b[1m \u001b[0m┃\u001b[1m \u001b[0m\u001b[1mType        \u001b[0m\u001b[1m \u001b[0m┃\u001b[1m \u001b[0m\u001b[1mAdder        \u001b[0m\u001b[1m \u001b[0m┃\n",
       "┡━━━━━━━━━━━━━━━━━━╇━━━━━━━━━━━━━━╇━━━━━━━━━━━━━━━┩\n",
       "│\u001b[36m \u001b[0m\u001b[36mlitType         \u001b[0m\u001b[36m \u001b[0m│\u001b[35m \u001b[0m\u001b[35mLitType     \u001b[0m\u001b[35m \u001b[0m│\u001b[32m \u001b[0m\u001b[32m             \u001b[0m\u001b[32m \u001b[0m│\n",
       "│\u001b[36m \u001b[0m\u001b[36mauthor          \u001b[0m\u001b[36m \u001b[0m│\u001b[35m \u001b[0m\u001b[35mlist[Author]\u001b[0m\u001b[35m \u001b[0m│\u001b[32m \u001b[0m\u001b[32madd_to_author\u001b[0m\u001b[32m \u001b[0m│\n",
       "│\u001b[36m \u001b[0m\u001b[36mdoi             \u001b[0m\u001b[36m \u001b[0m│\u001b[35m \u001b[0m\u001b[35mstr         \u001b[0m\u001b[35m \u001b[0m│\u001b[32m \u001b[0m\u001b[32m             \u001b[0m\u001b[32m \u001b[0m│\n",
       "│\u001b[36m \u001b[0m\u001b[36mpage            \u001b[0m\u001b[36m \u001b[0m│\u001b[35m \u001b[0m\u001b[35mstr         \u001b[0m\u001b[35m \u001b[0m│\u001b[32m \u001b[0m\u001b[32m             \u001b[0m\u001b[32m \u001b[0m│\n",
       "│\u001b[36m \u001b[0m\u001b[36mpub_name        \u001b[0m\u001b[36m \u001b[0m│\u001b[35m \u001b[0m\u001b[35mstr         \u001b[0m\u001b[35m \u001b[0m│\u001b[32m \u001b[0m\u001b[32m             \u001b[0m\u001b[32m \u001b[0m│\n",
       "│\u001b[36m \u001b[0m\u001b[36mtitle           \u001b[0m\u001b[36m \u001b[0m│\u001b[35m \u001b[0m\u001b[35mstr         \u001b[0m\u001b[35m \u001b[0m│\u001b[32m \u001b[0m\u001b[32m             \u001b[0m\u001b[32m \u001b[0m│\n",
       "│\u001b[36m \u001b[0m\u001b[36mlit_volume_num  \u001b[0m\u001b[36m \u001b[0m│\u001b[35m \u001b[0m\u001b[35mstr         \u001b[0m\u001b[35m \u001b[0m│\u001b[32m \u001b[0m\u001b[32m             \u001b[0m\u001b[32m \u001b[0m│\n",
       "│\u001b[36m \u001b[0m\u001b[36murl_citation    \u001b[0m\u001b[36m \u001b[0m│\u001b[35m \u001b[0m\u001b[35mstr         \u001b[0m\u001b[35m \u001b[0m│\u001b[32m \u001b[0m\u001b[32m             \u001b[0m\u001b[32m \u001b[0m│\n",
       "│\u001b[36m \u001b[0m\u001b[36mpublication_year\u001b[0m\u001b[36m \u001b[0m│\u001b[35m \u001b[0m\u001b[35mstr         \u001b[0m\u001b[35m \u001b[0m│\u001b[32m \u001b[0m\u001b[32m             \u001b[0m\u001b[32m \u001b[0m│\n",
       "└──────────────────┴──────────────┴───────────────┘\n"
      ]
     },
     "metadata": {},
     "output_type": "display_data"
    },
    {
     "data": {
      "text/html": [
       "<pre style=\"white-space:pre;overflow-x:auto;line-height:normal;font-family:Menlo,'DejaVu Sans Mono',consolas,'Courier New',monospace\"><span style=\"color: #800080; text-decoration-color: #800080; font-weight: bold\">              Compound               </span>\n",
       "┏━━━━━━━━━━━━━━━━━━━━┳━━━━━━┳━━━━━━━┓\n",
       "┃<span style=\"font-weight: bold\"> Field              </span>┃<span style=\"font-weight: bold\"> Type </span>┃<span style=\"font-weight: bold\"> Adder </span>┃\n",
       "┡━━━━━━━━━━━━━━━━━━━━╇━━━━━━╇━━━━━━━┩\n",
       "│<span style=\"color: #008080; text-decoration-color: #008080\"> compoundID         </span>│<span style=\"color: #800080; text-decoration-color: #800080\"> str  </span>│<span style=\"color: #008000; text-decoration-color: #008000\">       </span>│\n",
       "│<span style=\"color: #008080; text-decoration-color: #008080\"> pubChemID          </span>│<span style=\"color: #800080; text-decoration-color: #800080\"> int  </span>│<span style=\"color: #008000; text-decoration-color: #008000\">       </span>│\n",
       "│<span style=\"color: #008080; text-decoration-color: #008080\"> commonName         </span>│<span style=\"color: #800080; text-decoration-color: #800080\"> str  </span>│<span style=\"color: #008000; text-decoration-color: #008000\">       </span>│\n",
       "│<span style=\"color: #008080; text-decoration-color: #008080\"> SELFIE             </span>│<span style=\"color: #800080; text-decoration-color: #800080\"> str  </span>│<span style=\"color: #008000; text-decoration-color: #008000\">       </span>│\n",
       "│<span style=\"color: #008080; text-decoration-color: #008080\"> name_IUPAC         </span>│<span style=\"color: #800080; text-decoration-color: #800080\"> str  </span>│<span style=\"color: #008000; text-decoration-color: #008000\">       </span>│\n",
       "│<span style=\"color: #008080; text-decoration-color: #008080\"> standard_InChI     </span>│<span style=\"color: #800080; text-decoration-color: #800080\"> str  </span>│<span style=\"color: #008000; text-decoration-color: #008000\">       </span>│\n",
       "│<span style=\"color: #008080; text-decoration-color: #008080\"> standard_InChI_key </span>│<span style=\"color: #800080; text-decoration-color: #800080\"> str  </span>│<span style=\"color: #008000; text-decoration-color: #008000\">       </span>│\n",
       "└────────────────────┴──────┴───────┘\n",
       "</pre>\n"
      ],
      "text/plain": [
       "\u001b[1;35m              Compound               \u001b[0m\n",
       "┏━━━━━━━━━━━━━━━━━━━━┳━━━━━━┳━━━━━━━┓\n",
       "┃\u001b[1m \u001b[0m\u001b[1mField             \u001b[0m\u001b[1m \u001b[0m┃\u001b[1m \u001b[0m\u001b[1mType\u001b[0m\u001b[1m \u001b[0m┃\u001b[1m \u001b[0m\u001b[1mAdder\u001b[0m\u001b[1m \u001b[0m┃\n",
       "┡━━━━━━━━━━━━━━━━━━━━╇━━━━━━╇━━━━━━━┩\n",
       "│\u001b[36m \u001b[0m\u001b[36mcompoundID        \u001b[0m\u001b[36m \u001b[0m│\u001b[35m \u001b[0m\u001b[35mstr \u001b[0m\u001b[35m \u001b[0m│\u001b[32m \u001b[0m\u001b[32m     \u001b[0m\u001b[32m \u001b[0m│\n",
       "│\u001b[36m \u001b[0m\u001b[36mpubChemID         \u001b[0m\u001b[36m \u001b[0m│\u001b[35m \u001b[0m\u001b[35mint \u001b[0m\u001b[35m \u001b[0m│\u001b[32m \u001b[0m\u001b[32m     \u001b[0m\u001b[32m \u001b[0m│\n",
       "│\u001b[36m \u001b[0m\u001b[36mcommonName        \u001b[0m\u001b[36m \u001b[0m│\u001b[35m \u001b[0m\u001b[35mstr \u001b[0m\u001b[35m \u001b[0m│\u001b[32m \u001b[0m\u001b[32m     \u001b[0m\u001b[32m \u001b[0m│\n",
       "│\u001b[36m \u001b[0m\u001b[36mSELFIE            \u001b[0m\u001b[36m \u001b[0m│\u001b[35m \u001b[0m\u001b[35mstr \u001b[0m\u001b[35m \u001b[0m│\u001b[32m \u001b[0m\u001b[32m     \u001b[0m\u001b[32m \u001b[0m│\n",
       "│\u001b[36m \u001b[0m\u001b[36mname_IUPAC        \u001b[0m\u001b[36m \u001b[0m│\u001b[35m \u001b[0m\u001b[35mstr \u001b[0m\u001b[35m \u001b[0m│\u001b[32m \u001b[0m\u001b[32m     \u001b[0m\u001b[32m \u001b[0m│\n",
       "│\u001b[36m \u001b[0m\u001b[36mstandard_InChI    \u001b[0m\u001b[36m \u001b[0m│\u001b[35m \u001b[0m\u001b[35mstr \u001b[0m\u001b[35m \u001b[0m│\u001b[32m \u001b[0m\u001b[32m     \u001b[0m\u001b[32m \u001b[0m│\n",
       "│\u001b[36m \u001b[0m\u001b[36mstandard_InChI_key\u001b[0m\u001b[36m \u001b[0m│\u001b[35m \u001b[0m\u001b[35mstr \u001b[0m\u001b[35m \u001b[0m│\u001b[32m \u001b[0m\u001b[32m     \u001b[0m\u001b[32m \u001b[0m│\n",
       "└────────────────────┴──────┴───────┘\n"
      ]
     },
     "metadata": {},
     "output_type": "display_data"
    },
    {
     "data": {
      "text/html": [
       "<pre style=\"white-space:pre;overflow-x:auto;line-height:normal;font-family:Menlo,'DejaVu Sans Mono',consolas,'Courier New',monospace\"><span style=\"color: #800080; text-decoration-color: #800080; font-weight: bold\">               Property                </span>\n",
       "┏━━━━━━━━━━━━┳━━━━━━━━━━━━━━━━┳━━━━━━━┓\n",
       "┃<span style=\"font-weight: bold\"> Field      </span>┃<span style=\"font-weight: bold\"> Type           </span>┃<span style=\"font-weight: bold\"> Adder </span>┃\n",
       "┡━━━━━━━━━━━━╇━━━━━━━━━━━━━━━━╇━━━━━━━┩\n",
       "│<span style=\"color: #008080; text-decoration-color: #008080\"> propertyID </span>│<span style=\"color: #800080; text-decoration-color: #800080\"> str            </span>│<span style=\"color: #008000; text-decoration-color: #008000\">       </span>│\n",
       "│<span style=\"color: #008080; text-decoration-color: #008080\"> properties </span>│<span style=\"color: #800080; text-decoration-color: #800080\"> Properties     </span>│<span style=\"color: #008000; text-decoration-color: #008000\">       </span>│\n",
       "│<span style=\"color: #008080; text-decoration-color: #008080\"> unit       </span>│<span style=\"color: #800080; text-decoration-color: #800080\"> UnitDefinition </span>│<span style=\"color: #008000; text-decoration-color: #008000\">       </span>│\n",
       "└────────────┴────────────────┴───────┘\n",
       "</pre>\n"
      ],
      "text/plain": [
       "\u001b[1;35m               Property                \u001b[0m\n",
       "┏━━━━━━━━━━━━┳━━━━━━━━━━━━━━━━┳━━━━━━━┓\n",
       "┃\u001b[1m \u001b[0m\u001b[1mField     \u001b[0m\u001b[1m \u001b[0m┃\u001b[1m \u001b[0m\u001b[1mType          \u001b[0m\u001b[1m \u001b[0m┃\u001b[1m \u001b[0m\u001b[1mAdder\u001b[0m\u001b[1m \u001b[0m┃\n",
       "┡━━━━━━━━━━━━╇━━━━━━━━━━━━━━━━╇━━━━━━━┩\n",
       "│\u001b[36m \u001b[0m\u001b[36mpropertyID\u001b[0m\u001b[36m \u001b[0m│\u001b[35m \u001b[0m\u001b[35mstr           \u001b[0m\u001b[35m \u001b[0m│\u001b[32m \u001b[0m\u001b[32m     \u001b[0m\u001b[32m \u001b[0m│\n",
       "│\u001b[36m \u001b[0m\u001b[36mproperties\u001b[0m\u001b[36m \u001b[0m│\u001b[35m \u001b[0m\u001b[35mProperties    \u001b[0m\u001b[35m \u001b[0m│\u001b[32m \u001b[0m\u001b[32m     \u001b[0m\u001b[32m \u001b[0m│\n",
       "│\u001b[36m \u001b[0m\u001b[36munit      \u001b[0m\u001b[36m \u001b[0m│\u001b[35m \u001b[0m\u001b[35mUnitDefinition\u001b[0m\u001b[35m \u001b[0m│\u001b[32m \u001b[0m\u001b[32m     \u001b[0m\u001b[32m \u001b[0m│\n",
       "└────────────┴────────────────┴───────┘\n"
      ]
     },
     "metadata": {},
     "output_type": "display_data"
    },
    {
     "data": {
      "text/html": [
       "<pre style=\"white-space:pre;overflow-x:auto;line-height:normal;font-family:Menlo,'DejaVu Sans Mono',consolas,'Courier New',monospace\"><span style=\"color: #800080; text-decoration-color: #800080; font-weight: bold\">                   Parameter                    </span>\n",
       "┏━━━━━━━━━━━━━━━━━━━━━┳━━━━━━━━━━━━━━━━┳━━━━━━━┓\n",
       "┃<span style=\"font-weight: bold\"> Field               </span>┃<span style=\"font-weight: bold\"> Type           </span>┃<span style=\"font-weight: bold\"> Adder </span>┃\n",
       "┡━━━━━━━━━━━━━━━━━━━━━╇━━━━━━━━━━━━━━━━╇━━━━━━━┩\n",
       "│<span style=\"color: #008080; text-decoration-color: #008080\"> parameterID         </span>│<span style=\"color: #800080; text-decoration-color: #800080\"> str            </span>│<span style=\"color: #008000; text-decoration-color: #008000\">       </span>│\n",
       "│<span style=\"color: #008080; text-decoration-color: #008080\"> parameter           </span>│<span style=\"color: #800080; text-decoration-color: #800080\"> Parameters     </span>│<span style=\"color: #008000; text-decoration-color: #008000\">       </span>│\n",
       "│<span style=\"color: #008080; text-decoration-color: #008080\"> unit                </span>│<span style=\"color: #800080; text-decoration-color: #800080\"> UnitDefinition </span>│<span style=\"color: #008000; text-decoration-color: #008000\">       </span>│\n",
       "│<span style=\"color: #008080; text-decoration-color: #008080\"> associated_compound </span>│<span style=\"color: #800080; text-decoration-color: #800080\"> str            </span>│<span style=\"color: #008000; text-decoration-color: #008000\">       </span>│\n",
       "└─────────────────────┴────────────────┴───────┘\n",
       "</pre>\n"
      ],
      "text/plain": [
       "\u001b[1;35m                   Parameter                    \u001b[0m\n",
       "┏━━━━━━━━━━━━━━━━━━━━━┳━━━━━━━━━━━━━━━━┳━━━━━━━┓\n",
       "┃\u001b[1m \u001b[0m\u001b[1mField              \u001b[0m\u001b[1m \u001b[0m┃\u001b[1m \u001b[0m\u001b[1mType          \u001b[0m\u001b[1m \u001b[0m┃\u001b[1m \u001b[0m\u001b[1mAdder\u001b[0m\u001b[1m \u001b[0m┃\n",
       "┡━━━━━━━━━━━━━━━━━━━━━╇━━━━━━━━━━━━━━━━╇━━━━━━━┩\n",
       "│\u001b[36m \u001b[0m\u001b[36mparameterID        \u001b[0m\u001b[36m \u001b[0m│\u001b[35m \u001b[0m\u001b[35mstr           \u001b[0m\u001b[35m \u001b[0m│\u001b[32m \u001b[0m\u001b[32m     \u001b[0m\u001b[32m \u001b[0m│\n",
       "│\u001b[36m \u001b[0m\u001b[36mparameter          \u001b[0m\u001b[36m \u001b[0m│\u001b[35m \u001b[0m\u001b[35mParameters    \u001b[0m\u001b[35m \u001b[0m│\u001b[32m \u001b[0m\u001b[32m     \u001b[0m\u001b[32m \u001b[0m│\n",
       "│\u001b[36m \u001b[0m\u001b[36munit               \u001b[0m\u001b[36m \u001b[0m│\u001b[35m \u001b[0m\u001b[35mUnitDefinition\u001b[0m\u001b[35m \u001b[0m│\u001b[32m \u001b[0m\u001b[32m     \u001b[0m\u001b[32m \u001b[0m│\n",
       "│\u001b[36m \u001b[0m\u001b[36massociated_compound\u001b[0m\u001b[36m \u001b[0m│\u001b[35m \u001b[0m\u001b[35mstr           \u001b[0m\u001b[35m \u001b[0m│\u001b[32m \u001b[0m\u001b[32m     \u001b[0m\u001b[32m \u001b[0m│\n",
       "└─────────────────────┴────────────────┴───────┘\n"
      ]
     },
     "metadata": {},
     "output_type": "display_data"
    },
    {
     "data": {
      "text/html": [
       "<pre style=\"white-space:pre;overflow-x:auto;line-height:normal;font-family:Menlo,'DejaVu Sans Mono',consolas,'Courier New',monospace\"><span style=\"color: #800080; text-decoration-color: #800080; font-weight: bold\">         PropertyValue         </span>\n",
       "┏━━━━━━━━━━━━━┳━━━━━━━┳━━━━━━━┓\n",
       "┃<span style=\"font-weight: bold\"> Field       </span>┃<span style=\"font-weight: bold\"> Type  </span>┃<span style=\"font-weight: bold\"> Adder </span>┃\n",
       "┡━━━━━━━━━━━━━╇━━━━━━━╇━━━━━━━┩\n",
       "│<span style=\"color: #008080; text-decoration-color: #008080\"> propertyID  </span>│<span style=\"color: #800080; text-decoration-color: #800080\"> str   </span>│<span style=\"color: #008000; text-decoration-color: #008000\">       </span>│\n",
       "│<span style=\"color: #008080; text-decoration-color: #008080\"> propValue   </span>│<span style=\"color: #800080; text-decoration-color: #800080\"> float </span>│<span style=\"color: #008000; text-decoration-color: #008000\">       </span>│\n",
       "│<span style=\"color: #008080; text-decoration-color: #008080\"> uncertainty </span>│<span style=\"color: #800080; text-decoration-color: #800080\"> float </span>│<span style=\"color: #008000; text-decoration-color: #008000\">       </span>│\n",
       "└─────────────┴───────┴───────┘\n",
       "</pre>\n"
      ],
      "text/plain": [
       "\u001b[1;35m         PropertyValue         \u001b[0m\n",
       "┏━━━━━━━━━━━━━┳━━━━━━━┳━━━━━━━┓\n",
       "┃\u001b[1m \u001b[0m\u001b[1mField      \u001b[0m\u001b[1m \u001b[0m┃\u001b[1m \u001b[0m\u001b[1mType \u001b[0m\u001b[1m \u001b[0m┃\u001b[1m \u001b[0m\u001b[1mAdder\u001b[0m\u001b[1m \u001b[0m┃\n",
       "┡━━━━━━━━━━━━━╇━━━━━━━╇━━━━━━━┩\n",
       "│\u001b[36m \u001b[0m\u001b[36mpropertyID \u001b[0m\u001b[36m \u001b[0m│\u001b[35m \u001b[0m\u001b[35mstr  \u001b[0m\u001b[35m \u001b[0m│\u001b[32m \u001b[0m\u001b[32m     \u001b[0m\u001b[32m \u001b[0m│\n",
       "│\u001b[36m \u001b[0m\u001b[36mpropValue  \u001b[0m\u001b[36m \u001b[0m│\u001b[35m \u001b[0m\u001b[35mfloat\u001b[0m\u001b[35m \u001b[0m│\u001b[32m \u001b[0m\u001b[32m     \u001b[0m\u001b[32m \u001b[0m│\n",
       "│\u001b[36m \u001b[0m\u001b[36muncertainty\u001b[0m\u001b[36m \u001b[0m│\u001b[35m \u001b[0m\u001b[35mfloat\u001b[0m\u001b[35m \u001b[0m│\u001b[32m \u001b[0m\u001b[32m     \u001b[0m\u001b[32m \u001b[0m│\n",
       "└─────────────┴───────┴───────┘\n"
      ]
     },
     "metadata": {},
     "output_type": "display_data"
    },
    {
     "data": {
      "text/html": [
       "<pre style=\"white-space:pre;overflow-x:auto;line-height:normal;font-family:Menlo,'DejaVu Sans Mono',consolas,'Courier New',monospace\"><span style=\"color: #800080; text-decoration-color: #800080; font-weight: bold\">        ParameterValue         </span>\n",
       "┏━━━━━━━━━━━━━┳━━━━━━━┳━━━━━━━┓\n",
       "┃<span style=\"font-weight: bold\"> Field       </span>┃<span style=\"font-weight: bold\"> Type  </span>┃<span style=\"font-weight: bold\"> Adder </span>┃\n",
       "┡━━━━━━━━━━━━━╇━━━━━━━╇━━━━━━━┩\n",
       "│<span style=\"color: #008080; text-decoration-color: #008080\"> parameterID </span>│<span style=\"color: #800080; text-decoration-color: #800080\"> str   </span>│<span style=\"color: #008000; text-decoration-color: #008000\">       </span>│\n",
       "│<span style=\"color: #008080; text-decoration-color: #008080\"> paramValue  </span>│<span style=\"color: #800080; text-decoration-color: #800080\"> float </span>│<span style=\"color: #008000; text-decoration-color: #008000\">       </span>│\n",
       "│<span style=\"color: #008080; text-decoration-color: #008080\"> uncertainty </span>│<span style=\"color: #800080; text-decoration-color: #800080\"> float </span>│<span style=\"color: #008000; text-decoration-color: #008000\">       </span>│\n",
       "└─────────────┴───────┴───────┘\n",
       "</pre>\n"
      ],
      "text/plain": [
       "\u001b[1;35m        ParameterValue         \u001b[0m\n",
       "┏━━━━━━━━━━━━━┳━━━━━━━┳━━━━━━━┓\n",
       "┃\u001b[1m \u001b[0m\u001b[1mField      \u001b[0m\u001b[1m \u001b[0m┃\u001b[1m \u001b[0m\u001b[1mType \u001b[0m\u001b[1m \u001b[0m┃\u001b[1m \u001b[0m\u001b[1mAdder\u001b[0m\u001b[1m \u001b[0m┃\n",
       "┡━━━━━━━━━━━━━╇━━━━━━━╇━━━━━━━┩\n",
       "│\u001b[36m \u001b[0m\u001b[36mparameterID\u001b[0m\u001b[36m \u001b[0m│\u001b[35m \u001b[0m\u001b[35mstr  \u001b[0m\u001b[35m \u001b[0m│\u001b[32m \u001b[0m\u001b[32m     \u001b[0m\u001b[32m \u001b[0m│\n",
       "│\u001b[36m \u001b[0m\u001b[36mparamValue \u001b[0m\u001b[36m \u001b[0m│\u001b[35m \u001b[0m\u001b[35mfloat\u001b[0m\u001b[35m \u001b[0m│\u001b[32m \u001b[0m\u001b[32m     \u001b[0m\u001b[32m \u001b[0m│\n",
       "│\u001b[36m \u001b[0m\u001b[36muncertainty\u001b[0m\u001b[36m \u001b[0m│\u001b[35m \u001b[0m\u001b[35mfloat\u001b[0m\u001b[35m \u001b[0m│\u001b[32m \u001b[0m\u001b[32m     \u001b[0m\u001b[32m \u001b[0m│\n",
       "└─────────────┴───────┴───────┘\n"
      ]
     },
     "metadata": {},
     "output_type": "display_data"
    },
    {
     "data": {
      "text/html": [
       "<pre style=\"white-space:pre;overflow-x:auto;line-height:normal;font-family:Menlo,'DejaVu Sans Mono',consolas,'Courier New',monospace\"><span style=\"color: #800080; text-decoration-color: #800080; font-weight: bold\">                             Measurement                             </span>\n",
       "┏━━━━━━━━━━━━━━━━━━━━┳━━━━━━━━━━━━━━━━━━━━━━┳━━━━━━━━━━━━━━━━━━━━━━━┓\n",
       "┃<span style=\"font-weight: bold\"> Field              </span>┃<span style=\"font-weight: bold\"> Type                 </span>┃<span style=\"font-weight: bold\"> Adder                 </span>┃\n",
       "┡━━━━━━━━━━━━━━━━━━━━╇━━━━━━━━━━━━━━━━━━━━━━╇━━━━━━━━━━━━━━━━━━━━━━━┩\n",
       "│<span style=\"color: #008080; text-decoration-color: #008080\"> measurement_id     </span>│<span style=\"color: #800080; text-decoration-color: #800080\"> str                  </span>│<span style=\"color: #008000; text-decoration-color: #008000\">                       </span>│\n",
       "│<span style=\"color: #008080; text-decoration-color: #008080\"> source_doi         </span>│<span style=\"color: #800080; text-decoration-color: #800080\"> str                  </span>│<span style=\"color: #008000; text-decoration-color: #008000\">                       </span>│\n",
       "│<span style=\"color: #008080; text-decoration-color: #008080\"> propertyValue      </span>│<span style=\"color: #800080; text-decoration-color: #800080\"> list[PropertyValue]  </span>│<span style=\"color: #008000; text-decoration-color: #008000\"> add_to_propertyValue  </span>│\n",
       "│<span style=\"color: #008080; text-decoration-color: #008080\"> parameterValue     </span>│<span style=\"color: #800080; text-decoration-color: #800080\"> list[ParameterValue] </span>│<span style=\"color: #008000; text-decoration-color: #008000\"> add_to_parameterValue </span>│\n",
       "│<span style=\"color: #008080; text-decoration-color: #008080\"> method             </span>│<span style=\"color: #800080; text-decoration-color: #800080\"> Method               </span>│<span style=\"color: #008000; text-decoration-color: #008000\">                       </span>│\n",
       "│<span style=\"color: #008080; text-decoration-color: #008080\"> method_description </span>│<span style=\"color: #800080; text-decoration-color: #800080\"> str                  </span>│<span style=\"color: #008000; text-decoration-color: #008000\">                       </span>│\n",
       "└────────────────────┴──────────────────────┴───────────────────────┘\n",
       "</pre>\n"
      ],
      "text/plain": [
       "\u001b[1;35m                             Measurement                             \u001b[0m\n",
       "┏━━━━━━━━━━━━━━━━━━━━┳━━━━━━━━━━━━━━━━━━━━━━┳━━━━━━━━━━━━━━━━━━━━━━━┓\n",
       "┃\u001b[1m \u001b[0m\u001b[1mField             \u001b[0m\u001b[1m \u001b[0m┃\u001b[1m \u001b[0m\u001b[1mType                \u001b[0m\u001b[1m \u001b[0m┃\u001b[1m \u001b[0m\u001b[1mAdder                \u001b[0m\u001b[1m \u001b[0m┃\n",
       "┡━━━━━━━━━━━━━━━━━━━━╇━━━━━━━━━━━━━━━━━━━━━━╇━━━━━━━━━━━━━━━━━━━━━━━┩\n",
       "│\u001b[36m \u001b[0m\u001b[36mmeasurement_id    \u001b[0m\u001b[36m \u001b[0m│\u001b[35m \u001b[0m\u001b[35mstr                 \u001b[0m\u001b[35m \u001b[0m│\u001b[32m \u001b[0m\u001b[32m                     \u001b[0m\u001b[32m \u001b[0m│\n",
       "│\u001b[36m \u001b[0m\u001b[36msource_doi        \u001b[0m\u001b[36m \u001b[0m│\u001b[35m \u001b[0m\u001b[35mstr                 \u001b[0m\u001b[35m \u001b[0m│\u001b[32m \u001b[0m\u001b[32m                     \u001b[0m\u001b[32m \u001b[0m│\n",
       "│\u001b[36m \u001b[0m\u001b[36mpropertyValue     \u001b[0m\u001b[36m \u001b[0m│\u001b[35m \u001b[0m\u001b[35mlist[PropertyValue] \u001b[0m\u001b[35m \u001b[0m│\u001b[32m \u001b[0m\u001b[32madd_to_propertyValue \u001b[0m\u001b[32m \u001b[0m│\n",
       "│\u001b[36m \u001b[0m\u001b[36mparameterValue    \u001b[0m\u001b[36m \u001b[0m│\u001b[35m \u001b[0m\u001b[35mlist[ParameterValue]\u001b[0m\u001b[35m \u001b[0m│\u001b[32m \u001b[0m\u001b[32madd_to_parameterValue\u001b[0m\u001b[32m \u001b[0m│\n",
       "│\u001b[36m \u001b[0m\u001b[36mmethod            \u001b[0m\u001b[36m \u001b[0m│\u001b[35m \u001b[0m\u001b[35mMethod              \u001b[0m\u001b[35m \u001b[0m│\u001b[32m \u001b[0m\u001b[32m                     \u001b[0m\u001b[32m \u001b[0m│\n",
       "│\u001b[36m \u001b[0m\u001b[36mmethod_description\u001b[0m\u001b[36m \u001b[0m│\u001b[35m \u001b[0m\u001b[35mstr                 \u001b[0m\u001b[35m \u001b[0m│\u001b[32m \u001b[0m\u001b[32m                     \u001b[0m\u001b[32m \u001b[0m│\n",
       "└────────────────────┴──────────────────────┴───────────────────────┘\n"
      ]
     },
     "metadata": {},
     "output_type": "display_data"
    },
    {
     "data": {
      "text/html": [
       "<pre style=\"white-space:pre;overflow-x:auto;line-height:normal;font-family:Menlo,'DejaVu Sans Mono',consolas,'Courier New',monospace\"><span style=\"color: #800080; text-decoration-color: #800080; font-weight: bold\">                         Fluid                          </span>\n",
       "┏━━━━━━━━━━━━━┳━━━━━━━━━━━━━━━━━━━┳━━━━━━━━━━━━━━━━━━━━┓\n",
       "┃<span style=\"font-weight: bold\"> Field       </span>┃<span style=\"font-weight: bold\"> Type              </span>┃<span style=\"font-weight: bold\"> Adder              </span>┃\n",
       "┡━━━━━━━━━━━━━╇━━━━━━━━━━━━━━━━━━━╇━━━━━━━━━━━━━━━━━━━━┩\n",
       "│<span style=\"color: #008080; text-decoration-color: #008080\"> compounds   </span>│<span style=\"color: #800080; text-decoration-color: #800080\"> list[str]         </span>│<span style=\"color: #008000; text-decoration-color: #008000\">                    </span>│\n",
       "│<span style=\"color: #008080; text-decoration-color: #008080\"> property    </span>│<span style=\"color: #800080; text-decoration-color: #800080\"> list[Property]    </span>│<span style=\"color: #008000; text-decoration-color: #008000\"> add_to_property    </span>│\n",
       "│<span style=\"color: #008080; text-decoration-color: #008080\"> parameter   </span>│<span style=\"color: #800080; text-decoration-color: #800080\"> list[Parameter]   </span>│<span style=\"color: #008000; text-decoration-color: #008000\"> add_to_parameter   </span>│\n",
       "│<span style=\"color: #008080; text-decoration-color: #008080\"> measurement </span>│<span style=\"color: #800080; text-decoration-color: #800080\"> list[Measurement] </span>│<span style=\"color: #008000; text-decoration-color: #008000\"> add_to_measurement </span>│\n",
       "└─────────────┴───────────────────┴────────────────────┘\n",
       "</pre>\n"
      ],
      "text/plain": [
       "\u001b[1;35m                         Fluid                          \u001b[0m\n",
       "┏━━━━━━━━━━━━━┳━━━━━━━━━━━━━━━━━━━┳━━━━━━━━━━━━━━━━━━━━┓\n",
       "┃\u001b[1m \u001b[0m\u001b[1mField      \u001b[0m\u001b[1m \u001b[0m┃\u001b[1m \u001b[0m\u001b[1mType             \u001b[0m\u001b[1m \u001b[0m┃\u001b[1m \u001b[0m\u001b[1mAdder             \u001b[0m\u001b[1m \u001b[0m┃\n",
       "┡━━━━━━━━━━━━━╇━━━━━━━━━━━━━━━━━━━╇━━━━━━━━━━━━━━━━━━━━┩\n",
       "│\u001b[36m \u001b[0m\u001b[36mcompounds  \u001b[0m\u001b[36m \u001b[0m│\u001b[35m \u001b[0m\u001b[35mlist[str]        \u001b[0m\u001b[35m \u001b[0m│\u001b[32m \u001b[0m\u001b[32m                  \u001b[0m\u001b[32m \u001b[0m│\n",
       "│\u001b[36m \u001b[0m\u001b[36mproperty   \u001b[0m\u001b[36m \u001b[0m│\u001b[35m \u001b[0m\u001b[35mlist[Property]   \u001b[0m\u001b[35m \u001b[0m│\u001b[32m \u001b[0m\u001b[32madd_to_property   \u001b[0m\u001b[32m \u001b[0m│\n",
       "│\u001b[36m \u001b[0m\u001b[36mparameter  \u001b[0m\u001b[36m \u001b[0m│\u001b[35m \u001b[0m\u001b[35mlist[Parameter]  \u001b[0m\u001b[35m \u001b[0m│\u001b[32m \u001b[0m\u001b[32madd_to_parameter  \u001b[0m\u001b[32m \u001b[0m│\n",
       "│\u001b[36m \u001b[0m\u001b[36mmeasurement\u001b[0m\u001b[36m \u001b[0m│\u001b[35m \u001b[0m\u001b[35mlist[Measurement]\u001b[0m\u001b[35m \u001b[0m│\u001b[32m \u001b[0m\u001b[32madd_to_measurement\u001b[0m\u001b[32m \u001b[0m│\n",
       "└─────────────┴───────────────────┴────────────────────┘\n"
      ]
     },
     "metadata": {},
     "output_type": "display_data"
    },
    {
     "data": {
      "text/html": [
       "<pre style=\"white-space:pre;overflow-x:auto;line-height:normal;font-family:Menlo,'DejaVu Sans Mono',consolas,'Courier New',monospace\"><span style=\"color: #800080; text-decoration-color: #800080; font-weight: bold\">              FAIRFluidsDocument               </span>\n",
       "┏━━━━━━━━━━┳━━━━━━━━━━━━━━━━┳━━━━━━━━━━━━━━━━━┓\n",
       "┃<span style=\"font-weight: bold\"> Field    </span>┃<span style=\"font-weight: bold\"> Type           </span>┃<span style=\"font-weight: bold\"> Adder           </span>┃\n",
       "┡━━━━━━━━━━╇━━━━━━━━━━━━━━━━╇━━━━━━━━━━━━━━━━━┩\n",
       "│<span style=\"color: #008080; text-decoration-color: #008080\"> version  </span>│<span style=\"color: #800080; text-decoration-color: #800080\"> Version        </span>│<span style=\"color: #008000; text-decoration-color: #008000\">                 </span>│\n",
       "│<span style=\"color: #008080; text-decoration-color: #008080\"> citation </span>│<span style=\"color: #800080; text-decoration-color: #800080\"> Citation       </span>│<span style=\"color: #008000; text-decoration-color: #008000\">                 </span>│\n",
       "│<span style=\"color: #008080; text-decoration-color: #008080\"> compound </span>│<span style=\"color: #800080; text-decoration-color: #800080\"> list[Compound] </span>│<span style=\"color: #008000; text-decoration-color: #008000\"> add_to_compound </span>│\n",
       "│<span style=\"color: #008080; text-decoration-color: #008080\"> fluid    </span>│<span style=\"color: #800080; text-decoration-color: #800080\"> list[Fluid]    </span>│<span style=\"color: #008000; text-decoration-color: #008000\"> add_to_fluid    </span>│\n",
       "└──────────┴────────────────┴─────────────────┘\n",
       "</pre>\n"
      ],
      "text/plain": [
       "\u001b[1;35m              FAIRFluidsDocument               \u001b[0m\n",
       "┏━━━━━━━━━━┳━━━━━━━━━━━━━━━━┳━━━━━━━━━━━━━━━━━┓\n",
       "┃\u001b[1m \u001b[0m\u001b[1mField   \u001b[0m\u001b[1m \u001b[0m┃\u001b[1m \u001b[0m\u001b[1mType          \u001b[0m\u001b[1m \u001b[0m┃\u001b[1m \u001b[0m\u001b[1mAdder          \u001b[0m\u001b[1m \u001b[0m┃\n",
       "┡━━━━━━━━━━╇━━━━━━━━━━━━━━━━╇━━━━━━━━━━━━━━━━━┩\n",
       "│\u001b[36m \u001b[0m\u001b[36mversion \u001b[0m\u001b[36m \u001b[0m│\u001b[35m \u001b[0m\u001b[35mVersion       \u001b[0m\u001b[35m \u001b[0m│\u001b[32m \u001b[0m\u001b[32m               \u001b[0m\u001b[32m \u001b[0m│\n",
       "│\u001b[36m \u001b[0m\u001b[36mcitation\u001b[0m\u001b[36m \u001b[0m│\u001b[35m \u001b[0m\u001b[35mCitation      \u001b[0m\u001b[35m \u001b[0m│\u001b[32m \u001b[0m\u001b[32m               \u001b[0m\u001b[32m \u001b[0m│\n",
       "│\u001b[36m \u001b[0m\u001b[36mcompound\u001b[0m\u001b[36m \u001b[0m│\u001b[35m \u001b[0m\u001b[35mlist[Compound]\u001b[0m\u001b[35m \u001b[0m│\u001b[32m \u001b[0m\u001b[32madd_to_compound\u001b[0m\u001b[32m \u001b[0m│\n",
       "│\u001b[36m \u001b[0m\u001b[36mfluid   \u001b[0m\u001b[36m \u001b[0m│\u001b[35m \u001b[0m\u001b[35mlist[Fluid]   \u001b[0m\u001b[35m \u001b[0m│\u001b[32m \u001b[0m\u001b[32madd_to_fluid   \u001b[0m\u001b[32m \u001b[0m│\n",
       "└──────────┴────────────────┴─────────────────┘\n"
      ]
     },
     "metadata": {},
     "output_type": "display_data"
    },
    {
     "data": {
      "text/html": [
       "<pre style=\"white-space:pre;overflow-x:auto;line-height:normal;font-family:Menlo,'DejaVu Sans Mono',consolas,'Courier New',monospace\"><span style=\"color: #800080; text-decoration-color: #800080; font-weight: bold\">           BaseUnit           </span>\n",
       "┏━━━━━━━━━━━━┳━━━━━━━┳━━━━━━━┓\n",
       "┃<span style=\"font-weight: bold\"> Field      </span>┃<span style=\"font-weight: bold\"> Type  </span>┃<span style=\"font-weight: bold\"> Adder </span>┃\n",
       "┡━━━━━━━━━━━━╇━━━━━━━╇━━━━━━━┩\n",
       "│<span style=\"color: #008080; text-decoration-color: #008080\"> kind       </span>│<span style=\"color: #800080; text-decoration-color: #800080\"> str   </span>│<span style=\"color: #008000; text-decoration-color: #008000\">       </span>│\n",
       "│<span style=\"color: #008080; text-decoration-color: #008080\"> exponent   </span>│<span style=\"color: #800080; text-decoration-color: #800080\"> int   </span>│<span style=\"color: #008000; text-decoration-color: #008000\">       </span>│\n",
       "│<span style=\"color: #008080; text-decoration-color: #008080\"> multiplier </span>│<span style=\"color: #800080; text-decoration-color: #800080\"> float </span>│<span style=\"color: #008000; text-decoration-color: #008000\">       </span>│\n",
       "│<span style=\"color: #008080; text-decoration-color: #008080\"> scale      </span>│<span style=\"color: #800080; text-decoration-color: #800080\"> float </span>│<span style=\"color: #008000; text-decoration-color: #008000\">       </span>│\n",
       "└────────────┴───────┴───────┘\n",
       "</pre>\n"
      ],
      "text/plain": [
       "\u001b[1;35m           BaseUnit           \u001b[0m\n",
       "┏━━━━━━━━━━━━┳━━━━━━━┳━━━━━━━┓\n",
       "┃\u001b[1m \u001b[0m\u001b[1mField     \u001b[0m\u001b[1m \u001b[0m┃\u001b[1m \u001b[0m\u001b[1mType \u001b[0m\u001b[1m \u001b[0m┃\u001b[1m \u001b[0m\u001b[1mAdder\u001b[0m\u001b[1m \u001b[0m┃\n",
       "┡━━━━━━━━━━━━╇━━━━━━━╇━━━━━━━┩\n",
       "│\u001b[36m \u001b[0m\u001b[36mkind      \u001b[0m\u001b[36m \u001b[0m│\u001b[35m \u001b[0m\u001b[35mstr  \u001b[0m\u001b[35m \u001b[0m│\u001b[32m \u001b[0m\u001b[32m     \u001b[0m\u001b[32m \u001b[0m│\n",
       "│\u001b[36m \u001b[0m\u001b[36mexponent  \u001b[0m\u001b[36m \u001b[0m│\u001b[35m \u001b[0m\u001b[35mint  \u001b[0m\u001b[35m \u001b[0m│\u001b[32m \u001b[0m\u001b[32m     \u001b[0m\u001b[32m \u001b[0m│\n",
       "│\u001b[36m \u001b[0m\u001b[36mmultiplier\u001b[0m\u001b[36m \u001b[0m│\u001b[35m \u001b[0m\u001b[35mfloat\u001b[0m\u001b[35m \u001b[0m│\u001b[32m \u001b[0m\u001b[32m     \u001b[0m\u001b[32m \u001b[0m│\n",
       "│\u001b[36m \u001b[0m\u001b[36mscale     \u001b[0m\u001b[36m \u001b[0m│\u001b[35m \u001b[0m\u001b[35mfloat\u001b[0m\u001b[35m \u001b[0m│\u001b[32m \u001b[0m\u001b[32m     \u001b[0m\u001b[32m \u001b[0m│\n",
       "└────────────┴───────┴───────┘\n"
      ]
     },
     "metadata": {},
     "output_type": "display_data"
    },
    {
     "data": {
      "text/html": [
       "<pre style=\"white-space:pre;overflow-x:auto;line-height:normal;font-family:Menlo,'DejaVu Sans Mono',consolas,'Courier New',monospace\"><span style=\"color: #800080; text-decoration-color: #800080; font-weight: bold\">                  UnitDefinition                   </span>\n",
       "┏━━━━━━━━━━━━┳━━━━━━━━━━━━━━━━┳━━━━━━━━━━━━━━━━━━━┓\n",
       "┃<span style=\"font-weight: bold\"> Field      </span>┃<span style=\"font-weight: bold\"> Type           </span>┃<span style=\"font-weight: bold\"> Adder             </span>┃\n",
       "┡━━━━━━━━━━━━╇━━━━━━━━━━━━━━━━╇━━━━━━━━━━━━━━━━━━━┩\n",
       "│<span style=\"color: #008080; text-decoration-color: #008080\"> unitID     </span>│<span style=\"color: #800080; text-decoration-color: #800080\"> str            </span>│<span style=\"color: #008000; text-decoration-color: #008000\">                   </span>│\n",
       "│<span style=\"color: #008080; text-decoration-color: #008080\"> name       </span>│<span style=\"color: #800080; text-decoration-color: #800080\"> str            </span>│<span style=\"color: #008000; text-decoration-color: #008000\">                   </span>│\n",
       "│<span style=\"color: #008080; text-decoration-color: #008080\"> base_units </span>│<span style=\"color: #800080; text-decoration-color: #800080\"> list[BaseUnit] </span>│<span style=\"color: #008000; text-decoration-color: #008000\"> add_to_base_units </span>│\n",
       "└────────────┴────────────────┴───────────────────┘\n",
       "</pre>\n"
      ],
      "text/plain": [
       "\u001b[1;35m                  UnitDefinition                   \u001b[0m\n",
       "┏━━━━━━━━━━━━┳━━━━━━━━━━━━━━━━┳━━━━━━━━━━━━━━━━━━━┓\n",
       "┃\u001b[1m \u001b[0m\u001b[1mField     \u001b[0m\u001b[1m \u001b[0m┃\u001b[1m \u001b[0m\u001b[1mType          \u001b[0m\u001b[1m \u001b[0m┃\u001b[1m \u001b[0m\u001b[1mAdder            \u001b[0m\u001b[1m \u001b[0m┃\n",
       "┡━━━━━━━━━━━━╇━━━━━━━━━━━━━━━━╇━━━━━━━━━━━━━━━━━━━┩\n",
       "│\u001b[36m \u001b[0m\u001b[36munitID    \u001b[0m\u001b[36m \u001b[0m│\u001b[35m \u001b[0m\u001b[35mstr           \u001b[0m\u001b[35m \u001b[0m│\u001b[32m \u001b[0m\u001b[32m                 \u001b[0m\u001b[32m \u001b[0m│\n",
       "│\u001b[36m \u001b[0m\u001b[36mname      \u001b[0m\u001b[36m \u001b[0m│\u001b[35m \u001b[0m\u001b[35mstr           \u001b[0m\u001b[35m \u001b[0m│\u001b[32m \u001b[0m\u001b[32m                 \u001b[0m\u001b[32m \u001b[0m│\n",
       "│\u001b[36m \u001b[0m\u001b[36mbase_units\u001b[0m\u001b[36m \u001b[0m│\u001b[35m \u001b[0m\u001b[35mlist[BaseUnit]\u001b[0m\u001b[35m \u001b[0m│\u001b[32m \u001b[0m\u001b[32madd_to_base_units\u001b[0m\u001b[32m \u001b[0m│\n",
       "└────────────┴────────────────┴───────────────────┘\n"
      ]
     },
     "metadata": {},
     "output_type": "display_data"
    }
   ],
   "source": [
    "from mdmodels import DataModel\n",
    "my_model = DataModel.from_markdown(\"/home/sga/Code/FAIRFluids/FAIRFluids/specifications/model.md\")\n",
    "my_model.info()"
   ]
  },
  {
   "cell_type": "markdown",
   "metadata": {},
   "source": [
    "# Create Document"
   ]
  }
 ],
 "metadata": {
  "kernelspec": {
   "display_name": "xyz",
   "language": "python",
   "name": "python3"
  },
  "language_info": {
   "codemirror_mode": {
    "name": "ipython",
    "version": 3
   },
   "file_extension": ".py",
   "mimetype": "text/x-python",
   "name": "python",
   "nbconvert_exporter": "python",
   "pygments_lexer": "ipython3",
   "version": "3.13.2"
  }
 },
 "nbformat": 4,
 "nbformat_minor": 2
}
