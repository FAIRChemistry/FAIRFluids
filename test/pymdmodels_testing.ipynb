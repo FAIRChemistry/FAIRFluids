{
 "cells": [
  {
   "cell_type": "code",
   "execution_count": 4,
   "metadata": {},
   "outputs": [
    {
     "data": {
      "text/html": [
       "<pre style=\"white-space:pre;overflow-x:auto;line-height:normal;font-family:Menlo,'DejaVu Sans Mono',consolas,'Courier New',monospace\"><span style=\"color: #800080; text-decoration-color: #800080; font-weight: bold\">                Purchase                 </span>\n",
       "┏━━━━━━━━━━━━━━━━━━━━━━━━┳━━━━━━┳━━━━━━━┓\n",
       "┃<span style=\"font-weight: bold\"> Field                  </span>┃<span style=\"font-weight: bold\"> Type </span>┃<span style=\"font-weight: bold\"> Adder </span>┃\n",
       "┡━━━━━━━━━━━━━━━━━━━━━━━━╇━━━━━━╇━━━━━━━┩\n",
       "│<span style=\"color: #008080; text-decoration-color: #008080\"> supplier               </span>│<span style=\"color: #800080; text-decoration-color: #800080\"> str  </span>│<span style=\"color: #008000; text-decoration-color: #008000\">       </span>│\n",
       "│<span style=\"color: #008080; text-decoration-color: #008080\"> cas_num                </span>│<span style=\"color: #800080; text-decoration-color: #800080\"> str  </span>│<span style=\"color: #008000; text-decoration-color: #008000\">       </span>│\n",
       "│<span style=\"color: #008080; text-decoration-color: #008080\"> eg_num                 </span>│<span style=\"color: #800080; text-decoration-color: #800080\"> str  </span>│<span style=\"color: #008000; text-decoration-color: #008000\">       </span>│\n",
       "│<span style=\"color: #008080; text-decoration-color: #008080\"> host_org               </span>│<span style=\"color: #800080; text-decoration-color: #800080\"> str  </span>│<span style=\"color: #008000; text-decoration-color: #008000\">       </span>│\n",
       "│<span style=\"color: #008080; text-decoration-color: #008080\"> purity                 </span>│<span style=\"color: #800080; text-decoration-color: #800080\"> int  </span>│<span style=\"color: #008000; text-decoration-color: #008000\">       </span>│\n",
       "│<span style=\"color: #008080; text-decoration-color: #008080\"> spec_activity          </span>│<span style=\"color: #800080; text-decoration-color: #800080\"> int  </span>│<span style=\"color: #008000; text-decoration-color: #008000\">       </span>│\n",
       "│<span style=\"color: #008080; text-decoration-color: #008080\"> reaction_spec_activity </span>│<span style=\"color: #800080; text-decoration-color: #800080\"> str  </span>│<span style=\"color: #008000; text-decoration-color: #008000\">       </span>│\n",
       "└────────────────────────┴──────┴───────┘\n",
       "</pre>\n"
      ],
      "text/plain": [
       "\u001b[1;35m                Purchase                 \u001b[0m\n",
       "┏━━━━━━━━━━━━━━━━━━━━━━━━┳━━━━━━┳━━━━━━━┓\n",
       "┃\u001b[1m \u001b[0m\u001b[1mField                 \u001b[0m\u001b[1m \u001b[0m┃\u001b[1m \u001b[0m\u001b[1mType\u001b[0m\u001b[1m \u001b[0m┃\u001b[1m \u001b[0m\u001b[1mAdder\u001b[0m\u001b[1m \u001b[0m┃\n",
       "┡━━━━━━━━━━━━━━━━━━━━━━━━╇━━━━━━╇━━━━━━━┩\n",
       "│\u001b[36m \u001b[0m\u001b[36msupplier              \u001b[0m\u001b[36m \u001b[0m│\u001b[35m \u001b[0m\u001b[35mstr \u001b[0m\u001b[35m \u001b[0m│\u001b[32m \u001b[0m\u001b[32m     \u001b[0m\u001b[32m \u001b[0m│\n",
       "│\u001b[36m \u001b[0m\u001b[36mcas_num               \u001b[0m\u001b[36m \u001b[0m│\u001b[35m \u001b[0m\u001b[35mstr \u001b[0m\u001b[35m \u001b[0m│\u001b[32m \u001b[0m\u001b[32m     \u001b[0m\u001b[32m \u001b[0m│\n",
       "│\u001b[36m \u001b[0m\u001b[36meg_num                \u001b[0m\u001b[36m \u001b[0m│\u001b[35m \u001b[0m\u001b[35mstr \u001b[0m\u001b[35m \u001b[0m│\u001b[32m \u001b[0m\u001b[32m     \u001b[0m\u001b[32m \u001b[0m│\n",
       "│\u001b[36m \u001b[0m\u001b[36mhost_org              \u001b[0m\u001b[36m \u001b[0m│\u001b[35m \u001b[0m\u001b[35mstr \u001b[0m\u001b[35m \u001b[0m│\u001b[32m \u001b[0m\u001b[32m     \u001b[0m\u001b[32m \u001b[0m│\n",
       "│\u001b[36m \u001b[0m\u001b[36mpurity                \u001b[0m\u001b[36m \u001b[0m│\u001b[35m \u001b[0m\u001b[35mint \u001b[0m\u001b[35m \u001b[0m│\u001b[32m \u001b[0m\u001b[32m     \u001b[0m\u001b[32m \u001b[0m│\n",
       "│\u001b[36m \u001b[0m\u001b[36mspec_activity         \u001b[0m\u001b[36m \u001b[0m│\u001b[35m \u001b[0m\u001b[35mint \u001b[0m\u001b[35m \u001b[0m│\u001b[32m \u001b[0m\u001b[32m     \u001b[0m\u001b[32m \u001b[0m│\n",
       "│\u001b[36m \u001b[0m\u001b[36mreaction_spec_activity\u001b[0m\u001b[36m \u001b[0m│\u001b[35m \u001b[0m\u001b[35mstr \u001b[0m\u001b[35m \u001b[0m│\u001b[32m \u001b[0m\u001b[32m     \u001b[0m\u001b[32m \u001b[0m│\n",
       "└────────────────────────┴──────┴───────┘\n"
      ]
     },
     "metadata": {},
     "output_type": "display_data"
    },
    {
     "data": {
      "text/html": [
       "<pre style=\"white-space:pre;overflow-x:auto;line-height:normal;font-family:Menlo,'DejaVu Sans Mono',consolas,'Courier New',monospace\"><span style=\"color: #800080; text-decoration-color: #800080; font-weight: bold\">              Modification               </span>\n",
       "┏━━━━━━━━━━━━━━━━━━━━━━━━┳━━━━━━┳━━━━━━━┓\n",
       "┃<span style=\"font-weight: bold\"> Field                  </span>┃<span style=\"font-weight: bold\"> Type </span>┃<span style=\"font-weight: bold\"> Adder </span>┃\n",
       "┡━━━━━━━━━━━━━━━━━━━━━━━━╇━━━━━━╇━━━━━━━┩\n",
       "│<span style=\"color: #008080; text-decoration-color: #008080\"> spec_activity          </span>│<span style=\"color: #800080; text-decoration-color: #800080\"> int  </span>│<span style=\"color: #008000; text-decoration-color: #008000\">       </span>│\n",
       "│<span style=\"color: #008080; text-decoration-color: #008080\"> reaction_spec_activity </span>│<span style=\"color: #800080; text-decoration-color: #800080\"> str  </span>│<span style=\"color: #008000; text-decoration-color: #008000\">       </span>│\n",
       "│<span style=\"color: #008080; text-decoration-color: #008080\"> dna_sequence           </span>│<span style=\"color: #800080; text-decoration-color: #800080\"> str  </span>│<span style=\"color: #008000; text-decoration-color: #008000\">       </span>│\n",
       "│<span style=\"color: #008080; text-decoration-color: #008080\"> aa_sequence            </span>│<span style=\"color: #800080; text-decoration-color: #800080\"> str  </span>│<span style=\"color: #008000; text-decoration-color: #008000\">       </span>│\n",
       "│<span style=\"color: #008080; text-decoration-color: #008080\"> tag                    </span>│<span style=\"color: #800080; text-decoration-color: #800080\"> str  </span>│<span style=\"color: #008000; text-decoration-color: #008000\">       </span>│\n",
       "│<span style=\"color: #008080; text-decoration-color: #008080\"> display                </span>│<span style=\"color: #800080; text-decoration-color: #800080\"> str  </span>│<span style=\"color: #008000; text-decoration-color: #008000\">       </span>│\n",
       "│<span style=\"color: #008080; text-decoration-color: #008080\"> mutation               </span>│<span style=\"color: #800080; text-decoration-color: #800080\"> str  </span>│<span style=\"color: #008000; text-decoration-color: #008000\">       </span>│\n",
       "└────────────────────────┴──────┴───────┘\n",
       "</pre>\n"
      ],
      "text/plain": [
       "\u001b[1;35m              Modification               \u001b[0m\n",
       "┏━━━━━━━━━━━━━━━━━━━━━━━━┳━━━━━━┳━━━━━━━┓\n",
       "┃\u001b[1m \u001b[0m\u001b[1mField                 \u001b[0m\u001b[1m \u001b[0m┃\u001b[1m \u001b[0m\u001b[1mType\u001b[0m\u001b[1m \u001b[0m┃\u001b[1m \u001b[0m\u001b[1mAdder\u001b[0m\u001b[1m \u001b[0m┃\n",
       "┡━━━━━━━━━━━━━━━━━━━━━━━━╇━━━━━━╇━━━━━━━┩\n",
       "│\u001b[36m \u001b[0m\u001b[36mspec_activity         \u001b[0m\u001b[36m \u001b[0m│\u001b[35m \u001b[0m\u001b[35mint \u001b[0m\u001b[35m \u001b[0m│\u001b[32m \u001b[0m\u001b[32m     \u001b[0m\u001b[32m \u001b[0m│\n",
       "│\u001b[36m \u001b[0m\u001b[36mreaction_spec_activity\u001b[0m\u001b[36m \u001b[0m│\u001b[35m \u001b[0m\u001b[35mstr \u001b[0m\u001b[35m \u001b[0m│\u001b[32m \u001b[0m\u001b[32m     \u001b[0m\u001b[32m \u001b[0m│\n",
       "│\u001b[36m \u001b[0m\u001b[36mdna_sequence          \u001b[0m\u001b[36m \u001b[0m│\u001b[35m \u001b[0m\u001b[35mstr \u001b[0m\u001b[35m \u001b[0m│\u001b[32m \u001b[0m\u001b[32m     \u001b[0m\u001b[32m \u001b[0m│\n",
       "│\u001b[36m \u001b[0m\u001b[36maa_sequence           \u001b[0m\u001b[36m \u001b[0m│\u001b[35m \u001b[0m\u001b[35mstr \u001b[0m\u001b[35m \u001b[0m│\u001b[32m \u001b[0m\u001b[32m     \u001b[0m\u001b[32m \u001b[0m│\n",
       "│\u001b[36m \u001b[0m\u001b[36mtag                   \u001b[0m\u001b[36m \u001b[0m│\u001b[35m \u001b[0m\u001b[35mstr \u001b[0m\u001b[35m \u001b[0m│\u001b[32m \u001b[0m\u001b[32m     \u001b[0m\u001b[32m \u001b[0m│\n",
       "│\u001b[36m \u001b[0m\u001b[36mdisplay               \u001b[0m\u001b[36m \u001b[0m│\u001b[35m \u001b[0m\u001b[35mstr \u001b[0m\u001b[35m \u001b[0m│\u001b[32m \u001b[0m\u001b[32m     \u001b[0m\u001b[32m \u001b[0m│\n",
       "│\u001b[36m \u001b[0m\u001b[36mmutation              \u001b[0m\u001b[36m \u001b[0m│\u001b[35m \u001b[0m\u001b[35mstr \u001b[0m\u001b[35m \u001b[0m│\u001b[32m \u001b[0m\u001b[32m     \u001b[0m\u001b[32m \u001b[0m│\n",
       "└────────────────────────┴──────┴───────┘\n"
      ]
     },
     "metadata": {},
     "output_type": "display_data"
    },
    {
     "data": {
      "text/html": [
       "<pre style=\"white-space:pre;overflow-x:auto;line-height:normal;font-family:Menlo,'DejaVu Sans Mono',consolas,'Courier New',monospace\"><span style=\"color: #800080; text-decoration-color: #800080; font-weight: bold\">                              USPKPIs                              </span>\n",
       "┏━━━━━━━━━━━━━━━━━━━━━━━━━━━━━━━━━━━━━━━━━━━━━━━━━━┳━━━━━━┳━━━━━━━┓\n",
       "┃<span style=\"font-weight: bold\"> Field                                            </span>┃<span style=\"font-weight: bold\"> Type </span>┃<span style=\"font-weight: bold\"> Adder </span>┃\n",
       "┡━━━━━━━━━━━━━━━━━━━━━━━━━━━━━━━━━━━━━━━━━━━━━━━━━━╇━━━━━━╇━━━━━━━┩\n",
       "│<span style=\"color: #008080; text-decoration-color: #008080\"> scale                                            </span>│<span style=\"color: #800080; text-decoration-color: #800080\"> int  </span>│<span style=\"color: #008000; text-decoration-color: #008000\">       </span>│\n",
       "│<span style=\"color: #008080; text-decoration-color: #008080\"> time_USP                                         </span>│<span style=\"color: #800080; text-decoration-color: #800080\"> int  </span>│<span style=\"color: #008000; text-decoration-color: #008000\">       </span>│\n",
       "│<span style=\"color: #008080; text-decoration-color: #008080\"> STY_USP                                          </span>│<span style=\"color: #800080; text-decoration-color: #800080\"> int  </span>│<span style=\"color: #008000; text-decoration-color: #008000\">       </span>│\n",
       "│<span style=\"color: #008080; text-decoration-color: #008080\"> Product_yield_per_substrate                      </span>│<span style=\"color: #800080; text-decoration-color: #800080\"> int  </span>│<span style=\"color: #008000; text-decoration-color: #008000\">       </span>│\n",
       "│<span style=\"color: #008080; text-decoration-color: #008080\"> Product_yield_per_biomass                        </span>│<span style=\"color: #800080; text-decoration-color: #800080\"> int  </span>│<span style=\"color: #008000; text-decoration-color: #008000\">       </span>│\n",
       "│<span style=\"color: #008080; text-decoration-color: #008080\"> Units_per_liter_of_fermentation_broth            </span>│<span style=\"color: #800080; text-decoration-color: #800080\"> int  </span>│<span style=\"color: #008000; text-decoration-color: #008000\">       </span>│\n",
       "│<span style=\"color: #008080; text-decoration-color: #008080\"> Amount_of_enzyme_per_liter_of_fermentation_broth </span>│<span style=\"color: #800080; text-decoration-color: #800080\"> int  </span>│<span style=\"color: #008000; text-decoration-color: #008000\">       </span>│\n",
       "│<span style=\"color: #008080; text-decoration-color: #008080\"> Total_Units                                      </span>│<span style=\"color: #800080; text-decoration-color: #800080\"> int  </span>│<span style=\"color: #008000; text-decoration-color: #008000\">       </span>│\n",
       "└──────────────────────────────────────────────────┴──────┴───────┘\n",
       "</pre>\n"
      ],
      "text/plain": [
       "\u001b[1;35m                              USPKPIs                              \u001b[0m\n",
       "┏━━━━━━━━━━━━━━━━━━━━━━━━━━━━━━━━━━━━━━━━━━━━━━━━━━┳━━━━━━┳━━━━━━━┓\n",
       "┃\u001b[1m \u001b[0m\u001b[1mField                                           \u001b[0m\u001b[1m \u001b[0m┃\u001b[1m \u001b[0m\u001b[1mType\u001b[0m\u001b[1m \u001b[0m┃\u001b[1m \u001b[0m\u001b[1mAdder\u001b[0m\u001b[1m \u001b[0m┃\n",
       "┡━━━━━━━━━━━━━━━━━━━━━━━━━━━━━━━━━━━━━━━━━━━━━━━━━━╇━━━━━━╇━━━━━━━┩\n",
       "│\u001b[36m \u001b[0m\u001b[36mscale                                           \u001b[0m\u001b[36m \u001b[0m│\u001b[35m \u001b[0m\u001b[35mint \u001b[0m\u001b[35m \u001b[0m│\u001b[32m \u001b[0m\u001b[32m     \u001b[0m\u001b[32m \u001b[0m│\n",
       "│\u001b[36m \u001b[0m\u001b[36mtime_USP                                        \u001b[0m\u001b[36m \u001b[0m│\u001b[35m \u001b[0m\u001b[35mint \u001b[0m\u001b[35m \u001b[0m│\u001b[32m \u001b[0m\u001b[32m     \u001b[0m\u001b[32m \u001b[0m│\n",
       "│\u001b[36m \u001b[0m\u001b[36mSTY_USP                                         \u001b[0m\u001b[36m \u001b[0m│\u001b[35m \u001b[0m\u001b[35mint \u001b[0m\u001b[35m \u001b[0m│\u001b[32m \u001b[0m\u001b[32m     \u001b[0m\u001b[32m \u001b[0m│\n",
       "│\u001b[36m \u001b[0m\u001b[36mProduct_yield_per_substrate                     \u001b[0m\u001b[36m \u001b[0m│\u001b[35m \u001b[0m\u001b[35mint \u001b[0m\u001b[35m \u001b[0m│\u001b[32m \u001b[0m\u001b[32m     \u001b[0m\u001b[32m \u001b[0m│\n",
       "│\u001b[36m \u001b[0m\u001b[36mProduct_yield_per_biomass                       \u001b[0m\u001b[36m \u001b[0m│\u001b[35m \u001b[0m\u001b[35mint \u001b[0m\u001b[35m \u001b[0m│\u001b[32m \u001b[0m\u001b[32m     \u001b[0m\u001b[32m \u001b[0m│\n",
       "│\u001b[36m \u001b[0m\u001b[36mUnits_per_liter_of_fermentation_broth           \u001b[0m\u001b[36m \u001b[0m│\u001b[35m \u001b[0m\u001b[35mint \u001b[0m\u001b[35m \u001b[0m│\u001b[32m \u001b[0m\u001b[32m     \u001b[0m\u001b[32m \u001b[0m│\n",
       "│\u001b[36m \u001b[0m\u001b[36mAmount_of_enzyme_per_liter_of_fermentation_broth\u001b[0m\u001b[36m \u001b[0m│\u001b[35m \u001b[0m\u001b[35mint \u001b[0m\u001b[35m \u001b[0m│\u001b[32m \u001b[0m\u001b[32m     \u001b[0m\u001b[32m \u001b[0m│\n",
       "│\u001b[36m \u001b[0m\u001b[36mTotal_Units                                     \u001b[0m\u001b[36m \u001b[0m│\u001b[35m \u001b[0m\u001b[35mint \u001b[0m\u001b[35m \u001b[0m│\u001b[32m \u001b[0m\u001b[32m     \u001b[0m\u001b[32m \u001b[0m│\n",
       "└──────────────────────────────────────────────────┴──────┴───────┘\n"
      ]
     },
     "metadata": {},
     "output_type": "display_data"
    },
    {
     "data": {
      "text/html": [
       "<pre style=\"white-space:pre;overflow-x:auto;line-height:normal;font-family:Menlo,'DejaVu Sans Mono',consolas,'Courier New',monospace\"><span style=\"color: #800080; text-decoration-color: #800080; font-weight: bold\">                   USP                   </span>\n",
       "┏━━━━━━━━━━━━━━━━━┳━━━━━━━━━━━━━┳━━━━━━━┓\n",
       "┃<span style=\"font-weight: bold\"> Field           </span>┃<span style=\"font-weight: bold\"> Type        </span>┃<span style=\"font-weight: bold\"> Adder </span>┃\n",
       "┡━━━━━━━━━━━━━━━━━╇━━━━━━━━━━━━━╇━━━━━━━┩\n",
       "│<span style=\"color: #008080; text-decoration-color: #008080\"> process_mode    </span>│<span style=\"color: #800080; text-decoration-color: #800080\"> Processmode </span>│<span style=\"color: #008000; text-decoration-color: #008000\">       </span>│\n",
       "│<span style=\"color: #008080; text-decoration-color: #008080\"> expression_host </span>│<span style=\"color: #800080; text-decoration-color: #800080\"> str         </span>│<span style=\"color: #008000; text-decoration-color: #008000\">       </span>│\n",
       "│<span style=\"color: #008080; text-decoration-color: #008080\"> origin_organism </span>│<span style=\"color: #800080; text-decoration-color: #800080\"> str         </span>│<span style=\"color: #008000; text-decoration-color: #008000\">       </span>│\n",
       "│<span style=\"color: #008080; text-decoration-color: #008080\"> USP_KPIs        </span>│<span style=\"color: #800080; text-decoration-color: #800080\"> USPKPIs     </span>│<span style=\"color: #008000; text-decoration-color: #008000\">       </span>│\n",
       "└─────────────────┴─────────────┴───────┘\n",
       "</pre>\n"
      ],
      "text/plain": [
       "\u001b[1;35m                   USP                   \u001b[0m\n",
       "┏━━━━━━━━━━━━━━━━━┳━━━━━━━━━━━━━┳━━━━━━━┓\n",
       "┃\u001b[1m \u001b[0m\u001b[1mField          \u001b[0m\u001b[1m \u001b[0m┃\u001b[1m \u001b[0m\u001b[1mType       \u001b[0m\u001b[1m \u001b[0m┃\u001b[1m \u001b[0m\u001b[1mAdder\u001b[0m\u001b[1m \u001b[0m┃\n",
       "┡━━━━━━━━━━━━━━━━━╇━━━━━━━━━━━━━╇━━━━━━━┩\n",
       "│\u001b[36m \u001b[0m\u001b[36mprocess_mode   \u001b[0m\u001b[36m \u001b[0m│\u001b[35m \u001b[0m\u001b[35mProcessmode\u001b[0m\u001b[35m \u001b[0m│\u001b[32m \u001b[0m\u001b[32m     \u001b[0m\u001b[32m \u001b[0m│\n",
       "│\u001b[36m \u001b[0m\u001b[36mexpression_host\u001b[0m\u001b[36m \u001b[0m│\u001b[35m \u001b[0m\u001b[35mstr        \u001b[0m\u001b[35m \u001b[0m│\u001b[32m \u001b[0m\u001b[32m     \u001b[0m\u001b[32m \u001b[0m│\n",
       "│\u001b[36m \u001b[0m\u001b[36morigin_organism\u001b[0m\u001b[36m \u001b[0m│\u001b[35m \u001b[0m\u001b[35mstr        \u001b[0m\u001b[35m \u001b[0m│\u001b[32m \u001b[0m\u001b[32m     \u001b[0m\u001b[32m \u001b[0m│\n",
       "│\u001b[36m \u001b[0m\u001b[36mUSP_KPIs       \u001b[0m\u001b[36m \u001b[0m│\u001b[35m \u001b[0m\u001b[35mUSPKPIs    \u001b[0m\u001b[35m \u001b[0m│\u001b[32m \u001b[0m\u001b[32m     \u001b[0m\u001b[32m \u001b[0m│\n",
       "└─────────────────┴─────────────┴───────┘\n"
      ]
     },
     "metadata": {},
     "output_type": "display_data"
    },
    {
     "data": {
      "text/html": [
       "<pre style=\"white-space:pre;overflow-x:auto;line-height:normal;font-family:Menlo,'DejaVu Sans Mono',consolas,'Courier New',monospace\"><span style=\"color: #800080; text-decoration-color: #800080; font-weight: bold\">               Purification               </span>\n",
       "┏━━━━━━━━━━━━━━━━━━━━┳━━━━━━━━━━━┳━━━━━━━┓\n",
       "┃<span style=\"font-weight: bold\"> Field              </span>┃<span style=\"font-weight: bold\"> Type      </span>┃<span style=\"font-weight: bold\"> Adder </span>┃\n",
       "┡━━━━━━━━━━━━━━━━━━━━╇━━━━━━━━━━━╇━━━━━━━┩\n",
       "│<span style=\"color: #008080; text-decoration-color: #008080\"> step_no            </span>│<span style=\"color: #800080; text-decoration-color: #800080\"> int       </span>│<span style=\"color: #008000; text-decoration-color: #008000\">       </span>│\n",
       "│<span style=\"color: #008080; text-decoration-color: #008080\"> pur_method         </span>│<span style=\"color: #800080; text-decoration-color: #800080\"> PurMethod </span>│<span style=\"color: #008000; text-decoration-color: #008000\">       </span>│\n",
       "│<span style=\"color: #008080; text-decoration-color: #008080\"> method_description </span>│<span style=\"color: #800080; text-decoration-color: #800080\"> str       </span>│<span style=\"color: #008000; text-decoration-color: #008000\">       </span>│\n",
       "└────────────────────┴───────────┴───────┘\n",
       "</pre>\n"
      ],
      "text/plain": [
       "\u001b[1;35m               Purification               \u001b[0m\n",
       "┏━━━━━━━━━━━━━━━━━━━━┳━━━━━━━━━━━┳━━━━━━━┓\n",
       "┃\u001b[1m \u001b[0m\u001b[1mField             \u001b[0m\u001b[1m \u001b[0m┃\u001b[1m \u001b[0m\u001b[1mType     \u001b[0m\u001b[1m \u001b[0m┃\u001b[1m \u001b[0m\u001b[1mAdder\u001b[0m\u001b[1m \u001b[0m┃\n",
       "┡━━━━━━━━━━━━━━━━━━━━╇━━━━━━━━━━━╇━━━━━━━┩\n",
       "│\u001b[36m \u001b[0m\u001b[36mstep_no           \u001b[0m\u001b[36m \u001b[0m│\u001b[35m \u001b[0m\u001b[35mint      \u001b[0m\u001b[35m \u001b[0m│\u001b[32m \u001b[0m\u001b[32m     \u001b[0m\u001b[32m \u001b[0m│\n",
       "│\u001b[36m \u001b[0m\u001b[36mpur_method        \u001b[0m\u001b[36m \u001b[0m│\u001b[35m \u001b[0m\u001b[35mPurMethod\u001b[0m\u001b[35m \u001b[0m│\u001b[32m \u001b[0m\u001b[32m     \u001b[0m\u001b[32m \u001b[0m│\n",
       "│\u001b[36m \u001b[0m\u001b[36mmethod_description\u001b[0m\u001b[36m \u001b[0m│\u001b[35m \u001b[0m\u001b[35mstr      \u001b[0m\u001b[35m \u001b[0m│\u001b[32m \u001b[0m\u001b[32m     \u001b[0m\u001b[32m \u001b[0m│\n",
       "└────────────────────┴───────────┴───────┘\n"
      ]
     },
     "metadata": {},
     "output_type": "display_data"
    },
    {
     "data": {
      "text/html": [
       "<pre style=\"white-space:pre;overflow-x:auto;line-height:normal;font-family:Menlo,'DejaVu Sans Mono',consolas,'Courier New',monospace\"><span style=\"color: #800080; text-decoration-color: #800080; font-weight: bold\">                                     Cells                                     </span>\n",
       "┏━━━━━━━━━━━━━━━━━━━━━━━━━━━━━┳━━━━━━━━━━━━━━━━━━━━━━━━━┳━━━━━━━━━━━━━━━━━━━━━┓\n",
       "┃<span style=\"font-weight: bold\"> Field                       </span>┃<span style=\"font-weight: bold\"> Type                    </span>┃<span style=\"font-weight: bold\"> Adder               </span>┃\n",
       "┡━━━━━━━━━━━━━━━━━━━━━━━━━━━━━╇━━━━━━━━━━━━━━━━━━━━━━━━━╇━━━━━━━━━━━━━━━━━━━━━┩\n",
       "│<span style=\"color: #008080; text-decoration-color: #008080\"> cell_lysis                  </span>│<span style=\"color: #800080; text-decoration-color: #800080\"> str                     </span>│<span style=\"color: #008000; text-decoration-color: #008000\">                     </span>│\n",
       "│<span style=\"color: #008080; text-decoration-color: #008080\"> centrifugation              </span>│<span style=\"color: #800080; text-decoration-color: #800080\"> str                     </span>│<span style=\"color: #008000; text-decoration-color: #008000\">                     </span>│\n",
       "│<span style=\"color: #008080; text-decoration-color: #008080\"> cells_or_extract_as_product </span>│<span style=\"color: #800080; text-decoration-color: #800080\"> CellsOrExtractAsProduct </span>│<span style=\"color: #008000; text-decoration-color: #008000\">                     </span>│\n",
       "│<span style=\"color: #008080; text-decoration-color: #008080\"> purification                </span>│<span style=\"color: #800080; text-decoration-color: #800080\"> list[Purification]      </span>│<span style=\"color: #008000; text-decoration-color: #008000\"> add_to_purification </span>│\n",
       "└─────────────────────────────┴─────────────────────────┴─────────────────────┘\n",
       "</pre>\n"
      ],
      "text/plain": [
       "\u001b[1;35m                                     Cells                                     \u001b[0m\n",
       "┏━━━━━━━━━━━━━━━━━━━━━━━━━━━━━┳━━━━━━━━━━━━━━━━━━━━━━━━━┳━━━━━━━━━━━━━━━━━━━━━┓\n",
       "┃\u001b[1m \u001b[0m\u001b[1mField                      \u001b[0m\u001b[1m \u001b[0m┃\u001b[1m \u001b[0m\u001b[1mType                   \u001b[0m\u001b[1m \u001b[0m┃\u001b[1m \u001b[0m\u001b[1mAdder              \u001b[0m\u001b[1m \u001b[0m┃\n",
       "┡━━━━━━━━━━━━━━━━━━━━━━━━━━━━━╇━━━━━━━━━━━━━━━━━━━━━━━━━╇━━━━━━━━━━━━━━━━━━━━━┩\n",
       "│\u001b[36m \u001b[0m\u001b[36mcell_lysis                 \u001b[0m\u001b[36m \u001b[0m│\u001b[35m \u001b[0m\u001b[35mstr                    \u001b[0m\u001b[35m \u001b[0m│\u001b[32m \u001b[0m\u001b[32m                   \u001b[0m\u001b[32m \u001b[0m│\n",
       "│\u001b[36m \u001b[0m\u001b[36mcentrifugation             \u001b[0m\u001b[36m \u001b[0m│\u001b[35m \u001b[0m\u001b[35mstr                    \u001b[0m\u001b[35m \u001b[0m│\u001b[32m \u001b[0m\u001b[32m                   \u001b[0m\u001b[32m \u001b[0m│\n",
       "│\u001b[36m \u001b[0m\u001b[36mcells_or_extract_as_product\u001b[0m\u001b[36m \u001b[0m│\u001b[35m \u001b[0m\u001b[35mCellsOrExtractAsProduct\u001b[0m\u001b[35m \u001b[0m│\u001b[32m \u001b[0m\u001b[32m                   \u001b[0m\u001b[32m \u001b[0m│\n",
       "│\u001b[36m \u001b[0m\u001b[36mpurification               \u001b[0m\u001b[36m \u001b[0m│\u001b[35m \u001b[0m\u001b[35mlist[Purification]     \u001b[0m\u001b[35m \u001b[0m│\u001b[32m \u001b[0m\u001b[32madd_to_purification\u001b[0m\u001b[32m \u001b[0m│\n",
       "└─────────────────────────────┴─────────────────────────┴─────────────────────┘\n"
      ]
     },
     "metadata": {},
     "output_type": "display_data"
    },
    {
     "data": {
      "text/html": [
       "<pre style=\"white-space:pre;overflow-x:auto;line-height:normal;font-family:Menlo,'DejaVu Sans Mono',consolas,'Courier New',monospace\"><span style=\"color: #800080; text-decoration-color: #800080; font-weight: bold\">                         Supernatant                         </span>\n",
       "┏━━━━━━━━━━━━━━━━┳━━━━━━━━━━━━━━━━━━━━┳━━━━━━━━━━━━━━━━━━━━━┓\n",
       "┃<span style=\"font-weight: bold\"> Field          </span>┃<span style=\"font-weight: bold\"> Type               </span>┃<span style=\"font-weight: bold\"> Adder               </span>┃\n",
       "┡━━━━━━━━━━━━━━━━╇━━━━━━━━━━━━━━━━━━━━╇━━━━━━━━━━━━━━━━━━━━━┩\n",
       "│<span style=\"color: #008080; text-decoration-color: #008080\"> centrifugation </span>│<span style=\"color: #800080; text-decoration-color: #800080\"> str                </span>│<span style=\"color: #008000; text-decoration-color: #008000\">                     </span>│\n",
       "│<span style=\"color: #008080; text-decoration-color: #008080\"> purification   </span>│<span style=\"color: #800080; text-decoration-color: #800080\"> list[Purification] </span>│<span style=\"color: #008000; text-decoration-color: #008000\"> add_to_purification </span>│\n",
       "└────────────────┴────────────────────┴─────────────────────┘\n",
       "</pre>\n"
      ],
      "text/plain": [
       "\u001b[1;35m                         Supernatant                         \u001b[0m\n",
       "┏━━━━━━━━━━━━━━━━┳━━━━━━━━━━━━━━━━━━━━┳━━━━━━━━━━━━━━━━━━━━━┓\n",
       "┃\u001b[1m \u001b[0m\u001b[1mField         \u001b[0m\u001b[1m \u001b[0m┃\u001b[1m \u001b[0m\u001b[1mType              \u001b[0m\u001b[1m \u001b[0m┃\u001b[1m \u001b[0m\u001b[1mAdder              \u001b[0m\u001b[1m \u001b[0m┃\n",
       "┡━━━━━━━━━━━━━━━━╇━━━━━━━━━━━━━━━━━━━━╇━━━━━━━━━━━━━━━━━━━━━┩\n",
       "│\u001b[36m \u001b[0m\u001b[36mcentrifugation\u001b[0m\u001b[36m \u001b[0m│\u001b[35m \u001b[0m\u001b[35mstr               \u001b[0m\u001b[35m \u001b[0m│\u001b[32m \u001b[0m\u001b[32m                   \u001b[0m\u001b[32m \u001b[0m│\n",
       "│\u001b[36m \u001b[0m\u001b[36mpurification  \u001b[0m\u001b[36m \u001b[0m│\u001b[35m \u001b[0m\u001b[35mlist[Purification]\u001b[0m\u001b[35m \u001b[0m│\u001b[32m \u001b[0m\u001b[32madd_to_purification\u001b[0m\u001b[32m \u001b[0m│\n",
       "└────────────────┴────────────────────┴─────────────────────┘\n"
      ]
     },
     "metadata": {},
     "output_type": "display_data"
    },
    {
     "data": {
      "text/html": [
       "<pre style=\"white-space:pre;overflow-x:auto;line-height:normal;font-family:Menlo,'DejaVu Sans Mono',consolas,'Courier New',monospace\"><span style=\"color: #800080; text-decoration-color: #800080; font-weight: bold\">             HarvestKPIs              </span>\n",
       "┏━━━━━━━━━━━━━━━━━━━━━┳━━━━━━┳━━━━━━━┓\n",
       "┃<span style=\"font-weight: bold\"> Field               </span>┃<span style=\"font-weight: bold\"> Type </span>┃<span style=\"font-weight: bold\"> Adder </span>┃\n",
       "┡━━━━━━━━━━━━━━━━━━━━━╇━━━━━━╇━━━━━━━┩\n",
       "│<span style=\"color: #008080; text-decoration-color: #008080\"> mg_enzyme_recovered </span>│<span style=\"color: #800080; text-decoration-color: #800080\"> int  </span>│<span style=\"color: #008000; text-decoration-color: #008000\">       </span>│\n",
       "│<span style=\"color: #008080; text-decoration-color: #008080\"> U_enzyme_recovered  </span>│<span style=\"color: #800080; text-decoration-color: #800080\"> int  </span>│<span style=\"color: #008000; text-decoration-color: #008000\">       </span>│\n",
       "└─────────────────────┴──────┴───────┘\n",
       "</pre>\n"
      ],
      "text/plain": [
       "\u001b[1;35m             HarvestKPIs              \u001b[0m\n",
       "┏━━━━━━━━━━━━━━━━━━━━━┳━━━━━━┳━━━━━━━┓\n",
       "┃\u001b[1m \u001b[0m\u001b[1mField              \u001b[0m\u001b[1m \u001b[0m┃\u001b[1m \u001b[0m\u001b[1mType\u001b[0m\u001b[1m \u001b[0m┃\u001b[1m \u001b[0m\u001b[1mAdder\u001b[0m\u001b[1m \u001b[0m┃\n",
       "┡━━━━━━━━━━━━━━━━━━━━━╇━━━━━━╇━━━━━━━┩\n",
       "│\u001b[36m \u001b[0m\u001b[36mmg_enzyme_recovered\u001b[0m\u001b[36m \u001b[0m│\u001b[35m \u001b[0m\u001b[35mint \u001b[0m\u001b[35m \u001b[0m│\u001b[32m \u001b[0m\u001b[32m     \u001b[0m\u001b[32m \u001b[0m│\n",
       "│\u001b[36m \u001b[0m\u001b[36mU_enzyme_recovered \u001b[0m\u001b[36m \u001b[0m│\u001b[35m \u001b[0m\u001b[35mint \u001b[0m\u001b[35m \u001b[0m│\u001b[32m \u001b[0m\u001b[32m     \u001b[0m\u001b[32m \u001b[0m│\n",
       "└─────────────────────┴──────┴───────┘\n"
      ]
     },
     "metadata": {},
     "output_type": "display_data"
    },
    {
     "data": {
      "text/html": [
       "<pre style=\"white-space:pre;overflow-x:auto;line-height:normal;font-family:Menlo,'DejaVu Sans Mono',consolas,'Courier New',monospace\"><span style=\"color: #800080; text-decoration-color: #800080; font-weight: bold\">               Harvest                </span>\n",
       "┏━━━━━━━━━━━━━━┳━━━━━━━━━━━━━┳━━━━━━━┓\n",
       "┃<span style=\"font-weight: bold\"> Field        </span>┃<span style=\"font-weight: bold\"> Type        </span>┃<span style=\"font-weight: bold\"> Adder </span>┃\n",
       "┡━━━━━━━━━━━━━━╇━━━━━━━━━━━━━╇━━━━━━━┩\n",
       "│<span style=\"color: #008080; text-decoration-color: #008080\"> cells        </span>│<span style=\"color: #800080; text-decoration-color: #800080\"> Cells       </span>│<span style=\"color: #008000; text-decoration-color: #008000\">       </span>│\n",
       "│<span style=\"color: #008080; text-decoration-color: #008080\"> supernatant  </span>│<span style=\"color: #800080; text-decoration-color: #800080\"> Supernatant </span>│<span style=\"color: #008000; text-decoration-color: #008000\">       </span>│\n",
       "│<span style=\"color: #008080; text-decoration-color: #008080\"> harvest_KPIs </span>│<span style=\"color: #800080; text-decoration-color: #800080\"> HarvestKPIs </span>│<span style=\"color: #008000; text-decoration-color: #008000\">       </span>│\n",
       "└──────────────┴─────────────┴───────┘\n",
       "</pre>\n"
      ],
      "text/plain": [
       "\u001b[1;35m               Harvest                \u001b[0m\n",
       "┏━━━━━━━━━━━━━━┳━━━━━━━━━━━━━┳━━━━━━━┓\n",
       "┃\u001b[1m \u001b[0m\u001b[1mField       \u001b[0m\u001b[1m \u001b[0m┃\u001b[1m \u001b[0m\u001b[1mType       \u001b[0m\u001b[1m \u001b[0m┃\u001b[1m \u001b[0m\u001b[1mAdder\u001b[0m\u001b[1m \u001b[0m┃\n",
       "┡━━━━━━━━━━━━━━╇━━━━━━━━━━━━━╇━━━━━━━┩\n",
       "│\u001b[36m \u001b[0m\u001b[36mcells       \u001b[0m\u001b[36m \u001b[0m│\u001b[35m \u001b[0m\u001b[35mCells      \u001b[0m\u001b[35m \u001b[0m│\u001b[32m \u001b[0m\u001b[32m     \u001b[0m\u001b[32m \u001b[0m│\n",
       "│\u001b[36m \u001b[0m\u001b[36msupernatant \u001b[0m\u001b[36m \u001b[0m│\u001b[35m \u001b[0m\u001b[35mSupernatant\u001b[0m\u001b[35m \u001b[0m│\u001b[32m \u001b[0m\u001b[32m     \u001b[0m\u001b[32m \u001b[0m│\n",
       "│\u001b[36m \u001b[0m\u001b[36mharvest_KPIs\u001b[0m\u001b[36m \u001b[0m│\u001b[35m \u001b[0m\u001b[35mHarvestKPIs\u001b[0m\u001b[35m \u001b[0m│\u001b[32m \u001b[0m\u001b[32m     \u001b[0m\u001b[32m \u001b[0m│\n",
       "└──────────────┴─────────────┴───────┘\n"
      ]
     },
     "metadata": {},
     "output_type": "display_data"
    },
    {
     "data": {
      "text/html": [
       "<pre style=\"white-space:pre;overflow-x:auto;line-height:normal;font-family:Menlo,'DejaVu Sans Mono',consolas,'Courier New',monospace\"><span style=\"color: #800080; text-decoration-color: #800080; font-weight: bold\">               Produced                </span>\n",
       "┏━━━━━━━━━━━━━━┳━━━━━━━━━━━━━━┳━━━━━━━┓\n",
       "┃<span style=\"font-weight: bold\"> Field        </span>┃<span style=\"font-weight: bold\"> Type         </span>┃<span style=\"font-weight: bold\"> Adder </span>┃\n",
       "┡━━━━━━━━━━━━━━╇━━━━━━━━━━━━━━╇━━━━━━━┩\n",
       "│<span style=\"color: #008080; text-decoration-color: #008080\"> modification </span>│<span style=\"color: #800080; text-decoration-color: #800080\"> Modification </span>│<span style=\"color: #008000; text-decoration-color: #008000\">       </span>│\n",
       "│<span style=\"color: #008080; text-decoration-color: #008080\"> usp          </span>│<span style=\"color: #800080; text-decoration-color: #800080\"> USP          </span>│<span style=\"color: #008000; text-decoration-color: #008000\">       </span>│\n",
       "│<span style=\"color: #008080; text-decoration-color: #008080\"> harvest      </span>│<span style=\"color: #800080; text-decoration-color: #800080\"> Harvest      </span>│<span style=\"color: #008000; text-decoration-color: #008000\">       </span>│\n",
       "└──────────────┴──────────────┴───────┘\n",
       "</pre>\n"
      ],
      "text/plain": [
       "\u001b[1;35m               Produced                \u001b[0m\n",
       "┏━━━━━━━━━━━━━━┳━━━━━━━━━━━━━━┳━━━━━━━┓\n",
       "┃\u001b[1m \u001b[0m\u001b[1mField       \u001b[0m\u001b[1m \u001b[0m┃\u001b[1m \u001b[0m\u001b[1mType        \u001b[0m\u001b[1m \u001b[0m┃\u001b[1m \u001b[0m\u001b[1mAdder\u001b[0m\u001b[1m \u001b[0m┃\n",
       "┡━━━━━━━━━━━━━━╇━━━━━━━━━━━━━━╇━━━━━━━┩\n",
       "│\u001b[36m \u001b[0m\u001b[36mmodification\u001b[0m\u001b[36m \u001b[0m│\u001b[35m \u001b[0m\u001b[35mModification\u001b[0m\u001b[35m \u001b[0m│\u001b[32m \u001b[0m\u001b[32m     \u001b[0m\u001b[32m \u001b[0m│\n",
       "│\u001b[36m \u001b[0m\u001b[36musp         \u001b[0m\u001b[36m \u001b[0m│\u001b[35m \u001b[0m\u001b[35mUSP         \u001b[0m\u001b[35m \u001b[0m│\u001b[32m \u001b[0m\u001b[32m     \u001b[0m\u001b[32m \u001b[0m│\n",
       "│\u001b[36m \u001b[0m\u001b[36mharvest     \u001b[0m\u001b[36m \u001b[0m│\u001b[35m \u001b[0m\u001b[35mHarvest     \u001b[0m\u001b[35m \u001b[0m│\u001b[32m \u001b[0m\u001b[32m     \u001b[0m\u001b[32m \u001b[0m│\n",
       "└──────────────┴──────────────┴───────┘\n"
      ]
     },
     "metadata": {},
     "output_type": "display_data"
    },
    {
     "data": {
      "text/html": [
       "<pre style=\"white-space:pre;overflow-x:auto;line-height:normal;font-family:Menlo,'DejaVu Sans Mono',consolas,'Courier New',monospace\"><span style=\"color: #800080; text-decoration-color: #800080; font-weight: bold\">                   Enzyme                    </span>\n",
       "┏━━━━━━━━━━━━━━━━━━━━━━━━┳━━━━━━━━━━┳━━━━━━━┓\n",
       "┃<span style=\"font-weight: bold\"> Field                  </span>┃<span style=\"font-weight: bold\"> Type     </span>┃<span style=\"font-weight: bold\"> Adder </span>┃\n",
       "┡━━━━━━━━━━━━━━━━━━━━━━━━╇━━━━━━━━━━╇━━━━━━━┩\n",
       "│<span style=\"color: #008080; text-decoration-color: #008080\"> purchase               </span>│<span style=\"color: #800080; text-decoration-color: #800080\"> Purchase </span>│<span style=\"color: #008000; text-decoration-color: #008000\">       </span>│\n",
       "│<span style=\"color: #008080; text-decoration-color: #008080\"> produced               </span>│<span style=\"color: #800080; text-decoration-color: #800080\"> Produced </span>│<span style=\"color: #008000; text-decoration-color: #008000\">       </span>│\n",
       "│<span style=\"color: #008080; text-decoration-color: #008080\"> ec_number              </span>│<span style=\"color: #800080; text-decoration-color: #800080\"> str      </span>│<span style=\"color: #008000; text-decoration-color: #008000\">       </span>│\n",
       "│<span style=\"color: #008080; text-decoration-color: #008080\"> molecular_weight       </span>│<span style=\"color: #800080; text-decoration-color: #800080\"> str      </span>│<span style=\"color: #008000; text-decoration-color: #008000\">       </span>│\n",
       "│<span style=\"color: #008080; text-decoration-color: #008080\"> as_sequ                </span>│<span style=\"color: #800080; text-decoration-color: #800080\"> str      </span>│<span style=\"color: #008000; text-decoration-color: #008000\">       </span>│\n",
       "│<span style=\"color: #008080; text-decoration-color: #008080\"> spec_activity_wt       </span>│<span style=\"color: #800080; text-decoration-color: #800080\"> int      </span>│<span style=\"color: #008000; text-decoration-color: #008000\">       </span>│\n",
       "│<span style=\"color: #008080; text-decoration-color: #008080\"> reaction_spec_activity </span>│<span style=\"color: #800080; text-decoration-color: #800080\"> str      </span>│<span style=\"color: #008000; text-decoration-color: #008000\">       </span>│\n",
       "└────────────────────────┴──────────┴───────┘\n",
       "</pre>\n"
      ],
      "text/plain": [
       "\u001b[1;35m                   Enzyme                    \u001b[0m\n",
       "┏━━━━━━━━━━━━━━━━━━━━━━━━┳━━━━━━━━━━┳━━━━━━━┓\n",
       "┃\u001b[1m \u001b[0m\u001b[1mField                 \u001b[0m\u001b[1m \u001b[0m┃\u001b[1m \u001b[0m\u001b[1mType    \u001b[0m\u001b[1m \u001b[0m┃\u001b[1m \u001b[0m\u001b[1mAdder\u001b[0m\u001b[1m \u001b[0m┃\n",
       "┡━━━━━━━━━━━━━━━━━━━━━━━━╇━━━━━━━━━━╇━━━━━━━┩\n",
       "│\u001b[36m \u001b[0m\u001b[36mpurchase              \u001b[0m\u001b[36m \u001b[0m│\u001b[35m \u001b[0m\u001b[35mPurchase\u001b[0m\u001b[35m \u001b[0m│\u001b[32m \u001b[0m\u001b[32m     \u001b[0m\u001b[32m \u001b[0m│\n",
       "│\u001b[36m \u001b[0m\u001b[36mproduced              \u001b[0m\u001b[36m \u001b[0m│\u001b[35m \u001b[0m\u001b[35mProduced\u001b[0m\u001b[35m \u001b[0m│\u001b[32m \u001b[0m\u001b[32m     \u001b[0m\u001b[32m \u001b[0m│\n",
       "│\u001b[36m \u001b[0m\u001b[36mec_number             \u001b[0m\u001b[36m \u001b[0m│\u001b[35m \u001b[0m\u001b[35mstr     \u001b[0m\u001b[35m \u001b[0m│\u001b[32m \u001b[0m\u001b[32m     \u001b[0m\u001b[32m \u001b[0m│\n",
       "│\u001b[36m \u001b[0m\u001b[36mmolecular_weight      \u001b[0m\u001b[36m \u001b[0m│\u001b[35m \u001b[0m\u001b[35mstr     \u001b[0m\u001b[35m \u001b[0m│\u001b[32m \u001b[0m\u001b[32m     \u001b[0m\u001b[32m \u001b[0m│\n",
       "│\u001b[36m \u001b[0m\u001b[36mas_sequ               \u001b[0m\u001b[36m \u001b[0m│\u001b[35m \u001b[0m\u001b[35mstr     \u001b[0m\u001b[35m \u001b[0m│\u001b[32m \u001b[0m\u001b[32m     \u001b[0m\u001b[32m \u001b[0m│\n",
       "│\u001b[36m \u001b[0m\u001b[36mspec_activity_wt      \u001b[0m\u001b[36m \u001b[0m│\u001b[35m \u001b[0m\u001b[35mint     \u001b[0m\u001b[35m \u001b[0m│\u001b[32m \u001b[0m\u001b[32m     \u001b[0m\u001b[32m \u001b[0m│\n",
       "│\u001b[36m \u001b[0m\u001b[36mreaction_spec_activity\u001b[0m\u001b[36m \u001b[0m│\u001b[35m \u001b[0m\u001b[35mstr     \u001b[0m\u001b[35m \u001b[0m│\u001b[32m \u001b[0m\u001b[32m     \u001b[0m\u001b[32m \u001b[0m│\n",
       "└────────────────────────┴──────────┴───────┘\n"
      ]
     },
     "metadata": {},
     "output_type": "display_data"
    },
    {
     "data": {
      "text/html": [
       "<pre style=\"white-space:pre;overflow-x:auto;line-height:normal;font-family:Menlo,'DejaVu Sans Mono',consolas,'Courier New',monospace\"><span style=\"color: #800080; text-decoration-color: #800080; font-weight: bold\">            CarrierBinding             </span>\n",
       "┏━━━━━━━━━━━━━━━━━━━━━━┳━━━━━━┳━━━━━━━┓\n",
       "┃<span style=\"font-weight: bold\"> Field                </span>┃<span style=\"font-weight: bold\"> Type </span>┃<span style=\"font-weight: bold\"> Adder </span>┃\n",
       "┡━━━━━━━━━━━━━━━━━━━━━━╇━━━━━━╇━━━━━━━┩\n",
       "│<span style=\"color: #008080; text-decoration-color: #008080\"> material             </span>│<span style=\"color: #800080; text-decoration-color: #800080\"> str  </span>│<span style=\"color: #008000; text-decoration-color: #008000\">       </span>│\n",
       "│<span style=\"color: #008080; text-decoration-color: #008080\"> method               </span>│<span style=\"color: #800080; text-decoration-color: #800080\"> str  </span>│<span style=\"color: #008000; text-decoration-color: #008000\">       </span>│\n",
       "│<span style=\"color: #008080; text-decoration-color: #008080\"> surface_modification </span>│<span style=\"color: #800080; text-decoration-color: #800080\"> str  </span>│<span style=\"color: #008000; text-decoration-color: #008000\">       </span>│\n",
       "└──────────────────────┴──────┴───────┘\n",
       "</pre>\n"
      ],
      "text/plain": [
       "\u001b[1;35m            CarrierBinding             \u001b[0m\n",
       "┏━━━━━━━━━━━━━━━━━━━━━━┳━━━━━━┳━━━━━━━┓\n",
       "┃\u001b[1m \u001b[0m\u001b[1mField               \u001b[0m\u001b[1m \u001b[0m┃\u001b[1m \u001b[0m\u001b[1mType\u001b[0m\u001b[1m \u001b[0m┃\u001b[1m \u001b[0m\u001b[1mAdder\u001b[0m\u001b[1m \u001b[0m┃\n",
       "┡━━━━━━━━━━━━━━━━━━━━━━╇━━━━━━╇━━━━━━━┩\n",
       "│\u001b[36m \u001b[0m\u001b[36mmaterial            \u001b[0m\u001b[36m \u001b[0m│\u001b[35m \u001b[0m\u001b[35mstr \u001b[0m\u001b[35m \u001b[0m│\u001b[32m \u001b[0m\u001b[32m     \u001b[0m\u001b[32m \u001b[0m│\n",
       "│\u001b[36m \u001b[0m\u001b[36mmethod              \u001b[0m\u001b[36m \u001b[0m│\u001b[35m \u001b[0m\u001b[35mstr \u001b[0m\u001b[35m \u001b[0m│\u001b[32m \u001b[0m\u001b[32m     \u001b[0m\u001b[32m \u001b[0m│\n",
       "│\u001b[36m \u001b[0m\u001b[36msurface_modification\u001b[0m\u001b[36m \u001b[0m│\u001b[35m \u001b[0m\u001b[35mstr \u001b[0m\u001b[35m \u001b[0m│\u001b[32m \u001b[0m\u001b[32m     \u001b[0m\u001b[32m \u001b[0m│\n",
       "└──────────────────────┴──────┴───────┘\n"
      ]
     },
     "metadata": {},
     "output_type": "display_data"
    },
    {
     "data": {
      "text/html": [
       "<pre style=\"white-space:pre;overflow-x:auto;line-height:normal;font-family:Menlo,'DejaVu Sans Mono',consolas,'Courier New',monospace\"><span style=\"color: #800080; text-decoration-color: #800080; font-weight: bold\">        Entrapment         </span>\n",
       "┏━━━━━━━━━━┳━━━━━━┳━━━━━━━┓\n",
       "┃<span style=\"font-weight: bold\"> Field    </span>┃<span style=\"font-weight: bold\"> Type </span>┃<span style=\"font-weight: bold\"> Adder </span>┃\n",
       "┡━━━━━━━━━━╇━━━━━━╇━━━━━━━┩\n",
       "│<span style=\"color: #008080; text-decoration-color: #008080\"> material </span>│<span style=\"color: #800080; text-decoration-color: #800080\"> str  </span>│<span style=\"color: #008000; text-decoration-color: #008000\">       </span>│\n",
       "│<span style=\"color: #008080; text-decoration-color: #008080\"> method   </span>│<span style=\"color: #800080; text-decoration-color: #800080\"> str  </span>│<span style=\"color: #008000; text-decoration-color: #008000\">       </span>│\n",
       "└──────────┴──────┴───────┘\n",
       "</pre>\n"
      ],
      "text/plain": [
       "\u001b[1;35m        Entrapment         \u001b[0m\n",
       "┏━━━━━━━━━━┳━━━━━━┳━━━━━━━┓\n",
       "┃\u001b[1m \u001b[0m\u001b[1mField   \u001b[0m\u001b[1m \u001b[0m┃\u001b[1m \u001b[0m\u001b[1mType\u001b[0m\u001b[1m \u001b[0m┃\u001b[1m \u001b[0m\u001b[1mAdder\u001b[0m\u001b[1m \u001b[0m┃\n",
       "┡━━━━━━━━━━╇━━━━━━╇━━━━━━━┩\n",
       "│\u001b[36m \u001b[0m\u001b[36mmaterial\u001b[0m\u001b[36m \u001b[0m│\u001b[35m \u001b[0m\u001b[35mstr \u001b[0m\u001b[35m \u001b[0m│\u001b[32m \u001b[0m\u001b[32m     \u001b[0m\u001b[32m \u001b[0m│\n",
       "│\u001b[36m \u001b[0m\u001b[36mmethod  \u001b[0m\u001b[36m \u001b[0m│\u001b[35m \u001b[0m\u001b[35mstr \u001b[0m\u001b[35m \u001b[0m│\u001b[32m \u001b[0m\u001b[32m     \u001b[0m\u001b[32m \u001b[0m│\n",
       "└──────────┴──────┴───────┘\n"
      ]
     },
     "metadata": {},
     "output_type": "display_data"
    },
    {
     "data": {
      "text/html": [
       "<pre style=\"white-space:pre;overflow-x:auto;line-height:normal;font-family:Menlo,'DejaVu Sans Mono',consolas,'Courier New',monospace\"><span style=\"color: #800080; text-decoration-color: #800080; font-weight: bold\">       CarrierFree       </span>\n",
       "┏━━━━━━━━┳━━━━━━┳━━━━━━━┓\n",
       "┃<span style=\"font-weight: bold\"> Field  </span>┃<span style=\"font-weight: bold\"> Type </span>┃<span style=\"font-weight: bold\"> Adder </span>┃\n",
       "┡━━━━━━━━╇━━━━━━╇━━━━━━━┩\n",
       "│<span style=\"color: #008080; text-decoration-color: #008080\"> method </span>│<span style=\"color: #800080; text-decoration-color: #800080\"> str  </span>│<span style=\"color: #008000; text-decoration-color: #008000\">       </span>│\n",
       "└────────┴──────┴───────┘\n",
       "</pre>\n"
      ],
      "text/plain": [
       "\u001b[1;35m       CarrierFree       \u001b[0m\n",
       "┏━━━━━━━━┳━━━━━━┳━━━━━━━┓\n",
       "┃\u001b[1m \u001b[0m\u001b[1mField \u001b[0m\u001b[1m \u001b[0m┃\u001b[1m \u001b[0m\u001b[1mType\u001b[0m\u001b[1m \u001b[0m┃\u001b[1m \u001b[0m\u001b[1mAdder\u001b[0m\u001b[1m \u001b[0m┃\n",
       "┡━━━━━━━━╇━━━━━━╇━━━━━━━┩\n",
       "│\u001b[36m \u001b[0m\u001b[36mmethod\u001b[0m\u001b[36m \u001b[0m│\u001b[35m \u001b[0m\u001b[35mstr \u001b[0m\u001b[35m \u001b[0m│\u001b[32m \u001b[0m\u001b[32m     \u001b[0m\u001b[32m \u001b[0m│\n",
       "└────────┴──────┴───────┘\n"
      ]
     },
     "metadata": {},
     "output_type": "display_data"
    },
    {
     "data": {
      "text/html": [
       "<pre style=\"white-space:pre;overflow-x:auto;line-height:normal;font-family:Menlo,'DejaVu Sans Mono',consolas,'Courier New',monospace\"><span style=\"color: #800080; text-decoration-color: #800080; font-weight: bold\">               ImmoKPIs                </span>\n",
       "┏━━━━━━━━━━━━━━━━━━━━━━┳━━━━━━┳━━━━━━━┓\n",
       "┃<span style=\"font-weight: bold\"> Field                </span>┃<span style=\"font-weight: bold\"> Type </span>┃<span style=\"font-weight: bold\"> Adder </span>┃\n",
       "┡━━━━━━━━━━━━━━━━━━━━━━╇━━━━━━╇━━━━━━━┩\n",
       "│<span style=\"color: #008080; text-decoration-color: #008080\"> immobilisation_yield </span>│<span style=\"color: #800080; text-decoration-color: #800080\"> int  </span>│<span style=\"color: #008000; text-decoration-color: #008000\">       </span>│\n",
       "│<span style=\"color: #008080; text-decoration-color: #008080\"> activity_yield       </span>│<span style=\"color: #800080; text-decoration-color: #800080\"> int  </span>│<span style=\"color: #008000; text-decoration-color: #008000\">       </span>│\n",
       "│<span style=\"color: #008080; text-decoration-color: #008080\"> specific_activity    </span>│<span style=\"color: #800080; text-decoration-color: #800080\"> int  </span>│<span style=\"color: #008000; text-decoration-color: #008000\">       </span>│\n",
       "│<span style=\"color: #008080; text-decoration-color: #008080\"> change_spec_activity </span>│<span style=\"color: #800080; text-decoration-color: #800080\"> int  </span>│<span style=\"color: #008000; text-decoration-color: #008000\">       </span>│\n",
       "│<span style=\"color: #008080; text-decoration-color: #008080\"> Loading              </span>│<span style=\"color: #800080; text-decoration-color: #800080\"> int  </span>│<span style=\"color: #008000; text-decoration-color: #008000\">       </span>│\n",
       "└──────────────────────┴──────┴───────┘\n",
       "</pre>\n"
      ],
      "text/plain": [
       "\u001b[1;35m               ImmoKPIs                \u001b[0m\n",
       "┏━━━━━━━━━━━━━━━━━━━━━━┳━━━━━━┳━━━━━━━┓\n",
       "┃\u001b[1m \u001b[0m\u001b[1mField               \u001b[0m\u001b[1m \u001b[0m┃\u001b[1m \u001b[0m\u001b[1mType\u001b[0m\u001b[1m \u001b[0m┃\u001b[1m \u001b[0m\u001b[1mAdder\u001b[0m\u001b[1m \u001b[0m┃\n",
       "┡━━━━━━━━━━━━━━━━━━━━━━╇━━━━━━╇━━━━━━━┩\n",
       "│\u001b[36m \u001b[0m\u001b[36mimmobilisation_yield\u001b[0m\u001b[36m \u001b[0m│\u001b[35m \u001b[0m\u001b[35mint \u001b[0m\u001b[35m \u001b[0m│\u001b[32m \u001b[0m\u001b[32m     \u001b[0m\u001b[32m \u001b[0m│\n",
       "│\u001b[36m \u001b[0m\u001b[36mactivity_yield      \u001b[0m\u001b[36m \u001b[0m│\u001b[35m \u001b[0m\u001b[35mint \u001b[0m\u001b[35m \u001b[0m│\u001b[32m \u001b[0m\u001b[32m     \u001b[0m\u001b[32m \u001b[0m│\n",
       "│\u001b[36m \u001b[0m\u001b[36mspecific_activity   \u001b[0m\u001b[36m \u001b[0m│\u001b[35m \u001b[0m\u001b[35mint \u001b[0m\u001b[35m \u001b[0m│\u001b[32m \u001b[0m\u001b[32m     \u001b[0m\u001b[32m \u001b[0m│\n",
       "│\u001b[36m \u001b[0m\u001b[36mchange_spec_activity\u001b[0m\u001b[36m \u001b[0m│\u001b[35m \u001b[0m\u001b[35mint \u001b[0m\u001b[35m \u001b[0m│\u001b[32m \u001b[0m\u001b[32m     \u001b[0m\u001b[32m \u001b[0m│\n",
       "│\u001b[36m \u001b[0m\u001b[36mLoading             \u001b[0m\u001b[36m \u001b[0m│\u001b[35m \u001b[0m\u001b[35mint \u001b[0m\u001b[35m \u001b[0m│\u001b[32m \u001b[0m\u001b[32m     \u001b[0m\u001b[32m \u001b[0m│\n",
       "└──────────────────────┴──────┴───────┘\n"
      ]
     },
     "metadata": {},
     "output_type": "display_data"
    },
    {
     "data": {
      "text/html": [
       "<pre style=\"white-space:pre;overflow-x:auto;line-height:normal;font-family:Menlo,'DejaVu Sans Mono',consolas,'Courier New',monospace\"><span style=\"color: #800080; text-decoration-color: #800080; font-weight: bold\">                   Immobilisation                    </span>\n",
       "┏━━━━━━━━━━━━━━━━━━━━━━━━━━┳━━━━━━━━━━━━━━━━┳━━━━━━━┓\n",
       "┃<span style=\"font-weight: bold\"> Field                    </span>┃<span style=\"font-weight: bold\"> Type           </span>┃<span style=\"font-weight: bold\"> Adder </span>┃\n",
       "┡━━━━━━━━━━━━━━━━━━━━━━━━━━╇━━━━━━━━━━━━━━━━╇━━━━━━━┩\n",
       "│<span style=\"color: #008080; text-decoration-color: #008080\"> immobilisation_chemistry </span>│<span style=\"color: #800080; text-decoration-color: #800080\"> str            </span>│<span style=\"color: #008000; text-decoration-color: #008000\">       </span>│\n",
       "│<span style=\"color: #008080; text-decoration-color: #008080\"> carrier_binding          </span>│<span style=\"color: #800080; text-decoration-color: #800080\"> CarrierBinding </span>│<span style=\"color: #008000; text-decoration-color: #008000\">       </span>│\n",
       "│<span style=\"color: #008080; text-decoration-color: #008080\"> entrapment               </span>│<span style=\"color: #800080; text-decoration-color: #800080\"> Entrapment     </span>│<span style=\"color: #008000; text-decoration-color: #008000\">       </span>│\n",
       "│<span style=\"color: #008080; text-decoration-color: #008080\"> carrier_free             </span>│<span style=\"color: #800080; text-decoration-color: #800080\"> CarrierFree    </span>│<span style=\"color: #008000; text-decoration-color: #008000\">       </span>│\n",
       "│<span style=\"color: #008080; text-decoration-color: #008080\"> immo_kpis                </span>│<span style=\"color: #800080; text-decoration-color: #800080\"> ImmoKPIs       </span>│<span style=\"color: #008000; text-decoration-color: #008000\">       </span>│\n",
       "└──────────────────────────┴────────────────┴───────┘\n",
       "</pre>\n"
      ],
      "text/plain": [
       "\u001b[1;35m                   Immobilisation                    \u001b[0m\n",
       "┏━━━━━━━━━━━━━━━━━━━━━━━━━━┳━━━━━━━━━━━━━━━━┳━━━━━━━┓\n",
       "┃\u001b[1m \u001b[0m\u001b[1mField                   \u001b[0m\u001b[1m \u001b[0m┃\u001b[1m \u001b[0m\u001b[1mType          \u001b[0m\u001b[1m \u001b[0m┃\u001b[1m \u001b[0m\u001b[1mAdder\u001b[0m\u001b[1m \u001b[0m┃\n",
       "┡━━━━━━━━━━━━━━━━━━━━━━━━━━╇━━━━━━━━━━━━━━━━╇━━━━━━━┩\n",
       "│\u001b[36m \u001b[0m\u001b[36mimmobilisation_chemistry\u001b[0m\u001b[36m \u001b[0m│\u001b[35m \u001b[0m\u001b[35mstr           \u001b[0m\u001b[35m \u001b[0m│\u001b[32m \u001b[0m\u001b[32m     \u001b[0m\u001b[32m \u001b[0m│\n",
       "│\u001b[36m \u001b[0m\u001b[36mcarrier_binding         \u001b[0m\u001b[36m \u001b[0m│\u001b[35m \u001b[0m\u001b[35mCarrierBinding\u001b[0m\u001b[35m \u001b[0m│\u001b[32m \u001b[0m\u001b[32m     \u001b[0m\u001b[32m \u001b[0m│\n",
       "│\u001b[36m \u001b[0m\u001b[36mentrapment              \u001b[0m\u001b[36m \u001b[0m│\u001b[35m \u001b[0m\u001b[35mEntrapment    \u001b[0m\u001b[35m \u001b[0m│\u001b[32m \u001b[0m\u001b[32m     \u001b[0m\u001b[32m \u001b[0m│\n",
       "│\u001b[36m \u001b[0m\u001b[36mcarrier_free            \u001b[0m\u001b[36m \u001b[0m│\u001b[35m \u001b[0m\u001b[35mCarrierFree   \u001b[0m\u001b[35m \u001b[0m│\u001b[32m \u001b[0m\u001b[32m     \u001b[0m\u001b[32m \u001b[0m│\n",
       "│\u001b[36m \u001b[0m\u001b[36mimmo_kpis               \u001b[0m\u001b[36m \u001b[0m│\u001b[35m \u001b[0m\u001b[35mImmoKPIs      \u001b[0m\u001b[35m \u001b[0m│\u001b[32m \u001b[0m\u001b[32m     \u001b[0m\u001b[32m \u001b[0m│\n",
       "└──────────────────────────┴────────────────┴───────┘\n"
      ]
     },
     "metadata": {},
     "output_type": "display_data"
    },
    {
     "data": {
      "text/html": [
       "<pre style=\"white-space:pre;overflow-x:auto;line-height:normal;font-family:Menlo,'DejaVu Sans Mono',consolas,'Courier New',monospace\"><span style=\"color: #800080; text-decoration-color: #800080; font-weight: bold\">          StorageKPIs          </span>\n",
       "┏━━━━━━━━━━━━━━┳━━━━━━┳━━━━━━━┓\n",
       "┃<span style=\"font-weight: bold\"> Field        </span>┃<span style=\"font-weight: bold\"> Type </span>┃<span style=\"font-weight: bold\"> Adder </span>┃\n",
       "┡━━━━━━━━━━━━━━╇━━━━━━╇━━━━━━━┩\n",
       "│<span style=\"color: #008080; text-decoration-color: #008080\"> mg_recovered </span>│<span style=\"color: #800080; text-decoration-color: #800080\"> int  </span>│<span style=\"color: #008000; text-decoration-color: #008000\">       </span>│\n",
       "│<span style=\"color: #008080; text-decoration-color: #008080\"> U_recovered  </span>│<span style=\"color: #800080; text-decoration-color: #800080\"> int  </span>│<span style=\"color: #008000; text-decoration-color: #008000\">       </span>│\n",
       "└──────────────┴──────┴───────┘\n",
       "</pre>\n"
      ],
      "text/plain": [
       "\u001b[1;35m          StorageKPIs          \u001b[0m\n",
       "┏━━━━━━━━━━━━━━┳━━━━━━┳━━━━━━━┓\n",
       "┃\u001b[1m \u001b[0m\u001b[1mField       \u001b[0m\u001b[1m \u001b[0m┃\u001b[1m \u001b[0m\u001b[1mType\u001b[0m\u001b[1m \u001b[0m┃\u001b[1m \u001b[0m\u001b[1mAdder\u001b[0m\u001b[1m \u001b[0m┃\n",
       "┡━━━━━━━━━━━━━━╇━━━━━━╇━━━━━━━┩\n",
       "│\u001b[36m \u001b[0m\u001b[36mmg_recovered\u001b[0m\u001b[36m \u001b[0m│\u001b[35m \u001b[0m\u001b[35mint \u001b[0m\u001b[35m \u001b[0m│\u001b[32m \u001b[0m\u001b[32m     \u001b[0m\u001b[32m \u001b[0m│\n",
       "│\u001b[36m \u001b[0m\u001b[36mU_recovered \u001b[0m\u001b[36m \u001b[0m│\u001b[35m \u001b[0m\u001b[35mint \u001b[0m\u001b[35m \u001b[0m│\u001b[32m \u001b[0m\u001b[32m     \u001b[0m\u001b[32m \u001b[0m│\n",
       "└──────────────┴──────┴───────┘\n"
      ]
     },
     "metadata": {},
     "output_type": "display_data"
    },
    {
     "data": {
      "text/html": [
       "<pre style=\"white-space:pre;overflow-x:auto;line-height:normal;font-family:Menlo,'DejaVu Sans Mono',consolas,'Courier New',monospace\"><span style=\"color: #800080; text-decoration-color: #800080; font-weight: bold\">                StorageConditions                </span>\n",
       "┏━━━━━━━━━━━━━━━━━━━━━━━━━┳━━━━━━━━━━━━━┳━━━━━━━┓\n",
       "┃<span style=\"font-weight: bold\"> Field                   </span>┃<span style=\"font-weight: bold\"> Type        </span>┃<span style=\"font-weight: bold\"> Adder </span>┃\n",
       "┡━━━━━━━━━━━━━━━━━━━━━━━━━╇━━━━━━━━━━━━━╇━━━━━━━┩\n",
       "│<span style=\"color: #008080; text-decoration-color: #008080\"> temperature             </span>│<span style=\"color: #800080; text-decoration-color: #800080\"> int         </span>│<span style=\"color: #008000; text-decoration-color: #008000\">       </span>│\n",
       "│<span style=\"color: #008080; text-decoration-color: #008080\"> additices               </span>│<span style=\"color: #800080; text-decoration-color: #800080\"> str         </span>│<span style=\"color: #008000; text-decoration-color: #008000\">       </span>│\n",
       "│<span style=\"color: #008080; text-decoration-color: #008080\"> storage_performance_t12 </span>│<span style=\"color: #800080; text-decoration-color: #800080\"> int         </span>│<span style=\"color: #008000; text-decoration-color: #008000\">       </span>│\n",
       "│<span style=\"color: #008080; text-decoration-color: #008080\"> spec_activity           </span>│<span style=\"color: #800080; text-decoration-color: #800080\"> int         </span>│<span style=\"color: #008000; text-decoration-color: #008000\">       </span>│\n",
       "│<span style=\"color: #008080; text-decoration-color: #008080\"> storage_KPIs            </span>│<span style=\"color: #800080; text-decoration-color: #800080\"> StorageKPIs </span>│<span style=\"color: #008000; text-decoration-color: #008000\">       </span>│\n",
       "└─────────────────────────┴─────────────┴───────┘\n",
       "</pre>\n"
      ],
      "text/plain": [
       "\u001b[1;35m                StorageConditions                \u001b[0m\n",
       "┏━━━━━━━━━━━━━━━━━━━━━━━━━┳━━━━━━━━━━━━━┳━━━━━━━┓\n",
       "┃\u001b[1m \u001b[0m\u001b[1mField                  \u001b[0m\u001b[1m \u001b[0m┃\u001b[1m \u001b[0m\u001b[1mType       \u001b[0m\u001b[1m \u001b[0m┃\u001b[1m \u001b[0m\u001b[1mAdder\u001b[0m\u001b[1m \u001b[0m┃\n",
       "┡━━━━━━━━━━━━━━━━━━━━━━━━━╇━━━━━━━━━━━━━╇━━━━━━━┩\n",
       "│\u001b[36m \u001b[0m\u001b[36mtemperature            \u001b[0m\u001b[36m \u001b[0m│\u001b[35m \u001b[0m\u001b[35mint        \u001b[0m\u001b[35m \u001b[0m│\u001b[32m \u001b[0m\u001b[32m     \u001b[0m\u001b[32m \u001b[0m│\n",
       "│\u001b[36m \u001b[0m\u001b[36madditices              \u001b[0m\u001b[36m \u001b[0m│\u001b[35m \u001b[0m\u001b[35mstr        \u001b[0m\u001b[35m \u001b[0m│\u001b[32m \u001b[0m\u001b[32m     \u001b[0m\u001b[32m \u001b[0m│\n",
       "│\u001b[36m \u001b[0m\u001b[36mstorage_performance_t12\u001b[0m\u001b[36m \u001b[0m│\u001b[35m \u001b[0m\u001b[35mint        \u001b[0m\u001b[35m \u001b[0m│\u001b[32m \u001b[0m\u001b[32m     \u001b[0m\u001b[32m \u001b[0m│\n",
       "│\u001b[36m \u001b[0m\u001b[36mspec_activity          \u001b[0m\u001b[36m \u001b[0m│\u001b[35m \u001b[0m\u001b[35mint        \u001b[0m\u001b[35m \u001b[0m│\u001b[32m \u001b[0m\u001b[32m     \u001b[0m\u001b[32m \u001b[0m│\n",
       "│\u001b[36m \u001b[0m\u001b[36mstorage_KPIs           \u001b[0m\u001b[36m \u001b[0m│\u001b[35m \u001b[0m\u001b[35mStorageKPIs\u001b[0m\u001b[35m \u001b[0m│\u001b[32m \u001b[0m\u001b[32m     \u001b[0m\u001b[32m \u001b[0m│\n",
       "└─────────────────────────┴─────────────┴───────┘\n"
      ]
     },
     "metadata": {},
     "output_type": "display_data"
    },
    {
     "data": {
      "text/html": [
       "<pre style=\"white-space:pre;overflow-x:auto;line-height:normal;font-family:Menlo,'DejaVu Sans Mono',consolas,'Courier New',monospace\"><span style=\"color: #800080; text-decoration-color: #800080; font-weight: bold\">                 Components                 </span>\n",
       "┏━━━━━━━━━━━━━━━━━━━━━━━━━━━┳━━━━━━┳━━━━━━━┓\n",
       "┃<span style=\"font-weight: bold\"> Field                     </span>┃<span style=\"font-weight: bold\"> Type </span>┃<span style=\"font-weight: bold\"> Adder </span>┃\n",
       "┡━━━━━━━━━━━━━━━━━━━━━━━━━━━╇━━━━━━╇━━━━━━━┩\n",
       "│<span style=\"color: #008080; text-decoration-color: #008080\"> Substrate                 </span>│<span style=\"color: #800080; text-decoration-color: #800080\"> str  </span>│<span style=\"color: #008000; text-decoration-color: #008000\">       </span>│\n",
       "│<span style=\"color: #008080; text-decoration-color: #008080\"> Substrate_smiles          </span>│<span style=\"color: #800080; text-decoration-color: #800080\"> str  </span>│<span style=\"color: #008000; text-decoration-color: #008000\">       </span>│\n",
       "│<span style=\"color: #008080; text-decoration-color: #008080\"> Product                   </span>│<span style=\"color: #800080; text-decoration-color: #800080\"> str  </span>│<span style=\"color: #008000; text-decoration-color: #008000\">       </span>│\n",
       "│<span style=\"color: #008080; text-decoration-color: #008080\"> Product_smiles            </span>│<span style=\"color: #800080; text-decoration-color: #800080\"> str  </span>│<span style=\"color: #008000; text-decoration-color: #008000\">       </span>│\n",
       "│<span style=\"color: #008080; text-decoration-color: #008080\"> Co_substrate              </span>│<span style=\"color: #800080; text-decoration-color: #800080\"> str  </span>│<span style=\"color: #008000; text-decoration-color: #008000\">       </span>│\n",
       "│<span style=\"color: #008080; text-decoration-color: #008080\"> Cosubstrate_smiles        </span>│<span style=\"color: #800080; text-decoration-color: #800080\"> str  </span>│<span style=\"color: #008000; text-decoration-color: #008000\">       </span>│\n",
       "│<span style=\"color: #008080; text-decoration-color: #008080\"> Cofactor                  </span>│<span style=\"color: #800080; text-decoration-color: #800080\"> str  </span>│<span style=\"color: #008000; text-decoration-color: #008000\">       </span>│\n",
       "│<span style=\"color: #008080; text-decoration-color: #008080\"> Cofactor_recycling_system </span>│<span style=\"color: #800080; text-decoration-color: #800080\"> str  </span>│<span style=\"color: #008000; text-decoration-color: #008000\">       </span>│\n",
       "└───────────────────────────┴──────┴───────┘\n",
       "</pre>\n"
      ],
      "text/plain": [
       "\u001b[1;35m                 Components                 \u001b[0m\n",
       "┏━━━━━━━━━━━━━━━━━━━━━━━━━━━┳━━━━━━┳━━━━━━━┓\n",
       "┃\u001b[1m \u001b[0m\u001b[1mField                    \u001b[0m\u001b[1m \u001b[0m┃\u001b[1m \u001b[0m\u001b[1mType\u001b[0m\u001b[1m \u001b[0m┃\u001b[1m \u001b[0m\u001b[1mAdder\u001b[0m\u001b[1m \u001b[0m┃\n",
       "┡━━━━━━━━━━━━━━━━━━━━━━━━━━━╇━━━━━━╇━━━━━━━┩\n",
       "│\u001b[36m \u001b[0m\u001b[36mSubstrate                \u001b[0m\u001b[36m \u001b[0m│\u001b[35m \u001b[0m\u001b[35mstr \u001b[0m\u001b[35m \u001b[0m│\u001b[32m \u001b[0m\u001b[32m     \u001b[0m\u001b[32m \u001b[0m│\n",
       "│\u001b[36m \u001b[0m\u001b[36mSubstrate_smiles         \u001b[0m\u001b[36m \u001b[0m│\u001b[35m \u001b[0m\u001b[35mstr \u001b[0m\u001b[35m \u001b[0m│\u001b[32m \u001b[0m\u001b[32m     \u001b[0m\u001b[32m \u001b[0m│\n",
       "│\u001b[36m \u001b[0m\u001b[36mProduct                  \u001b[0m\u001b[36m \u001b[0m│\u001b[35m \u001b[0m\u001b[35mstr \u001b[0m\u001b[35m \u001b[0m│\u001b[32m \u001b[0m\u001b[32m     \u001b[0m\u001b[32m \u001b[0m│\n",
       "│\u001b[36m \u001b[0m\u001b[36mProduct_smiles           \u001b[0m\u001b[36m \u001b[0m│\u001b[35m \u001b[0m\u001b[35mstr \u001b[0m\u001b[35m \u001b[0m│\u001b[32m \u001b[0m\u001b[32m     \u001b[0m\u001b[32m \u001b[0m│\n",
       "│\u001b[36m \u001b[0m\u001b[36mCo_substrate             \u001b[0m\u001b[36m \u001b[0m│\u001b[35m \u001b[0m\u001b[35mstr \u001b[0m\u001b[35m \u001b[0m│\u001b[32m \u001b[0m\u001b[32m     \u001b[0m\u001b[32m \u001b[0m│\n",
       "│\u001b[36m \u001b[0m\u001b[36mCosubstrate_smiles       \u001b[0m\u001b[36m \u001b[0m│\u001b[35m \u001b[0m\u001b[35mstr \u001b[0m\u001b[35m \u001b[0m│\u001b[32m \u001b[0m\u001b[32m     \u001b[0m\u001b[32m \u001b[0m│\n",
       "│\u001b[36m \u001b[0m\u001b[36mCofactor                 \u001b[0m\u001b[36m \u001b[0m│\u001b[35m \u001b[0m\u001b[35mstr \u001b[0m\u001b[35m \u001b[0m│\u001b[32m \u001b[0m\u001b[32m     \u001b[0m\u001b[32m \u001b[0m│\n",
       "│\u001b[36m \u001b[0m\u001b[36mCofactor_recycling_system\u001b[0m\u001b[36m \u001b[0m│\u001b[35m \u001b[0m\u001b[35mstr \u001b[0m\u001b[35m \u001b[0m│\u001b[32m \u001b[0m\u001b[32m     \u001b[0m\u001b[32m \u001b[0m│\n",
       "└───────────────────────────┴──────┴───────┘\n"
      ]
     },
     "metadata": {},
     "output_type": "display_data"
    },
    {
     "data": {
      "text/html": [
       "<pre style=\"white-space:pre;overflow-x:auto;line-height:normal;font-family:Menlo,'DejaVu Sans Mono',consolas,'Courier New',monospace\"><span style=\"color: #800080; text-decoration-color: #800080; font-weight: bold\">          ReactionConditions           </span>\n",
       "┏━━━━━━━━━━━━━━━━━━━━━━┳━━━━━━┳━━━━━━━┓\n",
       "┃<span style=\"font-weight: bold\"> Field                </span>┃<span style=\"font-weight: bold\"> Type </span>┃<span style=\"font-weight: bold\"> Adder </span>┃\n",
       "┡━━━━━━━━━━━━━━━━━━━━━━╇━━━━━━╇━━━━━━━┩\n",
       "│<span style=\"color: #008080; text-decoration-color: #008080\"> well_mixed_solutions </span>│<span style=\"color: #800080; text-decoration-color: #800080\"> str  </span>│<span style=\"color: #008000; text-decoration-color: #008000\">       </span>│\n",
       "│<span style=\"color: #008080; text-decoration-color: #008080\"> tubular_flow         </span>│<span style=\"color: #800080; text-decoration-color: #800080\"> str  </span>│<span style=\"color: #008000; text-decoration-color: #008000\">       </span>│\n",
       "└──────────────────────┴──────┴───────┘\n",
       "</pre>\n"
      ],
      "text/plain": [
       "\u001b[1;35m          ReactionConditions           \u001b[0m\n",
       "┏━━━━━━━━━━━━━━━━━━━━━━┳━━━━━━┳━━━━━━━┓\n",
       "┃\u001b[1m \u001b[0m\u001b[1mField               \u001b[0m\u001b[1m \u001b[0m┃\u001b[1m \u001b[0m\u001b[1mType\u001b[0m\u001b[1m \u001b[0m┃\u001b[1m \u001b[0m\u001b[1mAdder\u001b[0m\u001b[1m \u001b[0m┃\n",
       "┡━━━━━━━━━━━━━━━━━━━━━━╇━━━━━━╇━━━━━━━┩\n",
       "│\u001b[36m \u001b[0m\u001b[36mwell_mixed_solutions\u001b[0m\u001b[36m \u001b[0m│\u001b[35m \u001b[0m\u001b[35mstr \u001b[0m\u001b[35m \u001b[0m│\u001b[32m \u001b[0m\u001b[32m     \u001b[0m\u001b[32m \u001b[0m│\n",
       "│\u001b[36m \u001b[0m\u001b[36mtubular_flow        \u001b[0m\u001b[36m \u001b[0m│\u001b[35m \u001b[0m\u001b[35mstr \u001b[0m\u001b[35m \u001b[0m│\u001b[32m \u001b[0m\u001b[32m     \u001b[0m\u001b[32m \u001b[0m│\n",
       "└──────────────────────┴──────┴───────┘\n"
      ]
     },
     "metadata": {},
     "output_type": "display_data"
    },
    {
     "data": {
      "text/html": [
       "<pre style=\"white-space:pre;overflow-x:auto;line-height:normal;font-family:Menlo,'DejaVu Sans Mono',consolas,'Courier New',monospace\"><span style=\"color: #800080; text-decoration-color: #800080; font-weight: bold\">            CatalyticKPIs            </span>\n",
       "┏━━━━━━━━━━━━━━━━━━━━┳━━━━━━┳━━━━━━━┓\n",
       "┃<span style=\"font-weight: bold\"> Field              </span>┃<span style=\"font-weight: bold\"> Type </span>┃<span style=\"font-weight: bold\"> Adder </span>┃\n",
       "┡━━━━━━━━━━━━━━━━━━━━╇━━━━━━╇━━━━━━━┩\n",
       "│<span style=\"color: #008080; text-decoration-color: #008080\"> conversion         </span>│<span style=\"color: #800080; text-decoration-color: #800080\"> int  </span>│<span style=\"color: #008000; text-decoration-color: #008000\">       </span>│\n",
       "│<span style=\"color: #008080; text-decoration-color: #008080\"> turnover_number    </span>│<span style=\"color: #800080; text-decoration-color: #800080\"> int  </span>│<span style=\"color: #008000; text-decoration-color: #008000\">       </span>│\n",
       "│<span style=\"color: #008080; text-decoration-color: #008080\"> turnover_frequency </span>│<span style=\"color: #800080; text-decoration-color: #800080\"> int  </span>│<span style=\"color: #008000; text-decoration-color: #008000\">       </span>│\n",
       "│<span style=\"color: #008080; text-decoration-color: #008080\"> space_time_yield   </span>│<span style=\"color: #800080; text-decoration-color: #800080\"> int  </span>│<span style=\"color: #008000; text-decoration-color: #008000\">       </span>│\n",
       "│<span style=\"color: #008080; text-decoration-color: #008080\"> Enzyme_bleeding    </span>│<span style=\"color: #800080; text-decoration-color: #800080\"> str  </span>│<span style=\"color: #008000; text-decoration-color: #008000\">       </span>│\n",
       "│<span style=\"color: #008080; text-decoration-color: #008080\"> carrier_recovery   </span>│<span style=\"color: #800080; text-decoration-color: #800080\"> str  </span>│<span style=\"color: #008000; text-decoration-color: #008000\">       </span>│\n",
       "└────────────────────┴──────┴───────┘\n",
       "</pre>\n"
      ],
      "text/plain": [
       "\u001b[1;35m            CatalyticKPIs            \u001b[0m\n",
       "┏━━━━━━━━━━━━━━━━━━━━┳━━━━━━┳━━━━━━━┓\n",
       "┃\u001b[1m \u001b[0m\u001b[1mField             \u001b[0m\u001b[1m \u001b[0m┃\u001b[1m \u001b[0m\u001b[1mType\u001b[0m\u001b[1m \u001b[0m┃\u001b[1m \u001b[0m\u001b[1mAdder\u001b[0m\u001b[1m \u001b[0m┃\n",
       "┡━━━━━━━━━━━━━━━━━━━━╇━━━━━━╇━━━━━━━┩\n",
       "│\u001b[36m \u001b[0m\u001b[36mconversion        \u001b[0m\u001b[36m \u001b[0m│\u001b[35m \u001b[0m\u001b[35mint \u001b[0m\u001b[35m \u001b[0m│\u001b[32m \u001b[0m\u001b[32m     \u001b[0m\u001b[32m \u001b[0m│\n",
       "│\u001b[36m \u001b[0m\u001b[36mturnover_number   \u001b[0m\u001b[36m \u001b[0m│\u001b[35m \u001b[0m\u001b[35mint \u001b[0m\u001b[35m \u001b[0m│\u001b[32m \u001b[0m\u001b[32m     \u001b[0m\u001b[32m \u001b[0m│\n",
       "│\u001b[36m \u001b[0m\u001b[36mturnover_frequency\u001b[0m\u001b[36m \u001b[0m│\u001b[35m \u001b[0m\u001b[35mint \u001b[0m\u001b[35m \u001b[0m│\u001b[32m \u001b[0m\u001b[32m     \u001b[0m\u001b[32m \u001b[0m│\n",
       "│\u001b[36m \u001b[0m\u001b[36mspace_time_yield  \u001b[0m\u001b[36m \u001b[0m│\u001b[35m \u001b[0m\u001b[35mint \u001b[0m\u001b[35m \u001b[0m│\u001b[32m \u001b[0m\u001b[32m     \u001b[0m\u001b[32m \u001b[0m│\n",
       "│\u001b[36m \u001b[0m\u001b[36mEnzyme_bleeding   \u001b[0m\u001b[36m \u001b[0m│\u001b[35m \u001b[0m\u001b[35mstr \u001b[0m\u001b[35m \u001b[0m│\u001b[32m \u001b[0m\u001b[32m     \u001b[0m\u001b[32m \u001b[0m│\n",
       "│\u001b[36m \u001b[0m\u001b[36mcarrier_recovery  \u001b[0m\u001b[36m \u001b[0m│\u001b[35m \u001b[0m\u001b[35mstr \u001b[0m\u001b[35m \u001b[0m│\u001b[32m \u001b[0m\u001b[32m     \u001b[0m\u001b[32m \u001b[0m│\n",
       "└────────────────────┴──────┴───────┘\n"
      ]
     },
     "metadata": {},
     "output_type": "display_data"
    },
    {
     "data": {
      "text/html": [
       "<pre style=\"white-space:pre;overflow-x:auto;line-height:normal;font-family:Menlo,'DejaVu Sans Mono',consolas,'Courier New',monospace\"><span style=\"color: #800080; text-decoration-color: #800080; font-weight: bold\">                CatalyticPerformance                </span>\n",
       "┏━━━━━━━━━━━━━━━━━━━━━┳━━━━━━━━━━━━━━━━━━━━┳━━━━━━━┓\n",
       "┃<span style=\"font-weight: bold\"> Field               </span>┃<span style=\"font-weight: bold\"> Type               </span>┃<span style=\"font-weight: bold\"> Adder </span>┃\n",
       "┡━━━━━━━━━━━━━━━━━━━━━╇━━━━━━━━━━━━━━━━━━━━╇━━━━━━━┩\n",
       "│<span style=\"color: #008080; text-decoration-color: #008080\"> catalysed_reaction  </span>│<span style=\"color: #800080; text-decoration-color: #800080\"> str                </span>│<span style=\"color: #008000; text-decoration-color: #008000\">       </span>│\n",
       "│<span style=\"color: #008080; text-decoration-color: #008080\"> components          </span>│<span style=\"color: #800080; text-decoration-color: #800080\"> Components         </span>│<span style=\"color: #008000; text-decoration-color: #008000\">       </span>│\n",
       "│<span style=\"color: #008080; text-decoration-color: #008080\"> reaction_conditions </span>│<span style=\"color: #800080; text-decoration-color: #800080\"> ReactionConditions </span>│<span style=\"color: #008000; text-decoration-color: #008000\">       </span>│\n",
       "│<span style=\"color: #008080; text-decoration-color: #008080\"> catalytic_KPIs      </span>│<span style=\"color: #800080; text-decoration-color: #800080\"> CatalyticKPIs      </span>│<span style=\"color: #008000; text-decoration-color: #008000\">       </span>│\n",
       "└─────────────────────┴────────────────────┴───────┘\n",
       "</pre>\n"
      ],
      "text/plain": [
       "\u001b[1;35m                CatalyticPerformance                \u001b[0m\n",
       "┏━━━━━━━━━━━━━━━━━━━━━┳━━━━━━━━━━━━━━━━━━━━┳━━━━━━━┓\n",
       "┃\u001b[1m \u001b[0m\u001b[1mField              \u001b[0m\u001b[1m \u001b[0m┃\u001b[1m \u001b[0m\u001b[1mType              \u001b[0m\u001b[1m \u001b[0m┃\u001b[1m \u001b[0m\u001b[1mAdder\u001b[0m\u001b[1m \u001b[0m┃\n",
       "┡━━━━━━━━━━━━━━━━━━━━━╇━━━━━━━━━━━━━━━━━━━━╇━━━━━━━┩\n",
       "│\u001b[36m \u001b[0m\u001b[36mcatalysed_reaction \u001b[0m\u001b[36m \u001b[0m│\u001b[35m \u001b[0m\u001b[35mstr               \u001b[0m\u001b[35m \u001b[0m│\u001b[32m \u001b[0m\u001b[32m     \u001b[0m\u001b[32m \u001b[0m│\n",
       "│\u001b[36m \u001b[0m\u001b[36mcomponents         \u001b[0m\u001b[36m \u001b[0m│\u001b[35m \u001b[0m\u001b[35mComponents        \u001b[0m\u001b[35m \u001b[0m│\u001b[32m \u001b[0m\u001b[32m     \u001b[0m\u001b[32m \u001b[0m│\n",
       "│\u001b[36m \u001b[0m\u001b[36mreaction_conditions\u001b[0m\u001b[36m \u001b[0m│\u001b[35m \u001b[0m\u001b[35mReactionConditions\u001b[0m\u001b[35m \u001b[0m│\u001b[32m \u001b[0m\u001b[32m     \u001b[0m\u001b[32m \u001b[0m│\n",
       "│\u001b[36m \u001b[0m\u001b[36mcatalytic_KPIs     \u001b[0m\u001b[36m \u001b[0m│\u001b[35m \u001b[0m\u001b[35mCatalyticKPIs     \u001b[0m\u001b[35m \u001b[0m│\u001b[32m \u001b[0m\u001b[32m     \u001b[0m\u001b[32m \u001b[0m│\n",
       "└─────────────────────┴────────────────────┴───────┘\n"
      ]
     },
     "metadata": {},
     "output_type": "display_data"
    },
    {
     "data": {
      "text/html": [
       "<pre style=\"white-space:pre;overflow-x:auto;line-height:normal;font-family:Menlo,'DejaVu Sans Mono',consolas,'Courier New',monospace\"><span style=\"color: #800080; text-decoration-color: #800080; font-weight: bold\">                mKPIsEfficiency                 </span>\n",
       "┏━━━━━━━━━━━━━━━━━━━━━━━━━━━━━━━┳━━━━━━┳━━━━━━━┓\n",
       "┃<span style=\"font-weight: bold\"> Field                         </span>┃<span style=\"font-weight: bold\"> Type </span>┃<span style=\"font-weight: bold\"> Adder </span>┃\n",
       "┡━━━━━━━━━━━━━━━━━━━━━━━━━━━━━━━╇━━━━━━╇━━━━━━━┩\n",
       "│<span style=\"color: #008080; text-decoration-color: #008080\"> recovered_activity_efficiency </span>│<span style=\"color: #800080; text-decoration-color: #800080\"> int  </span>│<span style=\"color: #008000; text-decoration-color: #008000\">       </span>│\n",
       "│<span style=\"color: #008080; text-decoration-color: #008080\"> space_time_activity           </span>│<span style=\"color: #800080; text-decoration-color: #800080\"> int  </span>│<span style=\"color: #008000; text-decoration-color: #008000\">       </span>│\n",
       "│<span style=\"color: #008080; text-decoration-color: #008080\"> total_volumetric_turnovers    </span>│<span style=\"color: #800080; text-decoration-color: #800080\"> int  </span>│<span style=\"color: #008000; text-decoration-color: #008000\">       </span>│\n",
       "│<span style=\"color: #008080; text-decoration-color: #008080\"> total_process_productivity    </span>│<span style=\"color: #800080; text-decoration-color: #800080\"> int  </span>│<span style=\"color: #008000; text-decoration-color: #008000\">       </span>│\n",
       "└───────────────────────────────┴──────┴───────┘\n",
       "</pre>\n"
      ],
      "text/plain": [
       "\u001b[1;35m                mKPIsEfficiency                 \u001b[0m\n",
       "┏━━━━━━━━━━━━━━━━━━━━━━━━━━━━━━━┳━━━━━━┳━━━━━━━┓\n",
       "┃\u001b[1m \u001b[0m\u001b[1mField                        \u001b[0m\u001b[1m \u001b[0m┃\u001b[1m \u001b[0m\u001b[1mType\u001b[0m\u001b[1m \u001b[0m┃\u001b[1m \u001b[0m\u001b[1mAdder\u001b[0m\u001b[1m \u001b[0m┃\n",
       "┡━━━━━━━━━━━━━━━━━━━━━━━━━━━━━━━╇━━━━━━╇━━━━━━━┩\n",
       "│\u001b[36m \u001b[0m\u001b[36mrecovered_activity_efficiency\u001b[0m\u001b[36m \u001b[0m│\u001b[35m \u001b[0m\u001b[35mint \u001b[0m\u001b[35m \u001b[0m│\u001b[32m \u001b[0m\u001b[32m     \u001b[0m\u001b[32m \u001b[0m│\n",
       "│\u001b[36m \u001b[0m\u001b[36mspace_time_activity          \u001b[0m\u001b[36m \u001b[0m│\u001b[35m \u001b[0m\u001b[35mint \u001b[0m\u001b[35m \u001b[0m│\u001b[32m \u001b[0m\u001b[32m     \u001b[0m\u001b[32m \u001b[0m│\n",
       "│\u001b[36m \u001b[0m\u001b[36mtotal_volumetric_turnovers   \u001b[0m\u001b[36m \u001b[0m│\u001b[35m \u001b[0m\u001b[35mint \u001b[0m\u001b[35m \u001b[0m│\u001b[32m \u001b[0m\u001b[32m     \u001b[0m\u001b[32m \u001b[0m│\n",
       "│\u001b[36m \u001b[0m\u001b[36mtotal_process_productivity   \u001b[0m\u001b[36m \u001b[0m│\u001b[35m \u001b[0m\u001b[35mint \u001b[0m\u001b[35m \u001b[0m│\u001b[32m \u001b[0m\u001b[32m     \u001b[0m\u001b[32m \u001b[0m│\n",
       "└───────────────────────────────┴──────┴───────┘\n"
      ]
     },
     "metadata": {},
     "output_type": "display_data"
    },
    {
     "data": {
      "text/html": [
       "<pre style=\"white-space:pre;overflow-x:auto;line-height:normal;font-family:Menlo,'DejaVu Sans Mono',consolas,'Courier New',monospace\"><span style=\"color: #800080; text-decoration-color: #800080; font-weight: bold\">             Holistic_immobilisation_method             </span>\n",
       "┏━━━━━━━━━━━━━━━━━━━━━━━┳━━━━━━━━━━━━━━━━━━━━━━┳━━━━━━━┓\n",
       "┃<span style=\"font-weight: bold\"> Field                 </span>┃<span style=\"font-weight: bold\"> Type                 </span>┃<span style=\"font-weight: bold\"> Adder </span>┃\n",
       "┡━━━━━━━━━━━━━━━━━━━━━━━╇━━━━━━━━━━━━━━━━━━━━━━╇━━━━━━━┩\n",
       "│<span style=\"color: #008080; text-decoration-color: #008080\"> enzyme                </span>│<span style=\"color: #800080; text-decoration-color: #800080\"> Enzyme               </span>│<span style=\"color: #008000; text-decoration-color: #008000\">       </span>│\n",
       "│<span style=\"color: #008080; text-decoration-color: #008080\"> immobilisation        </span>│<span style=\"color: #800080; text-decoration-color: #800080\"> Immobilisation       </span>│<span style=\"color: #008000; text-decoration-color: #008000\">       </span>│\n",
       "│<span style=\"color: #008080; text-decoration-color: #008080\"> storage_conditions    </span>│<span style=\"color: #800080; text-decoration-color: #800080\"> StorageConditions    </span>│<span style=\"color: #008000; text-decoration-color: #008000\">       </span>│\n",
       "│<span style=\"color: #008080; text-decoration-color: #008080\"> catalytic_performance </span>│<span style=\"color: #800080; text-decoration-color: #800080\"> CatalyticPerformance </span>│<span style=\"color: #008000; text-decoration-color: #008000\">       </span>│\n",
       "│<span style=\"color: #008080; text-decoration-color: #008080\"> mKPIs_efficiency      </span>│<span style=\"color: #800080; text-decoration-color: #800080\"> mKPIsEfficiency      </span>│<span style=\"color: #008000; text-decoration-color: #008000\">       </span>│\n",
       "└───────────────────────┴──────────────────────┴───────┘\n",
       "</pre>\n"
      ],
      "text/plain": [
       "\u001b[1;35m             Holistic_immobilisation_method             \u001b[0m\n",
       "┏━━━━━━━━━━━━━━━━━━━━━━━┳━━━━━━━━━━━━━━━━━━━━━━┳━━━━━━━┓\n",
       "┃\u001b[1m \u001b[0m\u001b[1mField                \u001b[0m\u001b[1m \u001b[0m┃\u001b[1m \u001b[0m\u001b[1mType                \u001b[0m\u001b[1m \u001b[0m┃\u001b[1m \u001b[0m\u001b[1mAdder\u001b[0m\u001b[1m \u001b[0m┃\n",
       "┡━━━━━━━━━━━━━━━━━━━━━━━╇━━━━━━━━━━━━━━━━━━━━━━╇━━━━━━━┩\n",
       "│\u001b[36m \u001b[0m\u001b[36menzyme               \u001b[0m\u001b[36m \u001b[0m│\u001b[35m \u001b[0m\u001b[35mEnzyme              \u001b[0m\u001b[35m \u001b[0m│\u001b[32m \u001b[0m\u001b[32m     \u001b[0m\u001b[32m \u001b[0m│\n",
       "│\u001b[36m \u001b[0m\u001b[36mimmobilisation       \u001b[0m\u001b[36m \u001b[0m│\u001b[35m \u001b[0m\u001b[35mImmobilisation      \u001b[0m\u001b[35m \u001b[0m│\u001b[32m \u001b[0m\u001b[32m     \u001b[0m\u001b[32m \u001b[0m│\n",
       "│\u001b[36m \u001b[0m\u001b[36mstorage_conditions   \u001b[0m\u001b[36m \u001b[0m│\u001b[35m \u001b[0m\u001b[35mStorageConditions   \u001b[0m\u001b[35m \u001b[0m│\u001b[32m \u001b[0m\u001b[32m     \u001b[0m\u001b[32m \u001b[0m│\n",
       "│\u001b[36m \u001b[0m\u001b[36mcatalytic_performance\u001b[0m\u001b[36m \u001b[0m│\u001b[35m \u001b[0m\u001b[35mCatalyticPerformance\u001b[0m\u001b[35m \u001b[0m│\u001b[32m \u001b[0m\u001b[32m     \u001b[0m\u001b[32m \u001b[0m│\n",
       "│\u001b[36m \u001b[0m\u001b[36mmKPIs_efficiency     \u001b[0m\u001b[36m \u001b[0m│\u001b[35m \u001b[0m\u001b[35mmKPIsEfficiency     \u001b[0m\u001b[35m \u001b[0m│\u001b[32m \u001b[0m\u001b[32m     \u001b[0m\u001b[32m \u001b[0m│\n",
       "└───────────────────────┴──────────────────────┴───────┘\n"
      ]
     },
     "metadata": {},
     "output_type": "display_data"
    }
   ],
   "source": [
    "from mdmodels import DataModel\n",
    "my_model = DataModel.from_markdown(\"/home/sga/Schreibtisch/immo.md\")\n",
    "my_model.info()"
   ]
  },
  {
   "cell_type": "markdown",
   "metadata": {},
   "source": [
    "# Create Document"
   ]
  }
 ],
 "metadata": {
  "kernelspec": {
   "display_name": "xyz",
   "language": "python",
   "name": "python3"
  },
  "language_info": {
   "codemirror_mode": {
    "name": "ipython",
    "version": 3
   },
   "file_extension": ".py",
   "mimetype": "text/x-python",
   "name": "python",
   "nbconvert_exporter": "python",
   "pygments_lexer": "ipython3",
   "version": "3.13.2"
  }
 },
 "nbformat": 4,
 "nbformat_minor": 2
}
